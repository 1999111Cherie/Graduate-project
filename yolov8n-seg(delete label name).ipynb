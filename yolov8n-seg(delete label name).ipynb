{
  "cells": [
    {
      "cell_type": "code",
      "execution_count": null,
      "metadata": {
        "colab": {
          "base_uri": "https://localhost:8080/"
        },
        "id": "INvU-vJSTLuV",
        "outputId": "9a0a02ba-868e-4c7c-d27b-0f39c8392c9b"
      },
      "outputs": [
        {
          "name": "stdout",
          "output_type": "stream",
          "text": [
            "Collecting spicy\n",
            "  Downloading spicy-0.16.0-py2.py3-none-any.whl.metadata (310 bytes)\n",
            "Requirement already satisfied: scipy in /usr/local/lib/python3.10/dist-packages (from spicy) (1.13.1)\n",
            "Requirement already satisfied: numpy<2.3,>=1.22.4 in /usr/local/lib/python3.10/dist-packages (from scipy->spicy) (1.26.4)\n",
            "Downloading spicy-0.16.0-py2.py3-none-any.whl (1.7 kB)\n",
            "Installing collected packages: spicy\n",
            "Successfully installed spicy-0.16.0\n"
          ]
        }
      ],
      "source": [
        "!pip install spicy"
      ]
    },
    {
      "cell_type": "code",
      "execution_count": 7,
      "metadata": {
        "colab": {
          "base_uri": "https://localhost:8080/"
        },
        "id": "gEmF87jZTUMo",
        "outputId": "a1b9e631-9975-4b5a-fbe9-f418fb8ded95"
      },
      "outputs": [
        {
          "name": "stdout",
          "output_type": "stream",
          "text": [
            "Collecting ultralytics\n",
            "  Downloading ultralytics-8.2.98-py3-none-any.whl.metadata (39 kB)\n",
            "Requirement already satisfied: numpy<2.0.0,>=1.23.0 in /usr/local/lib/python3.10/dist-packages (from ultralytics) (1.26.4)\n",
            "Requirement already satisfied: matplotlib>=3.3.0 in /usr/local/lib/python3.10/dist-packages (from ultralytics) (3.7.1)\n",
            "Requirement already satisfied: opencv-python>=4.6.0 in /usr/local/lib/python3.10/dist-packages (from ultralytics) (4.10.0.84)\n",
            "Requirement already satisfied: pillow>=7.1.2 in /usr/local/lib/python3.10/dist-packages (from ultralytics) (10.4.0)\n",
            "Requirement already satisfied: pyyaml>=5.3.1 in /usr/local/lib/python3.10/dist-packages (from ultralytics) (6.0.2)\n",
            "Requirement already satisfied: requests>=2.23.0 in /usr/local/lib/python3.10/dist-packages (from ultralytics) (2.32.3)\n",
            "Requirement already satisfied: scipy>=1.4.1 in /usr/local/lib/python3.10/dist-packages (from ultralytics) (1.13.1)\n",
            "Requirement already satisfied: torch>=1.8.0 in /usr/local/lib/python3.10/dist-packages (from ultralytics) (2.4.1+cu121)\n",
            "Requirement already satisfied: torchvision>=0.9.0 in /usr/local/lib/python3.10/dist-packages (from ultralytics) (0.19.1+cu121)\n",
            "Requirement already satisfied: tqdm>=4.64.0 in /usr/local/lib/python3.10/dist-packages (from ultralytics) (4.66.5)\n",
            "Requirement already satisfied: psutil in /usr/local/lib/python3.10/dist-packages (from ultralytics) (5.9.5)\n",
            "Requirement already satisfied: py-cpuinfo in /usr/local/lib/python3.10/dist-packages (from ultralytics) (9.0.0)\n",
            "Requirement already satisfied: pandas>=1.1.4 in /usr/local/lib/python3.10/dist-packages (from ultralytics) (2.1.4)\n",
            "Requirement already satisfied: seaborn>=0.11.0 in /usr/local/lib/python3.10/dist-packages (from ultralytics) (0.13.1)\n",
            "Collecting ultralytics-thop>=2.0.0 (from ultralytics)\n",
            "  Downloading ultralytics_thop-2.0.6-py3-none-any.whl.metadata (9.1 kB)\n",
            "Requirement already satisfied: contourpy>=1.0.1 in /usr/local/lib/python3.10/dist-packages (from matplotlib>=3.3.0->ultralytics) (1.3.0)\n",
            "Requirement already satisfied: cycler>=0.10 in /usr/local/lib/python3.10/dist-packages (from matplotlib>=3.3.0->ultralytics) (0.12.1)\n",
            "Requirement already satisfied: fonttools>=4.22.0 in /usr/local/lib/python3.10/dist-packages (from matplotlib>=3.3.0->ultralytics) (4.53.1)\n",
            "Requirement already satisfied: kiwisolver>=1.0.1 in /usr/local/lib/python3.10/dist-packages (from matplotlib>=3.3.0->ultralytics) (1.4.7)\n",
            "Requirement already satisfied: packaging>=20.0 in /usr/local/lib/python3.10/dist-packages (from matplotlib>=3.3.0->ultralytics) (24.1)\n",
            "Requirement already satisfied: pyparsing>=2.3.1 in /usr/local/lib/python3.10/dist-packages (from matplotlib>=3.3.0->ultralytics) (3.1.4)\n",
            "Requirement already satisfied: python-dateutil>=2.7 in /usr/local/lib/python3.10/dist-packages (from matplotlib>=3.3.0->ultralytics) (2.8.2)\n",
            "Requirement already satisfied: pytz>=2020.1 in /usr/local/lib/python3.10/dist-packages (from pandas>=1.1.4->ultralytics) (2024.2)\n",
            "Requirement already satisfied: tzdata>=2022.1 in /usr/local/lib/python3.10/dist-packages (from pandas>=1.1.4->ultralytics) (2024.1)\n",
            "Requirement already satisfied: charset-normalizer<4,>=2 in /usr/local/lib/python3.10/dist-packages (from requests>=2.23.0->ultralytics) (3.3.2)\n",
            "Requirement already satisfied: idna<4,>=2.5 in /usr/local/lib/python3.10/dist-packages (from requests>=2.23.0->ultralytics) (3.10)\n",
            "Requirement already satisfied: urllib3<3,>=1.21.1 in /usr/local/lib/python3.10/dist-packages (from requests>=2.23.0->ultralytics) (2.0.7)\n",
            "Requirement already satisfied: certifi>=2017.4.17 in /usr/local/lib/python3.10/dist-packages (from requests>=2.23.0->ultralytics) (2024.8.30)\n",
            "Requirement already satisfied: filelock in /usr/local/lib/python3.10/dist-packages (from torch>=1.8.0->ultralytics) (3.16.1)\n",
            "Requirement already satisfied: typing-extensions>=4.8.0 in /usr/local/lib/python3.10/dist-packages (from torch>=1.8.0->ultralytics) (4.12.2)\n",
            "Requirement already satisfied: sympy in /usr/local/lib/python3.10/dist-packages (from torch>=1.8.0->ultralytics) (1.13.2)\n",
            "Requirement already satisfied: networkx in /usr/local/lib/python3.10/dist-packages (from torch>=1.8.0->ultralytics) (3.3)\n",
            "Requirement already satisfied: jinja2 in /usr/local/lib/python3.10/dist-packages (from torch>=1.8.0->ultralytics) (3.1.4)\n",
            "Requirement already satisfied: fsspec in /usr/local/lib/python3.10/dist-packages (from torch>=1.8.0->ultralytics) (2024.6.1)\n",
            "Requirement already satisfied: six>=1.5 in /usr/local/lib/python3.10/dist-packages (from python-dateutil>=2.7->matplotlib>=3.3.0->ultralytics) (1.16.0)\n",
            "Requirement already satisfied: MarkupSafe>=2.0 in /usr/local/lib/python3.10/dist-packages (from jinja2->torch>=1.8.0->ultralytics) (2.1.5)\n",
            "Requirement already satisfied: mpmath<1.4,>=1.1.0 in /usr/local/lib/python3.10/dist-packages (from sympy->torch>=1.8.0->ultralytics) (1.3.0)\n",
            "Downloading ultralytics-8.2.98-py3-none-any.whl (873 kB)\n",
            "\u001b[2K   \u001b[90m━━━━━━━━━━━━━━━━━━━━━━━━━━━━━━━━━━━━━━━━\u001b[0m \u001b[32m873.6/873.6 kB\u001b[0m \u001b[31m53.5 MB/s\u001b[0m eta \u001b[36m0:00:00\u001b[0m\n",
            "\u001b[?25hDownloading ultralytics_thop-2.0.6-py3-none-any.whl (26 kB)\n",
            "Installing collected packages: ultralytics-thop, ultralytics\n",
            "Successfully installed ultralytics-8.2.98 ultralytics-thop-2.0.6\n"
          ]
        }
      ],
      "source": [
        "!pip install ultralytics"
      ]
    },
    {
      "cell_type": "markdown",
      "metadata": {
        "id": "wgLhZUZzb93O"
      },
      "source": [
        "delete label name -**BIFPN&yolov8x**"
      ]
    },
    {
      "cell_type": "code",
      "execution_count": 39,
      "metadata": {
        "colab": {
          "base_uri": "https://localhost:8080/"
        },
        "collapsed": true,
        "id": "vFU3UQp11tok",
        "outputId": "0b232ac1-c398-425b-82cc-965561bcefb0"
      },
      "outputs": [
        {
          "name": "stdout",
          "output_type": "stream",
          "text": [
            "Archive:  /content/labels.zip\n",
            "   creating: /content/labels/\n",
            "   creating: /content/labels/train/\n",
            "  inflating: /content/labels/train/0001.txt  \n",
            "  inflating: /content/labels/train/0002.txt  \n",
            "  inflating: /content/labels/train/0003.txt  \n",
            "  inflating: /content/labels/train/0004.txt  \n",
            "  inflating: /content/labels/train/0005.txt  \n",
            "  inflating: /content/labels/train/0006.txt  \n",
            "  inflating: /content/labels/train/0007.txt  \n",
            "  inflating: /content/labels/train/0008.txt  \n",
            "  inflating: /content/labels/train/0009.txt  \n",
            "  inflating: /content/labels/train/0010.txt  \n",
            "  inflating: /content/labels/train/0011.txt  \n",
            "  inflating: /content/labels/train/0012.txt  \n",
            "  inflating: /content/labels/train/0013.txt  \n",
            "  inflating: /content/labels/train/0014.txt  \n",
            "  inflating: /content/labels/train/0015.txt  \n",
            "  inflating: /content/labels/train/0016.txt  \n",
            "  inflating: /content/labels/train/0017.txt  \n",
            "  inflating: /content/labels/train/0018.txt  \n",
            "  inflating: /content/labels/train/0019.txt  \n",
            "  inflating: /content/labels/train/0020.txt  \n",
            "  inflating: /content/labels/train/0021.txt  \n",
            "  inflating: /content/labels/train/0022.txt  \n",
            "  inflating: /content/labels/train/0023.txt  \n",
            "  inflating: /content/labels/train/0024.txt  \n",
            "  inflating: /content/labels/train/0025.txt  \n",
            "  inflating: /content/labels/train/0026.txt  \n",
            "  inflating: /content/labels/train/0027.txt  \n",
            "  inflating: /content/labels/train/0028.txt  \n",
            "  inflating: /content/labels/train/0029.txt  \n",
            "  inflating: /content/labels/train/0030.txt  \n",
            "  inflating: /content/labels/train/0031.txt  \n",
            "  inflating: /content/labels/train/0032.txt  \n",
            "  inflating: /content/labels/train/0033.txt  \n",
            "  inflating: /content/labels/train/0034.txt  \n",
            "  inflating: /content/labels/train/0035.txt  \n",
            "  inflating: /content/labels/train/0036.txt  \n",
            "  inflating: /content/labels/train/0037.txt  \n",
            "  inflating: /content/labels/train/0038.txt  \n",
            "  inflating: /content/labels/train/0039.txt  \n",
            "  inflating: /content/labels/train/0040.txt  \n",
            "  inflating: /content/labels/train/0041.txt  \n",
            "  inflating: /content/labels/train/0042.txt  \n",
            "  inflating: /content/labels/train/0043.txt  \n",
            "  inflating: /content/labels/train/0044.txt  \n",
            "  inflating: /content/labels/train/0045.txt  \n",
            "  inflating: /content/labels/train/0046.txt  \n",
            "  inflating: /content/labels/train/0047.txt  \n",
            "  inflating: /content/labels/train/0048.txt  \n",
            "  inflating: /content/labels/train/0049.txt  \n",
            "  inflating: /content/labels/train/0050.txt  \n",
            "  inflating: /content/labels/train/0051.txt  \n",
            "  inflating: /content/labels/train/0052.txt  \n",
            "  inflating: /content/labels/train/0053.txt  \n",
            "  inflating: /content/labels/train/0054.txt  \n",
            "  inflating: /content/labels/train/0055.txt  \n",
            "  inflating: /content/labels/train/0056.txt  \n",
            "  inflating: /content/labels/train/0057.txt  \n",
            "  inflating: /content/labels/train/0058.txt  \n",
            "  inflating: /content/labels/train/0059.txt  \n",
            "  inflating: /content/labels/train/0060.txt  \n",
            "  inflating: /content/labels/train/0061.txt  \n",
            "  inflating: /content/labels/train/0062.txt  \n",
            "  inflating: /content/labels/train/0063.txt  \n",
            "  inflating: /content/labels/train/0064.txt  \n",
            "  inflating: /content/labels/train/0065.txt  \n",
            "  inflating: /content/labels/train/0066.txt  \n",
            "  inflating: /content/labels/train/0067.txt  \n",
            "  inflating: /content/labels/train/0068.txt  \n",
            "  inflating: /content/labels/train/0069.txt  \n",
            "  inflating: /content/labels/train/0070.txt  \n",
            "  inflating: /content/labels/train/0071.txt  \n",
            "  inflating: /content/labels/train/0072.txt  \n",
            "  inflating: /content/labels/train/0073.txt  \n",
            "  inflating: /content/labels/train/0074.txt  \n",
            "  inflating: /content/labels/train/0075.txt  \n",
            "  inflating: /content/labels/train/0076.txt  \n",
            "  inflating: /content/labels/train/0077.txt  \n",
            "  inflating: /content/labels/train/0078.txt  \n",
            "  inflating: /content/labels/train/0079.txt  \n",
            "  inflating: /content/labels/train/0080.txt  \n",
            "  inflating: /content/labels/train/0081.txt  \n",
            "  inflating: /content/labels/train/0082.txt  \n",
            "  inflating: /content/labels/train/0083.txt  \n",
            "  inflating: /content/labels/train/0084.txt  \n",
            "  inflating: /content/labels/train/0085.txt  \n",
            "  inflating: /content/labels/train/0086.txt  \n",
            "  inflating: /content/labels/train/0087.txt  \n",
            "  inflating: /content/labels/train/0088.txt  \n",
            "  inflating: /content/labels/train/0089.txt  \n",
            "  inflating: /content/labels/train/0090.txt  \n",
            "  inflating: /content/labels/train/0091.txt  \n",
            "  inflating: /content/labels/train/0092.txt  \n",
            "  inflating: /content/labels/train/0093.txt  \n",
            "  inflating: /content/labels/train/0094.txt  \n",
            "  inflating: /content/labels/train/0095.txt  \n",
            "  inflating: /content/labels/train/0096.txt  \n",
            "  inflating: /content/labels/train/0097.txt  \n",
            "  inflating: /content/labels/train/0098.txt  \n",
            "  inflating: /content/labels/train/0099.txt  \n",
            "  inflating: /content/labels/train/0100.txt  \n",
            "  inflating: /content/labels/train/0101.txt  \n",
            "  inflating: /content/labels/train/0102.txt  \n",
            "  inflating: /content/labels/train/0103.txt  \n",
            "  inflating: /content/labels/train/0104.txt  \n",
            "  inflating: /content/labels/train/0105.txt  \n",
            "  inflating: /content/labels/train/0106.txt  \n",
            "  inflating: /content/labels/train/0107.txt  \n",
            "  inflating: /content/labels/train/0108.txt  \n",
            "  inflating: /content/labels/train/0109.txt  \n",
            "  inflating: /content/labels/train/0110.txt  \n",
            "  inflating: /content/labels/train/0111.txt  \n",
            "  inflating: /content/labels/train/0112.txt  \n",
            "  inflating: /content/labels/train/0113.txt  \n",
            "  inflating: /content/labels/train/0114.txt  \n",
            "  inflating: /content/labels/train/0115.txt  \n",
            "  inflating: /content/labels/train/0116.txt  \n",
            "  inflating: /content/labels/train/0117.txt  \n",
            "  inflating: /content/labels/train/0118.txt  \n",
            "  inflating: /content/labels/train/0119.txt  \n",
            "  inflating: /content/labels/train/0120.txt  \n",
            "  inflating: /content/labels/train/0121.txt  \n",
            "  inflating: /content/labels/train/0122.txt  \n",
            "  inflating: /content/labels/train/0123.txt  \n",
            "  inflating: /content/labels/train/0124.txt  \n",
            "  inflating: /content/labels/train/0125.txt  \n",
            "  inflating: /content/labels/train/0126.txt  \n",
            "  inflating: /content/labels/train/0127.txt  \n",
            "  inflating: /content/labels/train/0128.txt  \n",
            "  inflating: /content/labels/train/0129.txt  \n",
            "  inflating: /content/labels/train/0130.txt  \n",
            "  inflating: /content/labels/train/0131.txt  \n",
            "  inflating: /content/labels/train/0132.txt  \n",
            "  inflating: /content/labels/train/0133.txt  \n",
            "  inflating: /content/labels/train/0134.txt  \n",
            "  inflating: /content/labels/train/0135.txt  \n",
            "  inflating: /content/labels/train/0136.txt  \n",
            "  inflating: /content/labels/train/0137.txt  \n",
            "  inflating: /content/labels/train/0138.txt  \n",
            "  inflating: /content/labels/train/0139.txt  \n",
            "  inflating: /content/labels/train/0140.txt  \n",
            "  inflating: /content/labels/train/0141.txt  \n",
            "  inflating: /content/labels/train/0142.txt  \n",
            "  inflating: /content/labels/train/0143.txt  \n",
            "  inflating: /content/labels/train/0144.txt  \n",
            "  inflating: /content/labels/train/0145.txt  \n",
            "  inflating: /content/labels/train/0146.txt  \n",
            "  inflating: /content/labels/train/0147.txt  \n",
            "  inflating: /content/labels/train/0148.txt  \n",
            "  inflating: /content/labels/train/0149.txt  \n",
            "  inflating: /content/labels/train/0150.txt  \n",
            "  inflating: /content/labels/train/0151.txt  \n",
            "  inflating: /content/labels/train/0152.txt  \n",
            "  inflating: /content/labels/train/0153.txt  \n",
            "  inflating: /content/labels/train/0154.txt  \n",
            "  inflating: /content/labels/train/0155.txt  \n",
            "  inflating: /content/labels/train/0156.txt  \n",
            "  inflating: /content/labels/train/0157.txt  \n",
            "  inflating: /content/labels/train/0158.txt  \n",
            "  inflating: /content/labels/train/0159.txt  \n",
            "  inflating: /content/labels/train/0160.txt  \n",
            "  inflating: /content/labels/train/0161.txt  \n",
            "  inflating: /content/labels/train/0162.txt  \n",
            "  inflating: /content/labels/train/0163.txt  \n",
            "  inflating: /content/labels/train/0164.txt  \n",
            "  inflating: /content/labels/train/0165.txt  \n",
            "  inflating: /content/labels/train/0166.txt  \n",
            "  inflating: /content/labels/train/0167.txt  \n",
            "  inflating: /content/labels/train/0168.txt  \n",
            "  inflating: /content/labels/train/0169.txt  \n",
            "  inflating: /content/labels/train/0170.txt  \n",
            "  inflating: /content/labels/train/0171.txt  \n",
            "  inflating: /content/labels/train/0172.txt  \n",
            "  inflating: /content/labels/train/0173.txt  \n",
            "  inflating: /content/labels/train/0174.txt  \n",
            "  inflating: /content/labels/train/0175.txt  \n",
            "  inflating: /content/labels/train/0176.txt  \n",
            "  inflating: /content/labels/train/0177.txt  \n",
            "  inflating: /content/labels/train/0178.txt  \n",
            "  inflating: /content/labels/train/0179.txt  \n",
            "  inflating: /content/labels/train/0180.txt  \n",
            "  inflating: /content/labels/train/0181.txt  \n",
            "  inflating: /content/labels/train/0182.txt  \n",
            "  inflating: /content/labels/train/0183.txt  \n",
            "  inflating: /content/labels/train/0184.txt  \n",
            "  inflating: /content/labels/train/0185.txt  \n",
            "  inflating: /content/labels/train/0186.txt  \n",
            "  inflating: /content/labels/train/0187.txt  \n",
            "  inflating: /content/labels/train/0188.txt  \n",
            "  inflating: /content/labels/train/0189.txt  \n",
            "  inflating: /content/labels/train/0190.txt  \n",
            "  inflating: /content/labels/train/0191.txt  \n",
            "  inflating: /content/labels/train/0192.txt  \n",
            "  inflating: /content/labels/train/0193.txt  \n",
            "  inflating: /content/labels/train/0194.txt  \n",
            "  inflating: /content/labels/train/0195.txt  \n",
            "  inflating: /content/labels/train/0196.txt  \n",
            "  inflating: /content/labels/train/0197.txt  \n",
            "  inflating: /content/labels/train/0198.txt  \n",
            "  inflating: /content/labels/train/0199.txt  \n",
            "  inflating: /content/labels/train/0200.txt  \n",
            "  inflating: /content/labels/train/0201.txt  \n",
            "  inflating: /content/labels/train/0202.txt  \n",
            "  inflating: /content/labels/train/0203.txt  \n",
            "  inflating: /content/labels/train/0204.txt  \n",
            "  inflating: /content/labels/train/0205.txt  \n",
            "  inflating: /content/labels/train/0206.txt  \n",
            "  inflating: /content/labels/train/0207.txt  \n",
            "  inflating: /content/labels/train/0208.txt  \n",
            "  inflating: /content/labels/train/0209.txt  \n",
            "  inflating: /content/labels/train/0210.txt  \n",
            "  inflating: /content/labels/train/0211.txt  \n",
            "  inflating: /content/labels/train/0212.txt  \n",
            "  inflating: /content/labels/train/0213.txt  \n",
            "  inflating: /content/labels/train/0214.txt  \n",
            "  inflating: /content/labels/train/0215.txt  \n",
            "  inflating: /content/labels/train/0216.txt  \n",
            "  inflating: /content/labels/train/0217.txt  \n",
            "  inflating: /content/labels/train/0218.txt  \n",
            "  inflating: /content/labels/train/0219.txt  \n",
            "  inflating: /content/labels/train/0220.txt  \n",
            "  inflating: /content/labels/train/0221.txt  \n",
            "  inflating: /content/labels/train/0222.txt  \n",
            "  inflating: /content/labels/train/0223.txt  \n",
            "  inflating: /content/labels/train/0224.txt  \n",
            "  inflating: /content/labels/train/0225.txt  \n",
            "  inflating: /content/labels/train/0226.txt  \n",
            "  inflating: /content/labels/train/0227.txt  \n",
            "  inflating: /content/labels/train/0228.txt  \n",
            "  inflating: /content/labels/train/0229.txt  \n",
            "  inflating: /content/labels/train/0230.txt  \n",
            "  inflating: /content/labels/train/0231.txt  \n",
            "  inflating: /content/labels/train/0232.txt  \n",
            "  inflating: /content/labels/train/0233.txt  \n",
            "  inflating: /content/labels/train/0234.txt  \n",
            "  inflating: /content/labels/train/0235.txt  \n",
            "  inflating: /content/labels/train/0236.txt  \n",
            "  inflating: /content/labels/train/0237.txt  \n",
            "  inflating: /content/labels/train/0238.txt  \n",
            "  inflating: /content/labels/train/0239.txt  \n",
            "  inflating: /content/labels/train/0240.txt  \n",
            "  inflating: /content/labels/train/0241.txt  \n",
            "  inflating: /content/labels/train/0242.txt  \n",
            "  inflating: /content/labels/train/0243.txt  \n",
            "  inflating: /content/labels/train/0244.txt  \n",
            "  inflating: /content/labels/train/0245.txt  \n",
            "  inflating: /content/labels/train/0246.txt  \n",
            "  inflating: /content/labels/train/0247.txt  \n",
            "  inflating: /content/labels/train/0248.txt  \n",
            "  inflating: /content/labels/train/0249.txt  \n",
            "  inflating: /content/labels/train/0250.txt  \n",
            "  inflating: /content/labels/train/0251.txt  \n",
            "  inflating: /content/labels/train/0252.txt  \n",
            "  inflating: /content/labels/train/0253.txt  \n",
            "  inflating: /content/labels/train/0254.txt  \n",
            "  inflating: /content/labels/train/0255.txt  \n",
            "  inflating: /content/labels/train/0256.txt  \n",
            "  inflating: /content/labels/train/0257.txt  \n",
            "  inflating: /content/labels/train/0258.txt  \n",
            "  inflating: /content/labels/train/0259.txt  \n",
            "  inflating: /content/labels/train/0260.txt  \n",
            "  inflating: /content/labels/train/0261.txt  \n",
            "  inflating: /content/labels/train/0262.txt  \n",
            "  inflating: /content/labels/train/0263.txt  \n",
            "  inflating: /content/labels/train/0264.txt  \n",
            "  inflating: /content/labels/train/0265.txt  \n",
            "  inflating: /content/labels/train/0266.txt  \n",
            "  inflating: /content/labels/train/0267.txt  \n",
            "  inflating: /content/labels/train/0268.txt  \n",
            "  inflating: /content/labels/train/0269.txt  \n",
            "  inflating: /content/labels/train/0270.txt  \n",
            "  inflating: /content/labels/train/0271.txt  \n",
            "  inflating: /content/labels/train/0272.txt  \n",
            "  inflating: /content/labels/train/0273.txt  \n",
            "  inflating: /content/labels/train/0274.txt  \n",
            "  inflating: /content/labels/train/0275.txt  \n",
            "  inflating: /content/labels/train/0276.txt  \n",
            "  inflating: /content/labels/train/0277.txt  \n",
            "  inflating: /content/labels/train/0278.txt  \n",
            "  inflating: /content/labels/train/0279.txt  \n",
            "  inflating: /content/labels/train/0280.txt  \n",
            "  inflating: /content/labels/train/0281.txt  \n",
            "  inflating: /content/labels/train/0282.txt  \n",
            "  inflating: /content/labels/train/0283.txt  \n",
            "  inflating: /content/labels/train/0284.txt  \n",
            "  inflating: /content/labels/train/0285.txt  \n",
            "  inflating: /content/labels/train/0286.txt  \n",
            "  inflating: /content/labels/train/0287.txt  \n",
            "  inflating: /content/labels/train/0288.txt  \n",
            "  inflating: /content/labels/train/0289.txt  \n",
            "  inflating: /content/labels/train/0290.txt  \n",
            "  inflating: /content/labels/train/0291.txt  \n",
            "  inflating: /content/labels/train/0292.txt  \n",
            "  inflating: /content/labels/train/0293.txt  \n",
            "  inflating: /content/labels/train/0294.txt  \n",
            "  inflating: /content/labels/train/0295.txt  \n",
            "  inflating: /content/labels/train/0296.txt  \n",
            "  inflating: /content/labels/train/0297.txt  \n",
            "  inflating: /content/labels/train/0298.txt  \n",
            "  inflating: /content/labels/train/0299.txt  \n",
            "  inflating: /content/labels/train/0300.txt  \n",
            "  inflating: /content/labels/train/0301.txt  \n",
            "  inflating: /content/labels/train/0302.txt  \n",
            "  inflating: /content/labels/train/0303.txt  \n",
            "  inflating: /content/labels/train/0304.txt  \n",
            "  inflating: /content/labels/train/0305.txt  \n",
            "  inflating: /content/labels/train/0306.txt  \n",
            "  inflating: /content/labels/train/0307.txt  \n",
            "  inflating: /content/labels/train/0308.txt  \n",
            "  inflating: /content/labels/train/0309.txt  \n",
            "  inflating: /content/labels/train/0310.txt  \n",
            "  inflating: /content/labels/train/0311.txt  \n",
            "  inflating: /content/labels/train/0312.txt  \n",
            "  inflating: /content/labels/train/0313.txt  \n",
            "  inflating: /content/labels/train/0314.txt  \n",
            "  inflating: /content/labels/train/0315.txt  \n",
            "  inflating: /content/labels/train/0316.txt  \n",
            "  inflating: /content/labels/train/0317.txt  \n",
            "  inflating: /content/labels/train/0318.txt  \n",
            "  inflating: /content/labels/train/0319.txt  \n",
            "  inflating: /content/labels/train/0320.txt  \n",
            "  inflating: /content/labels/train/0321.txt  \n",
            "  inflating: /content/labels/train/0322.txt  \n",
            "  inflating: /content/labels/train/0323.txt  \n",
            "  inflating: /content/labels/train/0324.txt  \n",
            "  inflating: /content/labels/train/0325.txt  \n",
            "  inflating: /content/labels/train/0326.txt  \n",
            "  inflating: /content/labels/train/0327.txt  \n",
            "  inflating: /content/labels/train/0328.txt  \n",
            "  inflating: /content/labels/train/0329.txt  \n",
            "  inflating: /content/labels/train/0330.txt  \n",
            "  inflating: /content/labels/train/0331.txt  \n",
            "  inflating: /content/labels/train/0332.txt  \n",
            "  inflating: /content/labels/train/0333.txt  \n",
            "  inflating: /content/labels/train/0334.txt  \n",
            "  inflating: /content/labels/train/0335.txt  \n",
            "  inflating: /content/labels/train/0336.txt  \n",
            "  inflating: /content/labels/train/0337.txt  \n",
            "  inflating: /content/labels/train/0338.txt  \n",
            "  inflating: /content/labels/train/0339.txt  \n",
            "  inflating: /content/labels/train/0340.txt  \n",
            "  inflating: /content/labels/train/0341.txt  \n",
            "  inflating: /content/labels/train/0342.txt  \n",
            "  inflating: /content/labels/train/0343.txt  \n",
            "  inflating: /content/labels/train/0344.txt  \n",
            "  inflating: /content/labels/train/0345.txt  \n",
            "  inflating: /content/labels/train/0346.txt  \n",
            "  inflating: /content/labels/train/0347.txt  \n",
            "  inflating: /content/labels/train/0348.txt  \n",
            "  inflating: /content/labels/train/0349.txt  \n",
            "  inflating: /content/labels/train/0350.txt  \n",
            "  inflating: /content/labels/train/0351.txt  \n",
            "  inflating: /content/labels/train/0352.txt  \n",
            "  inflating: /content/labels/train/0353.txt  \n",
            "  inflating: /content/labels/train/0354.txt  \n",
            "  inflating: /content/labels/train/0355.txt  \n",
            "  inflating: /content/labels/train/0356.txt  \n",
            "  inflating: /content/labels/train/0357.txt  \n",
            "  inflating: /content/labels/train/0358.txt  \n",
            "  inflating: /content/labels/train/0359.txt  \n",
            "  inflating: /content/labels/train/0360.txt  \n",
            "  inflating: /content/labels/train/0361.txt  \n",
            "  inflating: /content/labels/train/0362.txt  \n",
            "  inflating: /content/labels/train/0363.txt  \n",
            "  inflating: /content/labels/train/0364.txt  \n",
            "  inflating: /content/labels/train/0365.txt  \n",
            "  inflating: /content/labels/train/0366.txt  \n",
            "  inflating: /content/labels/train/0367.txt  \n",
            "  inflating: /content/labels/train/0368.txt  \n",
            "  inflating: /content/labels/train/0369.txt  \n",
            "  inflating: /content/labels/train/0370.txt  \n",
            "  inflating: /content/labels/train/0371.txt  \n",
            "  inflating: /content/labels/train/0372.txt  \n",
            "  inflating: /content/labels/train/0373.txt  \n",
            "  inflating: /content/labels/train/0374.txt  \n",
            "  inflating: /content/labels/train/0375.txt  \n",
            "  inflating: /content/labels/train/0376.txt  \n",
            "  inflating: /content/labels/train/0377.txt  \n",
            "  inflating: /content/labels/train/0378.txt  \n",
            "  inflating: /content/labels/train/0379.txt  \n",
            "  inflating: /content/labels/train/0380.txt  \n",
            "  inflating: /content/labels/train/0381.txt  \n",
            "  inflating: /content/labels/train/0382.txt  \n",
            "  inflating: /content/labels/train/0383.txt  \n",
            "  inflating: /content/labels/train/0384.txt  \n",
            "  inflating: /content/labels/train/0385.txt  \n",
            "  inflating: /content/labels/train/0386.txt  \n",
            "  inflating: /content/labels/train/0387.txt  \n",
            "  inflating: /content/labels/train/0388.txt  \n",
            "  inflating: /content/labels/train/0389.txt  \n",
            "  inflating: /content/labels/train/0390.txt  \n",
            "  inflating: /content/labels/train/0391.txt  \n",
            "  inflating: /content/labels/train/0392.txt  \n",
            "  inflating: /content/labels/train/0393.txt  \n",
            "  inflating: /content/labels/train/0394.txt  \n",
            "  inflating: /content/labels/train/0395.txt  \n",
            "  inflating: /content/labels/train/0396.txt  \n",
            "  inflating: /content/labels/train/0397.txt  \n",
            "  inflating: /content/labels/train/0398.txt  \n",
            "  inflating: /content/labels/train/0399.txt  \n",
            "  inflating: /content/labels/train/0400.txt  \n",
            "  inflating: /content/labels/train/0401.txt  \n",
            "  inflating: /content/labels/train/0402.txt  \n",
            "  inflating: /content/labels/train/0403.txt  \n",
            "  inflating: /content/labels/train/0404.txt  \n",
            "  inflating: /content/labels/train/0405.txt  \n",
            "  inflating: /content/labels/train/0406.txt  \n",
            "  inflating: /content/labels/train/0407.txt  \n",
            "  inflating: /content/labels/train/0408.txt  \n",
            "  inflating: /content/labels/train/0409.txt  \n",
            "  inflating: /content/labels/train/0410.txt  \n",
            "  inflating: /content/labels/train/0411.txt  \n",
            "  inflating: /content/labels/train/0412.txt  \n",
            "  inflating: /content/labels/train/0413.txt  \n",
            "  inflating: /content/labels/train/0414.txt  \n",
            "  inflating: /content/labels/train/0415.txt  \n",
            "  inflating: /content/labels/train/0416.txt  \n",
            "  inflating: /content/labels/train/0417.txt  \n",
            "  inflating: /content/labels/train/0418.txt  \n",
            "  inflating: /content/labels/train/0419.txt  \n",
            "  inflating: /content/labels/train/0420.txt  \n",
            "  inflating: /content/labels/train/0421.txt  \n",
            "  inflating: /content/labels/train/0422.txt  \n",
            "  inflating: /content/labels/train/0423.txt  \n",
            "  inflating: /content/labels/train/0424.txt  \n",
            "  inflating: /content/labels/train/0425.txt  \n",
            "  inflating: /content/labels/train/0426.txt  \n",
            "  inflating: /content/labels/train/0427.txt  \n",
            "  inflating: /content/labels/train/0428.txt  \n",
            "  inflating: /content/labels/train/0429.txt  \n",
            "  inflating: /content/labels/train/0430.txt  \n",
            "  inflating: /content/labels/train/0431.txt  \n",
            "  inflating: /content/labels/train/0432.txt  \n",
            "  inflating: /content/labels/train/0433.txt  \n",
            "  inflating: /content/labels/train/0434.txt  \n",
            "  inflating: /content/labels/train/0435.txt  \n",
            "  inflating: /content/labels/train/0436.txt  \n",
            "  inflating: /content/labels/train/0437.txt  \n",
            "  inflating: /content/labels/train/0438.txt  \n",
            "  inflating: /content/labels/train/0439.txt  \n",
            "  inflating: /content/labels/train/0440.txt  \n",
            "  inflating: /content/labels/train/0441.txt  \n",
            "  inflating: /content/labels/train/0442.txt  \n",
            "  inflating: /content/labels/train/0443.txt  \n",
            "  inflating: /content/labels/train/0444.txt  \n",
            "  inflating: /content/labels/train/0445.txt  \n",
            "  inflating: /content/labels/train/0446.txt  \n",
            "  inflating: /content/labels/train/0447.txt  \n",
            "  inflating: /content/labels/train/0448.txt  \n",
            "  inflating: /content/labels/train/0449.txt  \n",
            "  inflating: /content/labels/train/0450.txt  \n",
            "  inflating: /content/labels/train/0451.txt  \n",
            "  inflating: /content/labels/train/0452.txt  \n",
            "  inflating: /content/labels/train/0453.txt  \n",
            "  inflating: /content/labels/train/0454.txt  \n",
            "  inflating: /content/labels/train/0455.txt  \n",
            "  inflating: /content/labels/train/0456.txt  \n",
            "  inflating: /content/labels/train/0457.txt  \n",
            "  inflating: /content/labels/train/0458.txt  \n",
            "  inflating: /content/labels/train/0459.txt  \n",
            "  inflating: /content/labels/train/0460.txt  \n",
            "  inflating: /content/labels/train/0461.txt  \n",
            "  inflating: /content/labels/train/0462.txt  \n",
            "  inflating: /content/labels/train/0463.txt  \n",
            "  inflating: /content/labels/train/0464.txt  \n",
            "  inflating: /content/labels/train/0465.txt  \n",
            "  inflating: /content/labels/train/0466.txt  \n",
            "  inflating: /content/labels/train/0467.txt  \n",
            "  inflating: /content/labels/train/0468.txt  \n",
            "  inflating: /content/labels/train/0469.txt  \n",
            "  inflating: /content/labels/train/0470.txt  \n",
            "  inflating: /content/labels/train/0471.txt  \n",
            "  inflating: /content/labels/train/0472.txt  \n",
            "  inflating: /content/labels/train/0473.txt  \n",
            "  inflating: /content/labels/train/0474.txt  \n",
            "  inflating: /content/labels/train/0475.txt  \n",
            "  inflating: /content/labels/train/0476.txt  \n",
            "  inflating: /content/labels/train/0477.txt  \n",
            "  inflating: /content/labels/train/0478.txt  \n",
            "  inflating: /content/labels/train/0479.txt  \n",
            "  inflating: /content/labels/train/0480.txt  \n",
            "  inflating: /content/labels/train/0481.txt  \n",
            "  inflating: /content/labels/train/0482.txt  \n",
            "  inflating: /content/labels/train/0483.txt  \n",
            "  inflating: /content/labels/train/0484.txt  \n",
            "  inflating: /content/labels/train/0485.txt  \n",
            "  inflating: /content/labels/train/0486.txt  \n",
            "  inflating: /content/labels/train/0487.txt  \n",
            "  inflating: /content/labels/train/0488.txt  \n",
            "  inflating: /content/labels/train/0489.txt  \n",
            "  inflating: /content/labels/train/0490.txt  \n",
            "  inflating: /content/labels/train/0491.txt  \n",
            "  inflating: /content/labels/train/0492.txt  \n",
            "  inflating: /content/labels/train/0493.txt  \n",
            "  inflating: /content/labels/train/0494.txt  \n",
            "  inflating: /content/labels/train/0495.txt  \n",
            "  inflating: /content/labels/train/0496.txt  \n",
            "  inflating: /content/labels/train/0497.txt  \n",
            "  inflating: /content/labels/train/0498.txt  \n",
            "  inflating: /content/labels/train/0499.txt  \n",
            "  inflating: /content/labels/train/0500.txt  \n",
            "  inflating: /content/labels/train/0501.txt  \n",
            "  inflating: /content/labels/train/0502.txt  \n",
            "  inflating: /content/labels/train/0503.txt  \n",
            "  inflating: /content/labels/train/0504.txt  \n",
            "  inflating: /content/labels/train/0505.txt  \n",
            "  inflating: /content/labels/train/0506.txt  \n",
            "  inflating: /content/labels/train/0507.txt  \n",
            "  inflating: /content/labels/train/0508.txt  \n",
            "  inflating: /content/labels/train/0509.txt  \n",
            "  inflating: /content/labels/train/0510.txt  \n",
            "  inflating: /content/labels/train/0511.txt  \n",
            "  inflating: /content/labels/train/0512.txt  \n",
            "  inflating: /content/labels/train/0513.txt  \n",
            "  inflating: /content/labels/train/0514.txt  \n",
            "  inflating: /content/labels/train/0515.txt  \n",
            "  inflating: /content/labels/train/0516.txt  \n",
            "  inflating: /content/labels/train/0517.txt  \n",
            "  inflating: /content/labels/train/0518.txt  \n",
            "  inflating: /content/labels/train/0519.txt  \n",
            "  inflating: /content/labels/train/0520.txt  \n",
            "  inflating: /content/labels/train/0521.txt  \n",
            "  inflating: /content/labels/train/0522.txt  \n",
            "  inflating: /content/labels/train/0523.txt  \n",
            "  inflating: /content/labels/train/0524.txt  \n",
            "  inflating: /content/labels/train/0525.txt  \n",
            "  inflating: /content/labels/train/0526.txt  \n",
            "  inflating: /content/labels/train/0527.txt  \n",
            "  inflating: /content/labels/train/0528.txt  \n",
            "  inflating: /content/labels/train/0529.txt  \n",
            "  inflating: /content/labels/train/0530.txt  \n",
            "  inflating: /content/labels/train/0531.txt  \n",
            "  inflating: /content/labels/train/0532.txt  \n",
            "  inflating: /content/labels/train/0533.txt  \n",
            "  inflating: /content/labels/train/0534.txt  \n",
            "  inflating: /content/labels/train/0535.txt  \n",
            "  inflating: /content/labels/train/0536.txt  \n",
            "  inflating: /content/labels/train/0537.txt  \n",
            "  inflating: /content/labels/train/0538.txt  \n",
            "  inflating: /content/labels/train/0539.txt  \n",
            "  inflating: /content/labels/train/0540.txt  \n",
            "  inflating: /content/labels/train/0541.txt  \n",
            "  inflating: /content/labels/train/0542.txt  \n",
            "  inflating: /content/labels/train/0543.txt  \n",
            "  inflating: /content/labels/train/0544.txt  \n",
            "  inflating: /content/labels/train/0545.txt  \n",
            "  inflating: /content/labels/train/0546.txt  \n",
            "  inflating: /content/labels/train/0547.txt  \n",
            "  inflating: /content/labels/train/0548.txt  \n",
            "  inflating: /content/labels/train/0549.txt  \n",
            "  inflating: /content/labels/train/0550.txt  \n",
            "  inflating: /content/labels/train/0551.txt  \n",
            "  inflating: /content/labels/train/0552.txt  \n",
            "  inflating: /content/labels/train/0553.txt  \n",
            "  inflating: /content/labels/train/0554.txt  \n",
            "  inflating: /content/labels/train/0555.txt  \n",
            "  inflating: /content/labels/train/0556.txt  \n",
            "  inflating: /content/labels/train/0557.txt  \n",
            "  inflating: /content/labels/train/0558.txt  \n",
            "  inflating: /content/labels/train/0559.txt  \n",
            "  inflating: /content/labels/train/0560.txt  \n",
            "  inflating: /content/labels/train/0561.txt  \n",
            "  inflating: /content/labels/train/0562.txt  \n",
            "  inflating: /content/labels/train/0563.txt  \n",
            "  inflating: /content/labels/train/0564.txt  \n",
            "  inflating: /content/labels/train/0565.txt  \n",
            "  inflating: /content/labels/train/0566.txt  \n",
            "  inflating: /content/labels/train/0567.txt  \n",
            "  inflating: /content/labels/train/0568.txt  \n",
            "  inflating: /content/labels/train/0569.txt  \n",
            "  inflating: /content/labels/train/0570.txt  \n",
            "  inflating: /content/labels/train/0571.txt  \n",
            "  inflating: /content/labels/train/0572.txt  \n",
            "  inflating: /content/labels/train/0573.txt  \n",
            "  inflating: /content/labels/train/0574.txt  \n",
            "  inflating: /content/labels/train/0575.txt  \n",
            "  inflating: /content/labels/train/0576.txt  \n",
            "  inflating: /content/labels/train/0577.txt  \n",
            "  inflating: /content/labels/train/0578.txt  \n",
            "  inflating: /content/labels/train/0579.txt  \n",
            "  inflating: /content/labels/train/0580.txt  \n",
            "  inflating: /content/labels/train/0581.txt  \n",
            "  inflating: /content/labels/train/0582.txt  \n",
            "  inflating: /content/labels/train/0583.txt  \n",
            "  inflating: /content/labels/train/0584.txt  \n",
            "  inflating: /content/labels/train/0585.txt  \n",
            "  inflating: /content/labels/train/0586.txt  \n",
            "  inflating: /content/labels/train/0587.txt  \n",
            "  inflating: /content/labels/train/0588.txt  \n",
            "  inflating: /content/labels/train/0589.txt  \n",
            "  inflating: /content/labels/train/0590.txt  \n",
            "  inflating: /content/labels/train/0591.txt  \n",
            "  inflating: /content/labels/train/0592.txt  \n",
            "  inflating: /content/labels/train/0593.txt  \n",
            "  inflating: /content/labels/train/0594.txt  \n",
            "  inflating: /content/labels/train/0595.txt  \n",
            "  inflating: /content/labels/train/0596.txt  \n",
            "  inflating: /content/labels/train/0597.txt  \n",
            "  inflating: /content/labels/train/0598.txt  \n",
            "  inflating: /content/labels/train/0599.txt  \n",
            "  inflating: /content/labels/train/0600.txt  \n",
            "  inflating: /content/labels/train/0601.txt  \n",
            "  inflating: /content/labels/train/0602.txt  \n",
            "  inflating: /content/labels/train/0603.txt  \n",
            "  inflating: /content/labels/train/0604.txt  \n",
            "  inflating: /content/labels/train/0605.txt  \n",
            "  inflating: /content/labels/train/0606.txt  \n",
            "  inflating: /content/labels/train/0607.txt  \n",
            "  inflating: /content/labels/train/0608.txt  \n",
            "  inflating: /content/labels/train/0609.txt  \n",
            "  inflating: /content/labels/train/0610.txt  \n",
            "  inflating: /content/labels/train/0611.txt  \n",
            "  inflating: /content/labels/train/0612.txt  \n",
            "  inflating: /content/labels/train/0613.txt  \n",
            "  inflating: /content/labels/train/0614.txt  \n",
            "  inflating: /content/labels/train/0615.txt  \n",
            "  inflating: /content/labels/train/0616.txt  \n",
            "  inflating: /content/labels/train/0617.txt  \n",
            "  inflating: /content/labels/train/0618.txt  \n",
            "  inflating: /content/labels/train/0619.txt  \n",
            "  inflating: /content/labels/train/0620.txt  \n",
            "  inflating: /content/labels/train/0621.txt  \n",
            "  inflating: /content/labels/train/0622.txt  \n",
            "  inflating: /content/labels/train/0623.txt  \n",
            "  inflating: /content/labels/train/0624.txt  \n",
            "  inflating: /content/labels/train/0625.txt  \n",
            "  inflating: /content/labels/train/0626.txt  \n",
            "  inflating: /content/labels/train/0627.txt  \n",
            "  inflating: /content/labels/train/0628.txt  \n",
            "  inflating: /content/labels/train/0629.txt  \n",
            "  inflating: /content/labels/train/0630.txt  \n",
            "  inflating: /content/labels/train/0631.txt  \n",
            "  inflating: /content/labels/train/0632.txt  \n",
            "  inflating: /content/labels/train/0633.txt  \n",
            "  inflating: /content/labels/train/0634.txt  \n",
            "  inflating: /content/labels/train/0635.txt  \n",
            "  inflating: /content/labels/train/0636.txt  \n",
            "  inflating: /content/labels/train/0637.txt  \n",
            "  inflating: /content/labels/train/0638.txt  \n",
            "  inflating: /content/labels/train/0639.txt  \n",
            "  inflating: /content/labels/train/0640.txt  \n",
            "  inflating: /content/labels/train/0641.txt  \n",
            "  inflating: /content/labels/train/0642.txt  \n",
            "  inflating: /content/labels/train/0643.txt  \n",
            "  inflating: /content/labels/train/0644.txt  \n",
            "  inflating: /content/labels/train/0645.txt  \n",
            "  inflating: /content/labels/train/0646.txt  \n",
            "  inflating: /content/labels/train/0647.txt  \n",
            "  inflating: /content/labels/train/0648.txt  \n",
            "  inflating: /content/labels/train/0649.txt  \n",
            "  inflating: /content/labels/train/0650.txt  \n",
            "  inflating: /content/labels/train/0651.txt  \n",
            "  inflating: /content/labels/train/0652.txt  \n",
            "  inflating: /content/labels/train/0653.txt  \n",
            "  inflating: /content/labels/train/0654.txt  \n",
            "  inflating: /content/labels/train/0655.txt  \n",
            "  inflating: /content/labels/train/0656.txt  \n",
            "  inflating: /content/labels/train/0657.txt  \n",
            "  inflating: /content/labels/train/0658.txt  \n",
            "  inflating: /content/labels/train/0659.txt  \n",
            "  inflating: /content/labels/train/0660.txt  \n",
            "  inflating: /content/labels/train/0661.txt  \n",
            "  inflating: /content/labels/train/0662.txt  \n",
            "  inflating: /content/labels/train/0663.txt  \n",
            "  inflating: /content/labels/train/0664.txt  \n",
            "  inflating: /content/labels/train/0665.txt  \n",
            "  inflating: /content/labels/train/0666.txt  \n",
            "  inflating: /content/labels/train/0667.txt  \n",
            "  inflating: /content/labels/train/0668.txt  \n",
            "  inflating: /content/labels/train/0669.txt  \n",
            "  inflating: /content/labels/train/0670.txt  \n",
            "  inflating: /content/labels/train/0671.txt  \n",
            "  inflating: /content/labels/train/0672.txt  \n",
            "  inflating: /content/labels/train/0673.txt  \n",
            "  inflating: /content/labels/train/0674.txt  \n",
            "  inflating: /content/labels/train/0675.txt  \n",
            "  inflating: /content/labels/train/0676.txt  \n",
            "  inflating: /content/labels/train/0677.txt  \n",
            "  inflating: /content/labels/train/0678.txt  \n",
            "  inflating: /content/labels/train/0679.txt  \n",
            "  inflating: /content/labels/train/0680.txt  \n",
            "  inflating: /content/labels/train/0681.txt  \n",
            "  inflating: /content/labels/train/0682.txt  \n",
            "  inflating: /content/labels/train/0683.txt  \n",
            "  inflating: /content/labels/train/0684.txt  \n",
            "  inflating: /content/labels/train/0685.txt  \n",
            "  inflating: /content/labels/train/0686.txt  \n",
            "  inflating: /content/labels/train/0687.txt  \n",
            "  inflating: /content/labels/train/0688.txt  \n",
            "  inflating: /content/labels/train/0689.txt  \n",
            "  inflating: /content/labels/train/0690.txt  \n",
            "  inflating: /content/labels/train/0691.txt  \n",
            "  inflating: /content/labels/train/0692.txt  \n",
            "  inflating: /content/labels/train/0693.txt  \n",
            "  inflating: /content/labels/train/0694.txt  \n",
            "  inflating: /content/labels/train/0695.txt  \n",
            "  inflating: /content/labels/train/0696.txt  \n",
            "  inflating: /content/labels/train/0697.txt  \n",
            "  inflating: /content/labels/train/0698.txt  \n",
            "  inflating: /content/labels/train/0699.txt  \n",
            "  inflating: /content/labels/train/0700.txt  \n",
            "  inflating: /content/labels/train/0701.txt  \n",
            "  inflating: /content/labels/train/0702.txt  \n",
            "  inflating: /content/labels/train/0703.txt  \n",
            "  inflating: /content/labels/train/0704.txt  \n",
            "  inflating: /content/labels/train/0705.txt  \n",
            "  inflating: /content/labels/train/0706.txt  \n",
            "  inflating: /content/labels/train/0707.txt  \n",
            "  inflating: /content/labels/train/0708.txt  \n",
            "  inflating: /content/labels/train/0709.txt  \n",
            "  inflating: /content/labels/train/0710.txt  \n",
            "  inflating: /content/labels/train/0711.txt  \n",
            "  inflating: /content/labels/train/0712.txt  \n",
            "  inflating: /content/labels/train/0713.txt  \n",
            "  inflating: /content/labels/train/0714.txt  \n",
            "  inflating: /content/labels/train/0715.txt  \n",
            "  inflating: /content/labels/train/0716.txt  \n",
            "  inflating: /content/labels/train/0717.txt  \n",
            "  inflating: /content/labels/train/0718.txt  \n",
            "  inflating: /content/labels/train/0719.txt  \n",
            "  inflating: /content/labels/train/0720.txt  \n",
            "  inflating: /content/labels/train/0721.txt  \n",
            "  inflating: /content/labels/train/0722.txt  \n",
            "  inflating: /content/labels/train/0723.txt  \n",
            "  inflating: /content/labels/train/0724.txt  \n",
            "  inflating: /content/labels/train/0725.txt  \n",
            "  inflating: /content/labels/train/0726.txt  \n",
            "  inflating: /content/labels/train/0727.txt  \n",
            "  inflating: /content/labels/train/0728.txt  \n",
            "  inflating: /content/labels/train/0729.txt  \n",
            "  inflating: /content/labels/train/0730.txt  \n",
            "  inflating: /content/labels/train/0731.txt  \n",
            "  inflating: /content/labels/train/0732.txt  \n",
            "  inflating: /content/labels/train/0733.txt  \n",
            "  inflating: /content/labels/train/0734.txt  \n",
            "  inflating: /content/labels/train/0735.txt  \n",
            "  inflating: /content/labels/train/0736.txt  \n",
            "  inflating: /content/labels/train/0737.txt  \n",
            "  inflating: /content/labels/train/0738.txt  \n",
            "  inflating: /content/labels/train/0739.txt  \n",
            "  inflating: /content/labels/train/0740.txt  \n",
            "  inflating: /content/labels/train/0741.txt  \n",
            "  inflating: /content/labels/train/0742.txt  \n",
            "  inflating: /content/labels/train/0743.txt  \n",
            "  inflating: /content/labels/train/0744.txt  \n",
            "  inflating: /content/labels/train/0745.txt  \n",
            "  inflating: /content/labels/train/0746.txt  \n",
            "  inflating: /content/labels/train/0747.txt  \n",
            "  inflating: /content/labels/train/0748.txt  \n",
            "  inflating: /content/labels/train/0749.txt  \n",
            "  inflating: /content/labels/train/0750.txt  \n",
            "  inflating: /content/labels/train/0751.txt  \n",
            "  inflating: /content/labels/train/0752.txt  \n",
            "  inflating: /content/labels/train/0753.txt  \n",
            "  inflating: /content/labels/train/0754.txt  \n",
            "  inflating: /content/labels/train/0755.txt  \n",
            "  inflating: /content/labels/train/0756.txt  \n",
            "  inflating: /content/labels/train/0757.txt  \n",
            "  inflating: /content/labels/train/0758.txt  \n",
            "  inflating: /content/labels/train/0759.txt  \n",
            "  inflating: /content/labels/train/0760.txt  \n",
            "  inflating: /content/labels/train/0761.txt  \n",
            "  inflating: /content/labels/train/0762.txt  \n",
            "  inflating: /content/labels/train/0763.txt  \n",
            "  inflating: /content/labels/train/0764.txt  \n",
            "  inflating: /content/labels/train/0765.txt  \n",
            "  inflating: /content/labels/train/0766.txt  \n",
            "  inflating: /content/labels/train/0767.txt  \n",
            "  inflating: /content/labels/train/0768.txt  \n",
            "  inflating: /content/labels/train/0769.txt  \n",
            "  inflating: /content/labels/train/0770.txt  \n",
            "  inflating: /content/labels/train/0771.txt  \n",
            "  inflating: /content/labels/train/0772.txt  \n",
            "  inflating: /content/labels/train/0773.txt  \n",
            "  inflating: /content/labels/train/0774.txt  \n",
            "  inflating: /content/labels/train/0775.txt  \n",
            "  inflating: /content/labels/train/0776.txt  \n",
            "  inflating: /content/labels/train/0777.txt  \n",
            "  inflating: /content/labels/train/0778.txt  \n",
            "  inflating: /content/labels/train/0779.txt  \n",
            "  inflating: /content/labels/train/0780.txt  \n",
            "  inflating: /content/labels/train/0781.txt  \n",
            "  inflating: /content/labels/train/0782.txt  \n",
            "  inflating: /content/labels/train/0783.txt  \n",
            "  inflating: /content/labels/train/0784.txt  \n",
            "  inflating: /content/labels/train/0785.txt  \n",
            "  inflating: /content/labels/train/0786.txt  \n",
            "  inflating: /content/labels/train/0787.txt  \n",
            "  inflating: /content/labels/train/0788.txt  \n",
            "  inflating: /content/labels/train/0789.txt  \n",
            "  inflating: /content/labels/train/0790.txt  \n",
            "  inflating: /content/labels/train/0791.txt  \n",
            "  inflating: /content/labels/train/0792.txt  \n",
            "  inflating: /content/labels/train/0793.txt  \n",
            "  inflating: /content/labels/train/0794.txt  \n",
            "  inflating: /content/labels/train/0795.txt  \n",
            "  inflating: /content/labels/train/0796.txt  \n",
            "  inflating: /content/labels/train/0797.txt  \n",
            "  inflating: /content/labels/train/0798.txt  \n",
            "  inflating: /content/labels/train/0799.txt  \n",
            "  inflating: /content/labels/train/0800.txt  \n",
            "  inflating: /content/labels/train/0801.txt  \n",
            "  inflating: /content/labels/train/0802.txt  \n",
            "  inflating: /content/labels/train/0803.txt  \n",
            "  inflating: /content/labels/train/0804.txt  \n",
            "  inflating: /content/labels/train/0805.txt  \n",
            "  inflating: /content/labels/train/0806.txt  \n",
            "  inflating: /content/labels/train/0807.txt  \n",
            "  inflating: /content/labels/train/0808.txt  \n",
            "  inflating: /content/labels/train/0809.txt  \n",
            "  inflating: /content/labels/train/0810.txt  \n",
            "  inflating: /content/labels/train/0811.txt  \n",
            "  inflating: /content/labels/train/0812.txt  \n",
            "  inflating: /content/labels/train/0813.txt  \n",
            "  inflating: /content/labels/train/0814.txt  \n",
            "  inflating: /content/labels/train/0815.txt  \n",
            "  inflating: /content/labels/train/0816.txt  \n",
            "  inflating: /content/labels/train/0817.txt  \n",
            "  inflating: /content/labels/train/0818.txt  \n",
            "  inflating: /content/labels/train/0819.txt  \n",
            "  inflating: /content/labels/train/0820.txt  \n",
            "  inflating: /content/labels/train/0821.txt  \n",
            "  inflating: /content/labels/train/0822.txt  \n",
            "  inflating: /content/labels/train/0823.txt  \n",
            "  inflating: /content/labels/train/0824.txt  \n",
            "  inflating: /content/labels/train/0825.txt  \n",
            "  inflating: /content/labels/train/0826.txt  \n",
            "  inflating: /content/labels/train/0827.txt  \n",
            "  inflating: /content/labels/train/0828.txt  \n",
            "  inflating: /content/labels/train/0829.txt  \n",
            "  inflating: /content/labels/train/0830.txt  \n",
            "  inflating: /content/labels/train/0831.txt  \n",
            "  inflating: /content/labels/train/0832.txt  \n",
            "  inflating: /content/labels/train/0833.txt  \n",
            "  inflating: /content/labels/train/0834.txt  \n",
            "  inflating: /content/labels/train/0835.txt  \n",
            "  inflating: /content/labels/train/0836.txt  \n",
            "  inflating: /content/labels/train/0837.txt  \n",
            "  inflating: /content/labels/train/0838.txt  \n",
            "  inflating: /content/labels/train/0839.txt  \n",
            "  inflating: /content/labels/train/0840.txt  \n",
            "  inflating: /content/labels/train/0841.txt  \n",
            "  inflating: /content/labels/train/0842.txt  \n",
            "  inflating: /content/labels/train/0843.txt  \n",
            "  inflating: /content/labels/train/0844.txt  \n",
            "  inflating: /content/labels/train/0845.txt  \n",
            "  inflating: /content/labels/train/0846.txt  \n",
            "  inflating: /content/labels/train/0847.txt  \n",
            "  inflating: /content/labels/train/0848.txt  \n",
            "  inflating: /content/labels/train/0849.txt  \n",
            "  inflating: /content/labels/train/0850.txt  \n",
            "  inflating: /content/labels/train/0851.txt  \n",
            "  inflating: /content/labels/train/0852.txt  \n",
            "  inflating: /content/labels/train/0853.txt  \n",
            "  inflating: /content/labels/train/0854.txt  \n",
            "  inflating: /content/labels/train/0855.txt  \n",
            "  inflating: /content/labels/train/0856.txt  \n",
            "  inflating: /content/labels/train/0857.txt  \n",
            "  inflating: /content/labels/train/0858.txt  \n",
            "  inflating: /content/labels/train/0859.txt  \n",
            "  inflating: /content/labels/train/0860.txt  \n",
            "  inflating: /content/labels/train/0861.txt  \n",
            "  inflating: /content/labels/train/0862.txt  \n",
            "  inflating: /content/labels/train/0863.txt  \n",
            "  inflating: /content/labels/train/0864.txt  \n",
            "  inflating: /content/labels/train/0865.txt  \n",
            "  inflating: /content/labels/train/0866.txt  \n",
            "  inflating: /content/labels/train/0867.txt  \n",
            "  inflating: /content/labels/train/0868.txt  \n",
            "  inflating: /content/labels/train/0869.txt  \n",
            "  inflating: /content/labels/train/0870.txt  \n",
            "  inflating: /content/labels/train/0871.txt  \n",
            "  inflating: /content/labels/train/0872.txt  \n",
            "  inflating: /content/labels/train/0873.txt  \n",
            "  inflating: /content/labels/train/0874.txt  \n",
            "  inflating: /content/labels/train/0875.txt  \n",
            "  inflating: /content/labels/train/0876.txt  \n",
            "  inflating: /content/labels/train/0877.txt  \n",
            "  inflating: /content/labels/train/0878.txt  \n",
            "  inflating: /content/labels/train/0879.txt  \n",
            "  inflating: /content/labels/train/0880.txt  \n",
            "  inflating: /content/labels/train/0881.txt  \n",
            "  inflating: /content/labels/train/0882.txt  \n",
            "  inflating: /content/labels/train/0883.txt  \n",
            "  inflating: /content/labels/train/0884.txt  \n",
            "  inflating: /content/labels/train/0885.txt  \n",
            "  inflating: /content/labels/train/0886.txt  \n",
            "  inflating: /content/labels/train/0887.txt  \n",
            "  inflating: /content/labels/train/0888.txt  \n",
            "  inflating: /content/labels/train/0889.txt  \n",
            "  inflating: /content/labels/train/0890.txt  \n",
            "  inflating: /content/labels/train/0891.txt  \n",
            "  inflating: /content/labels/train/0892.txt  \n",
            "  inflating: /content/labels/train/0893.txt  \n",
            "  inflating: /content/labels/train/0894.txt  \n",
            "  inflating: /content/labels/train/0895.txt  \n",
            "  inflating: /content/labels/train/0896.txt  \n",
            "  inflating: /content/labels/train/0897.txt  \n",
            "  inflating: /content/labels/train/0898.txt  \n",
            "  inflating: /content/labels/train/0899.txt  \n",
            "  inflating: /content/labels/train/0900.txt  \n",
            "  inflating: /content/labels/train/0901.txt  \n",
            "  inflating: /content/labels/train/0902.txt  \n",
            "  inflating: /content/labels/train/0903.txt  \n",
            "  inflating: /content/labels/train/0904.txt  \n",
            "  inflating: /content/labels/train/0905.txt  \n",
            "  inflating: /content/labels/train/0906.txt  \n",
            "  inflating: /content/labels/train/0907.txt  \n",
            "  inflating: /content/labels/train/0908.txt  \n",
            "  inflating: /content/labels/train/0909.txt  \n",
            "  inflating: /content/labels/train/0910.txt  \n",
            "  inflating: /content/labels/train/0911.txt  \n",
            "  inflating: /content/labels/train/0912.txt  \n",
            "  inflating: /content/labels/train/0913.txt  \n",
            "  inflating: /content/labels/train/0914.txt  \n",
            "  inflating: /content/labels/train/0915.txt  \n",
            "  inflating: /content/labels/train/0916.txt  \n",
            "  inflating: /content/labels/train/0917.txt  \n",
            "  inflating: /content/labels/train/0918.txt  \n",
            "  inflating: /content/labels/train/0919.txt  \n",
            "  inflating: /content/labels/train/0920.txt  \n",
            "  inflating: /content/labels/train/0921.txt  \n",
            "  inflating: /content/labels/train/0922.txt  \n",
            "  inflating: /content/labels/train/0923.txt  \n",
            "  inflating: /content/labels/train/0924.txt  \n",
            "  inflating: /content/labels/train/0925.txt  \n",
            "  inflating: /content/labels/train/0926.txt  \n",
            "  inflating: /content/labels/train/0927.txt  \n",
            "  inflating: /content/labels/train/0928.txt  \n",
            "  inflating: /content/labels/train/0929.txt  \n",
            "  inflating: /content/labels/train/0930.txt  \n",
            "  inflating: /content/labels/train/0931.txt  \n",
            "  inflating: /content/labels/train/0932.txt  \n",
            "  inflating: /content/labels/train/0933.txt  \n",
            "  inflating: /content/labels/train/0934.txt  \n",
            "  inflating: /content/labels/train/0935.txt  \n",
            "  inflating: /content/labels/train/0936.txt  \n",
            "  inflating: /content/labels/train/0937.txt  \n",
            "  inflating: /content/labels/train/0938.txt  \n",
            "  inflating: /content/labels/train/0939.txt  \n",
            "  inflating: /content/labels/train/0940.txt  \n",
            "  inflating: /content/labels/train/0941.txt  \n",
            "  inflating: /content/labels/train/0942.txt  \n",
            "  inflating: /content/labels/train/0943.txt  \n",
            "  inflating: /content/labels/train/0944.txt  \n",
            "  inflating: /content/labels/train/0945.txt  \n",
            "  inflating: /content/labels/train/0946.txt  \n",
            "  inflating: /content/labels/train/0947.txt  \n",
            "  inflating: /content/labels/train/0948.txt  \n",
            "  inflating: /content/labels/train/0949.txt  \n",
            "  inflating: /content/labels/train/0950.txt  \n",
            "  inflating: /content/labels/train/0951.txt  \n",
            "  inflating: /content/labels/train/0952.txt  \n",
            "  inflating: /content/labels/train/0953.txt  \n",
            "  inflating: /content/labels/train/0954.txt  \n",
            "  inflating: /content/labels/train/0955.txt  \n",
            "  inflating: /content/labels/train/0956.txt  \n",
            "  inflating: /content/labels/train/0957.txt  \n",
            "  inflating: /content/labels/train/0958.txt  \n",
            "  inflating: /content/labels/train/0959.txt  \n",
            "  inflating: /content/labels/train/0960.txt  \n",
            "  inflating: /content/labels/train/0961.txt  \n",
            "  inflating: /content/labels/train/0962.txt  \n",
            "  inflating: /content/labels/train/0963.txt  \n",
            "  inflating: /content/labels/train/0964.txt  \n",
            "  inflating: /content/labels/train/0965.txt  \n",
            "  inflating: /content/labels/train/0966.txt  \n",
            "  inflating: /content/labels/train/0967.txt  \n",
            "  inflating: /content/labels/train/0968.txt  \n",
            "  inflating: /content/labels/train/0969.txt  \n",
            "  inflating: /content/labels/train/0970.txt  \n",
            "  inflating: /content/labels/train/0971.txt  \n",
            "  inflating: /content/labels/train/0972.txt  \n",
            "  inflating: /content/labels/train/0973.txt  \n",
            "  inflating: /content/labels/train/0974.txt  \n",
            "  inflating: /content/labels/train/0975.txt  \n",
            "  inflating: /content/labels/train/0976.txt  \n",
            "  inflating: /content/labels/train/0977.txt  \n",
            "  inflating: /content/labels/train/0978.txt  \n",
            "  inflating: /content/labels/train/0979.txt  \n",
            "  inflating: /content/labels/train/0980.txt  \n",
            "  inflating: /content/labels/train/0981.txt  \n",
            "  inflating: /content/labels/train/0982.txt  \n",
            "  inflating: /content/labels/train/0983.txt  \n",
            "  inflating: /content/labels/train/0984.txt  \n",
            "  inflating: /content/labels/train/0985.txt  \n",
            "  inflating: /content/labels/train/0986.txt  \n",
            "  inflating: /content/labels/train/0987.txt  \n",
            "  inflating: /content/labels/train/0988.txt  \n",
            "  inflating: /content/labels/train/0989.txt  \n",
            "  inflating: /content/labels/train/0990.txt  \n",
            "  inflating: /content/labels/train/0991.txt  \n",
            "  inflating: /content/labels/train/0992.txt  \n",
            "  inflating: /content/labels/train/0993.txt  \n",
            "  inflating: /content/labels/train/0994.txt  \n",
            "  inflating: /content/labels/train/0995.txt  \n",
            "  inflating: /content/labels/train/0996.txt  \n",
            "  inflating: /content/labels/train/0997.txt  \n",
            "  inflating: /content/labels/train/0998.txt  \n",
            "  inflating: /content/labels/train/0999.txt  \n",
            "  inflating: /content/labels/train/1000.txt  \n",
            "  inflating: /content/labels/train/1001.txt  \n",
            "  inflating: /content/labels/train/1002.txt  \n",
            "  inflating: /content/labels/train/1003.txt  \n",
            "  inflating: /content/labels/train/1004.txt  \n"
          ]
        }
      ],
      "source": [
        "!unzip /content/labels.zip -d /content/"
      ]
    },
    {
      "cell_type": "markdown",
      "metadata": {
        "id": "14xRLDCZgpry"
      },
      "source": [
        "用YOLOv8n-**seg不加载模型权重实验：**"
      ]
    },
    {
      "cell_type": "code",
      "execution_count": 8,
      "metadata": {
        "colab": {
          "base_uri": "https://localhost:8080/"
        },
        "collapsed": true,
        "id": "l29EMVg8V2Xm",
        "outputId": "d02b8596-0547-4015-fb44-2cb24d85dc6d"
      },
      "outputs": [
        {
          "name": "stdout",
          "output_type": "stream",
          "text": [
            "Ultralytics YOLOv8.2.98 🚀 Python-3.10.12 torch-2.4.1+cu121 CUDA:0 (NVIDIA A100-SXM4-40GB, 40514MiB)\n",
            "\u001b[34m\u001b[1mengine/trainer: \u001b[0mtask=segment, mode=train, model=yolov8n-seg.yaml, data=/content/NewClothing.yaml, epochs=100, time=None, patience=100, batch=16, imgsz=512, save=True, save_period=-1, cache=False, device=None, workers=8, project=None, name=train, exist_ok=False, pretrained=True, optimizer=auto, verbose=True, seed=0, deterministic=True, single_cls=False, rect=False, cos_lr=False, close_mosaic=10, resume=False, amp=True, fraction=1.0, profile=False, freeze=None, multi_scale=False, overlap_mask=True, mask_ratio=4, dropout=0.0, val=True, split=val, save_json=False, save_hybrid=False, conf=None, iou=0.7, max_det=300, half=False, dnn=False, plots=True, source=None, vid_stride=1, stream_buffer=False, visualize=False, augment=False, agnostic_nms=False, classes=None, retina_masks=False, embed=None, show=False, save_frames=False, save_txt=False, save_conf=False, save_crop=False, show_labels=True, show_conf=True, show_boxes=True, line_width=None, format=torchscript, keras=False, optimize=False, int8=False, dynamic=False, simplify=False, opset=None, workspace=4, nms=False, lr0=0.01, lrf=0.01, momentum=0.937, weight_decay=0.0005, warmup_epochs=3.0, warmup_momentum=0.8, warmup_bias_lr=0.1, box=7.5, cls=0.5, dfl=1.5, pose=12.0, kobj=1.0, label_smoothing=0.0, nbs=64, hsv_h=0.015, hsv_s=0.7, hsv_v=0.4, degrees=0.0, translate=0.1, scale=0.5, shear=0.0, perspective=0.0, flipud=0.0, fliplr=0.5, bgr=0.0, mosaic=1.0, mixup=0.0, copy_paste=0.0, auto_augment=randaugment, erasing=0.4, crop_fraction=1.0, cfg=None, tracker=botsort.yaml, save_dir=runs/segment/train\n",
            "Downloading https://ultralytics.com/assets/Arial.ttf to '/root/.config/Ultralytics/Arial.ttf'...\n"
          ]
        },
        {
          "name": "stderr",
          "output_type": "stream",
          "text": [
            "100%|██████████| 755k/755k [00:00<00:00, 82.0MB/s]\n"
          ]
        },
        {
          "name": "stdout",
          "output_type": "stream",
          "text": [
            "Overriding model.yaml nc=80 with nc=59\n",
            "\n",
            "                   from  n    params  module                                       arguments                     \n",
            "  0                  -1  1       464  ultralytics.nn.modules.conv.Conv             [3, 16, 3, 2]                 \n",
            "  1                  -1  1      4672  ultralytics.nn.modules.conv.Conv             [16, 32, 3, 2]                \n",
            "  2                  -1  1      7360  ultralytics.nn.modules.block.C2f             [32, 32, 1, True]             \n",
            "  3                  -1  1     18560  ultralytics.nn.modules.conv.Conv             [32, 64, 3, 2]                \n",
            "  4                  -1  2     49664  ultralytics.nn.modules.block.C2f             [64, 64, 2, True]             \n",
            "  5                  -1  1     73984  ultralytics.nn.modules.conv.Conv             [64, 128, 3, 2]               \n",
            "  6                  -1  2    197632  ultralytics.nn.modules.block.C2f             [128, 128, 2, True]           \n",
            "  7                  -1  1    295424  ultralytics.nn.modules.conv.Conv             [128, 256, 3, 2]              \n",
            "  8                  -1  1    460288  ultralytics.nn.modules.block.C2f             [256, 256, 1, True]           \n",
            "  9                  -1  1    164608  ultralytics.nn.modules.block.SPPF            [256, 256, 5]                 \n",
            " 10                  -1  1         0  torch.nn.modules.upsampling.Upsample         [None, 2, 'nearest']          \n",
            " 11             [-1, 6]  1         0  ultralytics.nn.modules.conv.Concat           [1]                           \n",
            " 12                  -1  1    148224  ultralytics.nn.modules.block.C2f             [384, 128, 1]                 \n",
            " 13                  -1  1         0  torch.nn.modules.upsampling.Upsample         [None, 2, 'nearest']          \n",
            " 14             [-1, 4]  1         0  ultralytics.nn.modules.conv.Concat           [1]                           \n",
            " 15                  -1  1     37248  ultralytics.nn.modules.block.C2f             [192, 64, 1]                  \n",
            " 16                  -1  1     36992  ultralytics.nn.modules.conv.Conv             [64, 64, 3, 2]                \n",
            " 17            [-1, 12]  1         0  ultralytics.nn.modules.conv.Concat           [1]                           \n",
            " 18                  -1  1    123648  ultralytics.nn.modules.block.C2f             [192, 128, 1]                 \n",
            " 19                  -1  1    147712  ultralytics.nn.modules.conv.Conv             [128, 128, 3, 2]              \n",
            " 20             [-1, 9]  1         0  ultralytics.nn.modules.conv.Concat           [1]                           \n",
            " 21                  -1  1    493056  ultralytics.nn.modules.block.C2f             [384, 256, 1]                 \n",
            " 22        [15, 18, 21]  1   1015585  ultralytics.nn.modules.head.Segment          [59, 32, 64, [64, 128, 256]]  \n",
            "YOLOv8n-seg summary: 261 layers, 3,275,121 parameters, 3,275,105 gradients, 12.2 GFLOPs\n",
            "\n",
            "\u001b[34m\u001b[1mTensorBoard: \u001b[0mStart with 'tensorboard --logdir runs/segment/train', view at http://localhost:6006/\n",
            "Freezing layer 'model.22.dfl.conv.weight'\n",
            "\u001b[34m\u001b[1mAMP: \u001b[0mrunning Automatic Mixed Precision (AMP) checks with YOLOv8n...\n",
            "Downloading https://github.com/ultralytics/assets/releases/download/v8.2.0/yolov8n.pt to 'yolov8n.pt'...\n"
          ]
        },
        {
          "name": "stderr",
          "output_type": "stream",
          "text": [
            "100%|██████████| 6.25M/6.25M [00:00<00:00, 380MB/s]\n"
          ]
        },
        {
          "name": "stdout",
          "output_type": "stream",
          "text": [
            "\u001b[34m\u001b[1mAMP: \u001b[0mchecks passed ✅\n"
          ]
        },
        {
          "name": "stderr",
          "output_type": "stream",
          "text": [
            "\u001b[34m\u001b[1mtrain: \u001b[0mScanning /content/dataset/labels/train... 702 images, 0 backgrounds, 0 corrupt: 100%|██████████| 702/702 [00:01<00:00, 352.96it/s]\n"
          ]
        },
        {
          "name": "stdout",
          "output_type": "stream",
          "text": [
            "\u001b[34m\u001b[1mtrain: \u001b[0mNew cache created: /content/dataset/labels/train.cache\n",
            "\u001b[34m\u001b[1malbumentations: \u001b[0mBlur(p=0.01, blur_limit=(3, 7)), MedianBlur(p=0.01, blur_limit=(3, 7)), ToGray(p=0.01, num_output_channels=3, method='weighted_average'), CLAHE(p=0.01, clip_limit=(1, 4.0), tile_grid_size=(8, 8))\n"
          ]
        },
        {
          "name": "stderr",
          "output_type": "stream",
          "text": [
            "/usr/lib/python3.10/multiprocessing/popen_fork.py:66: RuntimeWarning: os.fork() was called. os.fork() is incompatible with multithreaded code, and JAX is multithreaded, so this will likely lead to a deadlock.\n",
            "  self.pid = os.fork()\n",
            "\u001b[34m\u001b[1mval: \u001b[0mScanning /content/dataset/labels/test... 302 images, 1 backgrounds, 0 corrupt: 100%|██████████| 302/302 [00:01<00:00, 195.69it/s]\n"
          ]
        },
        {
          "name": "stdout",
          "output_type": "stream",
          "text": [
            "\u001b[34m\u001b[1mval: \u001b[0mNew cache created: /content/dataset/labels/test.cache\n",
            "Plotting labels to runs/segment/train/labels.jpg... \n",
            "\u001b[34m\u001b[1moptimizer:\u001b[0m 'optimizer=auto' found, ignoring 'lr0=0.01' and 'momentum=0.937' and determining best 'optimizer', 'lr0' and 'momentum' automatically... \n",
            "\u001b[34m\u001b[1moptimizer:\u001b[0m AdamW(lr=0.000159, momentum=0.9) with parameter groups 66 weight(decay=0.0), 77 weight(decay=0.0005), 76 bias(decay=0.0)\n",
            "\u001b[34m\u001b[1mTensorBoard: \u001b[0mmodel graph visualization added ✅\n",
            "Image sizes 512 train, 512 val\n",
            "Using 8 dataloader workers\n",
            "Logging results to \u001b[1mruns/segment/train\u001b[0m\n",
            "Starting training for 100 epochs...\n",
            "\n",
            "      Epoch    GPU_mem   box_loss   seg_loss   cls_loss   dfl_loss  Instances       Size\n"
          ]
        },
        {
          "name": "stderr",
          "output_type": "stream",
          "text": [
            "      1/100      2.42G      4.299      11.75      5.717      4.288        425        512: 100%|██████████| 44/44 [00:24<00:00,  1.80it/s]\n",
            "                 Class     Images  Instances      Box(P          R      mAP50  mAP50-95)     Mask(P          R      mAP50  mAP50-95): 100%|██████████| 10/10 [00:02<00:00,  4.12it/s]"
          ]
        },
        {
          "name": "stdout",
          "output_type": "stream",
          "text": [
            "                   all        302       4210          0          0          0          0          0          0          0          0\n"
          ]
        },
        {
          "name": "stderr",
          "output_type": "stream",
          "text": [
            "\n"
          ]
        },
        {
          "name": "stdout",
          "output_type": "stream",
          "text": [
            "\n",
            "      Epoch    GPU_mem   box_loss   seg_loss   cls_loss   dfl_loss  Instances       Size\n"
          ]
        },
        {
          "name": "stderr",
          "output_type": "stream",
          "text": [
            "      2/100      2.25G      4.299      6.447      5.639      4.185        368        512: 100%|██████████| 44/44 [00:21<00:00,  2.05it/s]\n",
            "                 Class     Images  Instances      Box(P          R      mAP50  mAP50-95)     Mask(P          R      mAP50  mAP50-95): 100%|██████████| 10/10 [00:01<00:00,  5.18it/s]"
          ]
        },
        {
          "name": "stdout",
          "output_type": "stream",
          "text": [
            "                   all        302       4210          0          0          0          0          0          0          0          0\n"
          ]
        },
        {
          "name": "stderr",
          "output_type": "stream",
          "text": [
            "\n"
          ]
        },
        {
          "name": "stdout",
          "output_type": "stream",
          "text": [
            "\n",
            "      Epoch    GPU_mem   box_loss   seg_loss   cls_loss   dfl_loss  Instances       Size\n"
          ]
        },
        {
          "name": "stderr",
          "output_type": "stream",
          "text": [
            "      3/100      2.25G      4.149      5.076       5.48       4.05        311        512: 100%|██████████| 44/44 [00:20<00:00,  2.11it/s]\n",
            "                 Class     Images  Instances      Box(P          R      mAP50  mAP50-95)     Mask(P          R      mAP50  mAP50-95): 100%|██████████| 10/10 [00:02<00:00,  4.33it/s]"
          ]
        },
        {
          "name": "stdout",
          "output_type": "stream",
          "text": [
            "                   all        302       4210          0          0          0          0          0          0          0          0\n"
          ]
        },
        {
          "name": "stderr",
          "output_type": "stream",
          "text": [
            "\n"
          ]
        },
        {
          "name": "stdout",
          "output_type": "stream",
          "text": [
            "\n",
            "      Epoch    GPU_mem   box_loss   seg_loss   cls_loss   dfl_loss  Instances       Size\n"
          ]
        },
        {
          "name": "stderr",
          "output_type": "stream",
          "text": [
            "      4/100      2.27G       3.92      4.895      5.181      3.854        278        512: 100%|██████████| 44/44 [00:21<00:00,  2.06it/s]\n",
            "                 Class     Images  Instances      Box(P          R      mAP50  mAP50-95)     Mask(P          R      mAP50  mAP50-95): 100%|██████████| 10/10 [00:03<00:00,  3.24it/s]\n"
          ]
        },
        {
          "name": "stdout",
          "output_type": "stream",
          "text": [
            "                   all        302       4210     0.0047      0.027    0.00278    0.00102   0.000653     0.0164   0.000587   0.000148\n",
            "\n",
            "      Epoch    GPU_mem   box_loss   seg_loss   cls_loss   dfl_loss  Instances       Size\n"
          ]
        },
        {
          "name": "stderr",
          "output_type": "stream",
          "text": [
            "      5/100      2.32G      3.702      4.821      4.889      3.672        285        512: 100%|██████████| 44/44 [00:21<00:00,  2.09it/s]\n",
            "                 Class     Images  Instances      Box(P          R      mAP50  mAP50-95)     Mask(P          R      mAP50  mAP50-95): 100%|██████████| 10/10 [00:03<00:00,  2.91it/s]\n"
          ]
        },
        {
          "name": "stdout",
          "output_type": "stream",
          "text": [
            "                   all        302       4210      0.435    0.00447    0.00315   0.000856      0.433    0.00318    0.00192   0.000462\n",
            "\n",
            "      Epoch    GPU_mem   box_loss   seg_loss   cls_loss   dfl_loss  Instances       Size\n"
          ]
        },
        {
          "name": "stderr",
          "output_type": "stream",
          "text": [
            "      6/100      2.29G      3.582      4.729      4.654      3.517        394        512: 100%|██████████| 44/44 [00:21<00:00,  2.03it/s]\n",
            "                 Class     Images  Instances      Box(P          R      mAP50  mAP50-95)     Mask(P          R      mAP50  mAP50-95): 100%|██████████| 10/10 [00:02<00:00,  3.76it/s]\n"
          ]
        },
        {
          "name": "stdout",
          "output_type": "stream",
          "text": [
            "                   all        302       4210      0.461     0.0164    0.00369    0.00105      0.458     0.0104    0.00228   0.000567\n",
            "\n",
            "      Epoch    GPU_mem   box_loss   seg_loss   cls_loss   dfl_loss  Instances       Size\n"
          ]
        },
        {
          "name": "stderr",
          "output_type": "stream",
          "text": [
            "      7/100      2.34G      3.444      4.613       4.41      3.377        409        512: 100%|██████████| 44/44 [00:20<00:00,  2.10it/s]\n",
            "                 Class     Images  Instances      Box(P          R      mAP50  mAP50-95)     Mask(P          R      mAP50  mAP50-95): 100%|██████████| 10/10 [00:03<00:00,  3.24it/s]\n"
          ]
        },
        {
          "name": "stdout",
          "output_type": "stream",
          "text": [
            "                   all        302       4210      0.462     0.0142    0.00541    0.00157      0.458    0.00644    0.00267   0.000637\n",
            "\n",
            "      Epoch    GPU_mem   box_loss   seg_loss   cls_loss   dfl_loss  Instances       Size\n"
          ]
        },
        {
          "name": "stderr",
          "output_type": "stream",
          "text": [
            "      8/100      2.28G      3.323      4.522      4.192      3.236        372        512: 100%|██████████| 44/44 [00:22<00:00,  1.99it/s]\n",
            "                 Class     Images  Instances      Box(P          R      mAP50  mAP50-95)     Mask(P          R      mAP50  mAP50-95): 100%|██████████| 10/10 [00:02<00:00,  3.40it/s]\n"
          ]
        },
        {
          "name": "stdout",
          "output_type": "stream",
          "text": [
            "                   all        302       4210       0.44     0.0139    0.00802    0.00244      0.411     0.0119     0.0048     0.0013\n",
            "\n",
            "      Epoch    GPU_mem   box_loss   seg_loss   cls_loss   dfl_loss  Instances       Size\n"
          ]
        },
        {
          "name": "stderr",
          "output_type": "stream",
          "text": [
            "      9/100      2.26G      3.236      4.417      4.004      3.117        302        512: 100%|██████████| 44/44 [00:22<00:00,  2.00it/s]\n",
            "                 Class     Images  Instances      Box(P          R      mAP50  mAP50-95)     Mask(P          R      mAP50  mAP50-95): 100%|██████████| 10/10 [00:03<00:00,  3.15it/s]\n"
          ]
        },
        {
          "name": "stdout",
          "output_type": "stream",
          "text": [
            "                   all        302       4210      0.446     0.0195     0.0102    0.00325       0.44     0.0139    0.00676    0.00201\n",
            "\n",
            "      Epoch    GPU_mem   box_loss   seg_loss   cls_loss   dfl_loss  Instances       Size\n"
          ]
        },
        {
          "name": "stderr",
          "output_type": "stream",
          "text": [
            "     10/100      2.33G      3.151      4.358      3.899      3.036        416        512: 100%|██████████| 44/44 [00:20<00:00,  2.15it/s]\n",
            "                 Class     Images  Instances      Box(P          R      mAP50  mAP50-95)     Mask(P          R      mAP50  mAP50-95): 100%|██████████| 10/10 [00:03<00:00,  2.87it/s]\n"
          ]
        },
        {
          "name": "stdout",
          "output_type": "stream",
          "text": [
            "                   all        302       4210      0.522      0.018      0.013    0.00405      0.517     0.0131    0.00959    0.00298\n",
            "\n",
            "      Epoch    GPU_mem   box_loss   seg_loss   cls_loss   dfl_loss  Instances       Size\n"
          ]
        },
        {
          "name": "stderr",
          "output_type": "stream",
          "text": [
            "     11/100      2.25G      3.045       4.29      3.728      2.949        373        512: 100%|██████████| 44/44 [00:20<00:00,  2.11it/s]\n",
            "                 Class     Images  Instances      Box(P          R      mAP50  mAP50-95)     Mask(P          R      mAP50  mAP50-95): 100%|██████████| 10/10 [00:03<00:00,  2.84it/s]\n"
          ]
        },
        {
          "name": "stdout",
          "output_type": "stream",
          "text": [
            "                   all        302       4210       0.51     0.0285     0.0182    0.00584      0.504     0.0212     0.0145    0.00479\n",
            "\n",
            "      Epoch    GPU_mem   box_loss   seg_loss   cls_loss   dfl_loss  Instances       Size\n"
          ]
        },
        {
          "name": "stderr",
          "output_type": "stream",
          "text": [
            "     12/100      2.24G      2.988      4.228      3.608      2.857        386        512: 100%|██████████| 44/44 [00:20<00:00,  2.16it/s]\n",
            "                 Class     Images  Instances      Box(P          R      mAP50  mAP50-95)     Mask(P          R      mAP50  mAP50-95): 100%|██████████| 10/10 [00:03<00:00,  3.30it/s]\n"
          ]
        },
        {
          "name": "stdout",
          "output_type": "stream",
          "text": [
            "                   all        302       4210      0.505     0.0279     0.0213    0.00697      0.495     0.0212     0.0165    0.00531\n",
            "\n",
            "      Epoch    GPU_mem   box_loss   seg_loss   cls_loss   dfl_loss  Instances       Size\n"
          ]
        },
        {
          "name": "stderr",
          "output_type": "stream",
          "text": [
            "     13/100      2.24G      2.938      4.176      3.551      2.787        345        512: 100%|██████████| 44/44 [00:21<00:00,  2.08it/s]\n",
            "                 Class     Images  Instances      Box(P          R      mAP50  mAP50-95)     Mask(P          R      mAP50  mAP50-95): 100%|██████████| 10/10 [00:03<00:00,  3.05it/s]\n"
          ]
        },
        {
          "name": "stdout",
          "output_type": "stream",
          "text": [
            "                   all        302       4210      0.433     0.0367     0.0223    0.00787       0.43     0.0305     0.0184    0.00642\n",
            "\n",
            "      Epoch    GPU_mem   box_loss   seg_loss   cls_loss   dfl_loss  Instances       Size\n"
          ]
        },
        {
          "name": "stderr",
          "output_type": "stream",
          "text": [
            "     14/100      2.22G      2.898      4.144      3.465      2.734        267        512: 100%|██████████| 44/44 [00:20<00:00,  2.15it/s]\n",
            "                 Class     Images  Instances      Box(P          R      mAP50  mAP50-95)     Mask(P          R      mAP50  mAP50-95): 100%|██████████| 10/10 [00:02<00:00,  3.36it/s]\n"
          ]
        },
        {
          "name": "stdout",
          "output_type": "stream",
          "text": [
            "                   all        302       4210      0.486     0.0374     0.0269    0.00942      0.478     0.0309     0.0219     0.0077\n",
            "\n",
            "      Epoch    GPU_mem   box_loss   seg_loss   cls_loss   dfl_loss  Instances       Size\n"
          ]
        },
        {
          "name": "stderr",
          "output_type": "stream",
          "text": [
            "     15/100      2.24G      2.838       4.06      3.345      2.655        323        512: 100%|██████████| 44/44 [00:21<00:00,  2.01it/s]\n",
            "                 Class     Images  Instances      Box(P          R      mAP50  mAP50-95)     Mask(P          R      mAP50  mAP50-95): 100%|██████████| 10/10 [00:03<00:00,  3.33it/s]\n"
          ]
        },
        {
          "name": "stdout",
          "output_type": "stream",
          "text": [
            "                   all        302       4210      0.531     0.0335     0.0287     0.0103      0.528     0.0293     0.0254    0.00847\n",
            "\n",
            "      Epoch    GPU_mem   box_loss   seg_loss   cls_loss   dfl_loss  Instances       Size\n"
          ]
        },
        {
          "name": "stderr",
          "output_type": "stream",
          "text": [
            "     16/100      2.32G      2.792      4.022      3.262      2.608        364        512: 100%|██████████| 44/44 [00:21<00:00,  2.02it/s]\n",
            "                 Class     Images  Instances      Box(P          R      mAP50  mAP50-95)     Mask(P          R      mAP50  mAP50-95): 100%|██████████| 10/10 [00:02<00:00,  3.39it/s]\n"
          ]
        },
        {
          "name": "stdout",
          "output_type": "stream",
          "text": [
            "                   all        302       4210      0.517     0.0423     0.0314     0.0112      0.513     0.0345     0.0287    0.00991\n",
            "\n",
            "      Epoch    GPU_mem   box_loss   seg_loss   cls_loss   dfl_loss  Instances       Size\n"
          ]
        },
        {
          "name": "stderr",
          "output_type": "stream",
          "text": [
            "     17/100       2.3G       2.74      3.983      3.172      2.535        379        512: 100%|██████████| 44/44 [00:20<00:00,  2.18it/s]\n",
            "                 Class     Images  Instances      Box(P          R      mAP50  mAP50-95)     Mask(P          R      mAP50  mAP50-95): 100%|██████████| 10/10 [00:03<00:00,  3.27it/s]\n"
          ]
        },
        {
          "name": "stdout",
          "output_type": "stream",
          "text": [
            "                   all        302       4210      0.509     0.0506     0.0318     0.0117      0.507     0.0443     0.0287    0.00999\n",
            "\n",
            "      Epoch    GPU_mem   box_loss   seg_loss   cls_loss   dfl_loss  Instances       Size\n"
          ]
        },
        {
          "name": "stderr",
          "output_type": "stream",
          "text": [
            "     18/100      2.25G      2.718      3.947      3.138      2.513        342        512: 100%|██████████| 44/44 [00:21<00:00,  2.04it/s]\n",
            "                 Class     Images  Instances      Box(P          R      mAP50  mAP50-95)     Mask(P          R      mAP50  mAP50-95): 100%|██████████| 10/10 [00:02<00:00,  3.53it/s]\n"
          ]
        },
        {
          "name": "stdout",
          "output_type": "stream",
          "text": [
            "                   all        302       4210      0.507     0.0532     0.0338     0.0127      0.505     0.0468     0.0309     0.0114\n",
            "\n",
            "      Epoch    GPU_mem   box_loss   seg_loss   cls_loss   dfl_loss  Instances       Size\n"
          ]
        },
        {
          "name": "stderr",
          "output_type": "stream",
          "text": [
            "     19/100      2.41G      2.658      3.882      3.036       2.47        346        512: 100%|██████████| 44/44 [00:21<00:00,  2.09it/s]\n",
            "                 Class     Images  Instances      Box(P          R      mAP50  mAP50-95)     Mask(P          R      mAP50  mAP50-95): 100%|██████████| 10/10 [00:03<00:00,  3.06it/s]\n"
          ]
        },
        {
          "name": "stdout",
          "output_type": "stream",
          "text": [
            "                   all        302       4210      0.428     0.0671     0.0384     0.0145      0.424     0.0616      0.035     0.0131\n",
            "\n",
            "      Epoch    GPU_mem   box_loss   seg_loss   cls_loss   dfl_loss  Instances       Size\n"
          ]
        },
        {
          "name": "stderr",
          "output_type": "stream",
          "text": [
            "     20/100      2.28G      2.612      3.861      2.983      2.424        333        512: 100%|██████████| 44/44 [00:19<00:00,  2.21it/s]\n",
            "                 Class     Images  Instances      Box(P          R      mAP50  mAP50-95)     Mask(P          R      mAP50  mAP50-95): 100%|██████████| 10/10 [00:03<00:00,  2.59it/s]\n"
          ]
        },
        {
          "name": "stdout",
          "output_type": "stream",
          "text": [
            "                   all        302       4210      0.439     0.0654     0.0407     0.0155      0.436     0.0594     0.0368     0.0137\n",
            "\n",
            "      Epoch    GPU_mem   box_loss   seg_loss   cls_loss   dfl_loss  Instances       Size\n"
          ]
        },
        {
          "name": "stderr",
          "output_type": "stream",
          "text": [
            "     21/100      2.25G       2.59      3.794      2.935      2.383        339        512: 100%|██████████| 44/44 [00:20<00:00,  2.16it/s]\n",
            "                 Class     Images  Instances      Box(P          R      mAP50  mAP50-95)     Mask(P          R      mAP50  mAP50-95): 100%|██████████| 10/10 [00:03<00:00,  2.94it/s]\n"
          ]
        },
        {
          "name": "stdout",
          "output_type": "stream",
          "text": [
            "                   all        302       4210      0.388     0.0748     0.0451     0.0174      0.383     0.0686     0.0414     0.0155\n",
            "\n",
            "      Epoch    GPU_mem   box_loss   seg_loss   cls_loss   dfl_loss  Instances       Size\n"
          ]
        },
        {
          "name": "stderr",
          "output_type": "stream",
          "text": [
            "     22/100      2.29G      2.549      3.783       2.89      2.354        338        512: 100%|██████████| 44/44 [00:20<00:00,  2.10it/s]\n",
            "                 Class     Images  Instances      Box(P          R      mAP50  mAP50-95)     Mask(P          R      mAP50  mAP50-95): 100%|██████████| 10/10 [00:02<00:00,  3.53it/s]\n"
          ]
        },
        {
          "name": "stdout",
          "output_type": "stream",
          "text": [
            "                   all        302       4210      0.392     0.0766     0.0486     0.0187      0.386     0.0701     0.0446      0.017\n",
            "\n",
            "      Epoch    GPU_mem   box_loss   seg_loss   cls_loss   dfl_loss  Instances       Size\n"
          ]
        },
        {
          "name": "stderr",
          "output_type": "stream",
          "text": [
            "     23/100       2.3G      2.498       3.71      2.804      2.327        305        512: 100%|██████████| 44/44 [00:21<00:00,  2.08it/s]\n",
            "                 Class     Images  Instances      Box(P          R      mAP50  mAP50-95)     Mask(P          R      mAP50  mAP50-95): 100%|██████████| 10/10 [00:03<00:00,  2.93it/s]\n"
          ]
        },
        {
          "name": "stdout",
          "output_type": "stream",
          "text": [
            "                   all        302       4210      0.409     0.0813     0.0519     0.0204      0.406     0.0744      0.046      0.018\n",
            "\n",
            "      Epoch    GPU_mem   box_loss   seg_loss   cls_loss   dfl_loss  Instances       Size\n"
          ]
        },
        {
          "name": "stderr",
          "output_type": "stream",
          "text": [
            "     24/100      2.24G      2.498       3.72      2.795      2.292        320        512: 100%|██████████| 44/44 [00:21<00:00,  2.07it/s]\n",
            "                 Class     Images  Instances      Box(P          R      mAP50  mAP50-95)     Mask(P          R      mAP50  mAP50-95): 100%|██████████| 10/10 [00:03<00:00,  3.03it/s]\n"
          ]
        },
        {
          "name": "stdout",
          "output_type": "stream",
          "text": [
            "                   all        302       4210      0.362     0.0833     0.0541     0.0215      0.355     0.0774     0.0489     0.0197\n",
            "\n",
            "      Epoch    GPU_mem   box_loss   seg_loss   cls_loss   dfl_loss  Instances       Size\n"
          ]
        },
        {
          "name": "stderr",
          "output_type": "stream",
          "text": [
            "     25/100      2.33G      2.452      3.692      2.761      2.262        328        512: 100%|██████████| 44/44 [00:21<00:00,  2.02it/s]\n",
            "                 Class     Images  Instances      Box(P          R      mAP50  mAP50-95)     Mask(P          R      mAP50  mAP50-95): 100%|██████████| 10/10 [00:02<00:00,  3.53it/s]\n"
          ]
        },
        {
          "name": "stdout",
          "output_type": "stream",
          "text": [
            "                   all        302       4210       0.36     0.0892     0.0577     0.0232      0.352     0.0809     0.0533     0.0215\n",
            "\n",
            "      Epoch    GPU_mem   box_loss   seg_loss   cls_loss   dfl_loss  Instances       Size\n"
          ]
        },
        {
          "name": "stderr",
          "output_type": "stream",
          "text": [
            "     26/100       2.3G      2.433      3.668      2.729      2.243        412        512: 100%|██████████| 44/44 [00:21<00:00,  2.06it/s]\n",
            "                 Class     Images  Instances      Box(P          R      mAP50  mAP50-95)     Mask(P          R      mAP50  mAP50-95): 100%|██████████| 10/10 [00:02<00:00,  3.43it/s]\n"
          ]
        },
        {
          "name": "stdout",
          "output_type": "stream",
          "text": [
            "                   all        302       4210       0.39     0.0895     0.0662     0.0267      0.393      0.082     0.0591      0.025\n",
            "\n",
            "      Epoch    GPU_mem   box_loss   seg_loss   cls_loss   dfl_loss  Instances       Size\n"
          ]
        },
        {
          "name": "stderr",
          "output_type": "stream",
          "text": [
            "     27/100      2.33G      2.404      3.632      2.686      2.214        328        512: 100%|██████████| 44/44 [00:22<00:00,  1.96it/s]\n",
            "                 Class     Images  Instances      Box(P          R      mAP50  mAP50-95)     Mask(P          R      mAP50  mAP50-95): 100%|██████████| 10/10 [00:03<00:00,  3.26it/s]\n"
          ]
        },
        {
          "name": "stdout",
          "output_type": "stream",
          "text": [
            "                   all        302       4210      0.408     0.0936     0.0682     0.0284      0.402     0.0865     0.0607     0.0259\n",
            "\n",
            "      Epoch    GPU_mem   box_loss   seg_loss   cls_loss   dfl_loss  Instances       Size\n"
          ]
        },
        {
          "name": "stderr",
          "output_type": "stream",
          "text": [
            "     28/100      2.37G       2.39        3.6      2.662      2.195        350        512: 100%|██████████| 44/44 [00:21<00:00,  2.06it/s]\n",
            "                 Class     Images  Instances      Box(P          R      mAP50  mAP50-95)     Mask(P          R      mAP50  mAP50-95): 100%|██████████| 10/10 [00:03<00:00,  2.94it/s]\n"
          ]
        },
        {
          "name": "stdout",
          "output_type": "stream",
          "text": [
            "                   all        302       4210      0.414     0.0929     0.0695     0.0291       0.41     0.0849     0.0635     0.0274\n",
            "\n",
            "      Epoch    GPU_mem   box_loss   seg_loss   cls_loss   dfl_loss  Instances       Size\n"
          ]
        },
        {
          "name": "stderr",
          "output_type": "stream",
          "text": [
            "     29/100      2.26G      2.366      3.614       2.65      2.175        326        512: 100%|██████████| 44/44 [00:20<00:00,  2.13it/s]\n",
            "                 Class     Images  Instances      Box(P          R      mAP50  mAP50-95)     Mask(P          R      mAP50  mAP50-95): 100%|██████████| 10/10 [00:03<00:00,  2.95it/s]\n"
          ]
        },
        {
          "name": "stdout",
          "output_type": "stream",
          "text": [
            "                   all        302       4210      0.407     0.0949     0.0757     0.0322      0.402     0.0868     0.0689     0.0303\n",
            "\n",
            "      Epoch    GPU_mem   box_loss   seg_loss   cls_loss   dfl_loss  Instances       Size\n"
          ]
        },
        {
          "name": "stderr",
          "output_type": "stream",
          "text": [
            "     30/100      2.29G      2.331      3.578      2.593       2.16        329        512: 100%|██████████| 44/44 [00:21<00:00,  2.08it/s]\n",
            "                 Class     Images  Instances      Box(P          R      mAP50  mAP50-95)     Mask(P          R      mAP50  mAP50-95): 100%|██████████| 10/10 [00:02<00:00,  3.66it/s]\n"
          ]
        },
        {
          "name": "stdout",
          "output_type": "stream",
          "text": [
            "                   all        302       4210      0.394      0.108     0.0754     0.0322      0.362      0.101     0.0689     0.0303\n",
            "\n",
            "      Epoch    GPU_mem   box_loss   seg_loss   cls_loss   dfl_loss  Instances       Size\n"
          ]
        },
        {
          "name": "stderr",
          "output_type": "stream",
          "text": [
            "     31/100      2.22G      2.319      3.519      2.583      2.137        296        512: 100%|██████████| 44/44 [00:21<00:00,  2.04it/s]\n",
            "                 Class     Images  Instances      Box(P          R      mAP50  mAP50-95)     Mask(P          R      mAP50  mAP50-95): 100%|██████████| 10/10 [00:03<00:00,  3.24it/s]\n"
          ]
        },
        {
          "name": "stdout",
          "output_type": "stream",
          "text": [
            "                   all        302       4210      0.469      0.101     0.0771     0.0336      0.443     0.0941     0.0694      0.031\n",
            "\n",
            "      Epoch    GPU_mem   box_loss   seg_loss   cls_loss   dfl_loss  Instances       Size\n"
          ]
        },
        {
          "name": "stderr",
          "output_type": "stream",
          "text": [
            "     32/100      2.29G      2.298      3.509      2.569      2.123        292        512: 100%|██████████| 44/44 [00:22<00:00,  1.99it/s]\n",
            "                 Class     Images  Instances      Box(P          R      mAP50  mAP50-95)     Mask(P          R      mAP50  mAP50-95): 100%|██████████| 10/10 [00:02<00:00,  3.47it/s]\n"
          ]
        },
        {
          "name": "stdout",
          "output_type": "stream",
          "text": [
            "                   all        302       4210      0.431      0.106      0.077     0.0344      0.423      0.103     0.0711     0.0321\n",
            "\n",
            "      Epoch    GPU_mem   box_loss   seg_loss   cls_loss   dfl_loss  Instances       Size\n"
          ]
        },
        {
          "name": "stderr",
          "output_type": "stream",
          "text": [
            "     33/100      2.37G      2.287       3.49      2.544      2.091        378        512: 100%|██████████| 44/44 [00:20<00:00,  2.12it/s]\n",
            "                 Class     Images  Instances      Box(P          R      mAP50  mAP50-95)     Mask(P          R      mAP50  mAP50-95): 100%|██████████| 10/10 [00:03<00:00,  3.01it/s]\n"
          ]
        },
        {
          "name": "stdout",
          "output_type": "stream",
          "text": [
            "                   all        302       4210      0.457      0.105      0.084     0.0378      0.449     0.0985     0.0766     0.0355\n",
            "\n",
            "      Epoch    GPU_mem   box_loss   seg_loss   cls_loss   dfl_loss  Instances       Size\n"
          ]
        },
        {
          "name": "stderr",
          "output_type": "stream",
          "text": [
            "     34/100      2.32G      2.257      3.507      2.503      2.078        382        512: 100%|██████████| 44/44 [00:21<00:00,  2.09it/s]\n",
            "                 Class     Images  Instances      Box(P          R      mAP50  mAP50-95)     Mask(P          R      mAP50  mAP50-95): 100%|██████████| 10/10 [00:03<00:00,  2.71it/s]\n"
          ]
        },
        {
          "name": "stdout",
          "output_type": "stream",
          "text": [
            "                   all        302       4210      0.435      0.112     0.0844     0.0381      0.428      0.106     0.0781     0.0354\n",
            "\n",
            "      Epoch    GPU_mem   box_loss   seg_loss   cls_loss   dfl_loss  Instances       Size\n"
          ]
        },
        {
          "name": "stderr",
          "output_type": "stream",
          "text": [
            "     35/100      2.26G      2.261      3.497      2.492      2.066        309        512: 100%|██████████| 44/44 [00:22<00:00,  1.94it/s]\n",
            "                 Class     Images  Instances      Box(P          R      mAP50  mAP50-95)     Mask(P          R      mAP50  mAP50-95): 100%|██████████| 10/10 [00:02<00:00,  3.36it/s]\n"
          ]
        },
        {
          "name": "stdout",
          "output_type": "stream",
          "text": [
            "                   all        302       4210      0.457      0.111     0.0857     0.0393      0.448      0.104       0.08     0.0372\n",
            "\n",
            "      Epoch    GPU_mem   box_loss   seg_loss   cls_loss   dfl_loss  Instances       Size\n"
          ]
        },
        {
          "name": "stderr",
          "output_type": "stream",
          "text": [
            "     36/100      2.39G      2.225      3.443      2.452      2.052        343        512: 100%|██████████| 44/44 [00:21<00:00,  2.08it/s]\n",
            "                 Class     Images  Instances      Box(P          R      mAP50  mAP50-95)     Mask(P          R      mAP50  mAP50-95): 100%|██████████| 10/10 [00:03<00:00,  2.96it/s]\n"
          ]
        },
        {
          "name": "stdout",
          "output_type": "stream",
          "text": [
            "                   all        302       4210      0.419      0.118     0.0868     0.0399      0.413      0.114       0.08     0.0372\n",
            "\n",
            "      Epoch    GPU_mem   box_loss   seg_loss   cls_loss   dfl_loss  Instances       Size\n"
          ]
        },
        {
          "name": "stderr",
          "output_type": "stream",
          "text": [
            "     37/100      2.29G      2.222      3.442      2.452      2.044        341        512: 100%|██████████| 44/44 [00:20<00:00,  2.10it/s]\n",
            "                 Class     Images  Instances      Box(P          R      mAP50  mAP50-95)     Mask(P          R      mAP50  mAP50-95): 100%|██████████| 10/10 [00:02<00:00,  3.50it/s]\n"
          ]
        },
        {
          "name": "stdout",
          "output_type": "stream",
          "text": [
            "                   all        302       4210      0.415       0.12      0.088     0.0406      0.415      0.115     0.0834     0.0389\n",
            "\n",
            "      Epoch    GPU_mem   box_loss   seg_loss   cls_loss   dfl_loss  Instances       Size\n"
          ]
        },
        {
          "name": "stderr",
          "output_type": "stream",
          "text": [
            "     38/100       2.3G      2.186      3.402      2.436      2.031        299        512: 100%|██████████| 44/44 [00:21<00:00,  2.09it/s]\n",
            "                 Class     Images  Instances      Box(P          R      mAP50  mAP50-95)     Mask(P          R      mAP50  mAP50-95): 100%|██████████| 10/10 [00:03<00:00,  3.06it/s]\n"
          ]
        },
        {
          "name": "stdout",
          "output_type": "stream",
          "text": [
            "                   all        302       4210      0.405      0.118     0.0911     0.0428      0.401      0.114     0.0853     0.0396\n",
            "\n",
            "      Epoch    GPU_mem   box_loss   seg_loss   cls_loss   dfl_loss  Instances       Size\n"
          ]
        },
        {
          "name": "stderr",
          "output_type": "stream",
          "text": [
            "     39/100      2.25G      2.203      3.397      2.423      2.016        310        512: 100%|██████████| 44/44 [00:21<00:00,  2.05it/s]\n",
            "                 Class     Images  Instances      Box(P          R      mAP50  mAP50-95)     Mask(P          R      mAP50  mAP50-95): 100%|██████████| 10/10 [00:03<00:00,  3.05it/s]\n"
          ]
        },
        {
          "name": "stdout",
          "output_type": "stream",
          "text": [
            "                   all        302       4210      0.418      0.127     0.0904      0.043      0.393      0.121     0.0856     0.0402\n",
            "\n",
            "      Epoch    GPU_mem   box_loss   seg_loss   cls_loss   dfl_loss  Instances       Size\n"
          ]
        },
        {
          "name": "stderr",
          "output_type": "stream",
          "text": [
            "     40/100      2.29G      2.187      3.384      2.397      2.004        349        512: 100%|██████████| 44/44 [00:21<00:00,  2.09it/s]\n",
            "                 Class     Images  Instances      Box(P          R      mAP50  mAP50-95)     Mask(P          R      mAP50  mAP50-95): 100%|██████████| 10/10 [00:03<00:00,  2.98it/s]\n"
          ]
        },
        {
          "name": "stdout",
          "output_type": "stream",
          "text": [
            "                   all        302       4210      0.463       0.12     0.0918     0.0432      0.461      0.114     0.0869     0.0414\n",
            "\n",
            "      Epoch    GPU_mem   box_loss   seg_loss   cls_loss   dfl_loss  Instances       Size\n"
          ]
        },
        {
          "name": "stderr",
          "output_type": "stream",
          "text": [
            "     41/100      2.28G      2.176      3.408      2.393      1.991        304        512: 100%|██████████| 44/44 [00:21<00:00,  2.06it/s]\n",
            "                 Class     Images  Instances      Box(P          R      mAP50  mAP50-95)     Mask(P          R      mAP50  mAP50-95): 100%|██████████| 10/10 [00:03<00:00,  3.26it/s]\n"
          ]
        },
        {
          "name": "stdout",
          "output_type": "stream",
          "text": [
            "                   all        302       4210      0.429      0.127     0.0954     0.0458      0.427      0.122     0.0893     0.0431\n",
            "\n",
            "      Epoch    GPU_mem   box_loss   seg_loss   cls_loss   dfl_loss  Instances       Size\n"
          ]
        },
        {
          "name": "stderr",
          "output_type": "stream",
          "text": [
            "     42/100      2.29G      2.169      3.363      2.383      1.974        360        512: 100%|██████████| 44/44 [00:18<00:00,  2.35it/s]\n",
            "                 Class     Images  Instances      Box(P          R      mAP50  mAP50-95)     Mask(P          R      mAP50  mAP50-95): 100%|██████████| 10/10 [00:04<00:00,  2.25it/s]\n"
          ]
        },
        {
          "name": "stdout",
          "output_type": "stream",
          "text": [
            "                   all        302       4210      0.437      0.124     0.0963     0.0457      0.434      0.118     0.0904     0.0437\n",
            "\n",
            "      Epoch    GPU_mem   box_loss   seg_loss   cls_loss   dfl_loss  Instances       Size\n"
          ]
        },
        {
          "name": "stderr",
          "output_type": "stream",
          "text": [
            "     43/100      2.27G       2.16       3.38      2.371      1.968        351        512: 100%|██████████| 44/44 [00:21<00:00,  2.01it/s]\n",
            "                 Class     Images  Instances      Box(P          R      mAP50  mAP50-95)     Mask(P          R      mAP50  mAP50-95): 100%|██████████| 10/10 [00:03<00:00,  3.30it/s]\n"
          ]
        },
        {
          "name": "stdout",
          "output_type": "stream",
          "text": [
            "                   all        302       4210      0.447      0.129     0.0969     0.0466      0.448      0.124     0.0912     0.0447\n",
            "\n",
            "      Epoch    GPU_mem   box_loss   seg_loss   cls_loss   dfl_loss  Instances       Size\n"
          ]
        },
        {
          "name": "stderr",
          "output_type": "stream",
          "text": [
            "     44/100      2.34G      2.135      3.337      2.329      1.946        355        512: 100%|██████████| 44/44 [00:21<00:00,  2.01it/s]\n",
            "                 Class     Images  Instances      Box(P          R      mAP50  mAP50-95)     Mask(P          R      mAP50  mAP50-95): 100%|██████████| 10/10 [00:03<00:00,  3.06it/s]\n"
          ]
        },
        {
          "name": "stdout",
          "output_type": "stream",
          "text": [
            "                   all        302       4210       0.41      0.128      0.101     0.0494      0.406      0.122      0.095     0.0461\n",
            "\n",
            "      Epoch    GPU_mem   box_loss   seg_loss   cls_loss   dfl_loss  Instances       Size\n"
          ]
        },
        {
          "name": "stderr",
          "output_type": "stream",
          "text": [
            "     45/100      2.37G      2.124       3.32      2.317      1.934        328        512: 100%|██████████| 44/44 [00:19<00:00,  2.30it/s]\n",
            "                 Class     Images  Instances      Box(P          R      mAP50  mAP50-95)     Mask(P          R      mAP50  mAP50-95): 100%|██████████| 10/10 [00:04<00:00,  2.22it/s]\n"
          ]
        },
        {
          "name": "stdout",
          "output_type": "stream",
          "text": [
            "                   all        302       4210      0.418      0.129     0.0987     0.0482      0.414      0.124     0.0917     0.0448\n",
            "\n",
            "      Epoch    GPU_mem   box_loss   seg_loss   cls_loss   dfl_loss  Instances       Size\n"
          ]
        },
        {
          "name": "stderr",
          "output_type": "stream",
          "text": [
            "     46/100      2.32G      2.124      3.343      2.337       1.93        327        512: 100%|██████████| 44/44 [00:21<00:00,  2.06it/s]\n",
            "                 Class     Images  Instances      Box(P          R      mAP50  mAP50-95)     Mask(P          R      mAP50  mAP50-95): 100%|██████████| 10/10 [00:03<00:00,  3.28it/s]\n"
          ]
        },
        {
          "name": "stdout",
          "output_type": "stream",
          "text": [
            "                   all        302       4210       0.43      0.132      0.102     0.0504      0.452      0.125     0.0966      0.047\n",
            "\n",
            "      Epoch    GPU_mem   box_loss   seg_loss   cls_loss   dfl_loss  Instances       Size\n"
          ]
        },
        {
          "name": "stderr",
          "output_type": "stream",
          "text": [
            "     47/100      2.27G      2.109      3.308       2.29      1.911        341        512: 100%|██████████| 44/44 [00:21<00:00,  2.08it/s]\n",
            "                 Class     Images  Instances      Box(P          R      mAP50  mAP50-95)     Mask(P          R      mAP50  mAP50-95): 100%|██████████| 10/10 [00:03<00:00,  3.15it/s]\n"
          ]
        },
        {
          "name": "stdout",
          "output_type": "stream",
          "text": [
            "                   all        302       4210      0.424      0.133      0.103     0.0501      0.421      0.129     0.0982     0.0475\n",
            "\n",
            "      Epoch    GPU_mem   box_loss   seg_loss   cls_loss   dfl_loss  Instances       Size\n"
          ]
        },
        {
          "name": "stderr",
          "output_type": "stream",
          "text": [
            "     48/100      2.29G      2.093      3.326      2.286      1.908        407        512: 100%|██████████| 44/44 [00:21<00:00,  2.01it/s]\n",
            "                 Class     Images  Instances      Box(P          R      mAP50  mAP50-95)     Mask(P          R      mAP50  mAP50-95): 100%|██████████| 10/10 [00:03<00:00,  3.17it/s]\n"
          ]
        },
        {
          "name": "stdout",
          "output_type": "stream",
          "text": [
            "                   all        302       4210      0.443      0.135      0.105     0.0525      0.441      0.131     0.0992     0.0496\n",
            "\n",
            "      Epoch    GPU_mem   box_loss   seg_loss   cls_loss   dfl_loss  Instances       Size\n"
          ]
        },
        {
          "name": "stderr",
          "output_type": "stream",
          "text": [
            "     49/100      2.36G      2.096      3.295      2.262        1.9        320        512: 100%|██████████| 44/44 [00:21<00:00,  2.07it/s]\n",
            "                 Class     Images  Instances      Box(P          R      mAP50  mAP50-95)     Mask(P          R      mAP50  mAP50-95): 100%|██████████| 10/10 [00:03<00:00,  3.23it/s]\n"
          ]
        },
        {
          "name": "stdout",
          "output_type": "stream",
          "text": [
            "                   all        302       4210       0.43      0.135      0.104     0.0515      0.428      0.128     0.0981     0.0485\n",
            "\n",
            "      Epoch    GPU_mem   box_loss   seg_loss   cls_loss   dfl_loss  Instances       Size\n"
          ]
        },
        {
          "name": "stderr",
          "output_type": "stream",
          "text": [
            "     50/100       2.3G       2.08      3.274       2.25       1.89        363        512: 100%|██████████| 44/44 [00:20<00:00,  2.13it/s]\n",
            "                 Class     Images  Instances      Box(P          R      mAP50  mAP50-95)     Mask(P          R      mAP50  mAP50-95): 100%|██████████| 10/10 [00:03<00:00,  2.89it/s]\n"
          ]
        },
        {
          "name": "stdout",
          "output_type": "stream",
          "text": [
            "                   all        302       4210      0.415      0.142       0.11     0.0548      0.413      0.137      0.104     0.0519\n",
            "\n",
            "      Epoch    GPU_mem   box_loss   seg_loss   cls_loss   dfl_loss  Instances       Size\n"
          ]
        },
        {
          "name": "stderr",
          "output_type": "stream",
          "text": [
            "     51/100      2.24G      2.075      3.281      2.272       1.89        253        512: 100%|██████████| 44/44 [00:20<00:00,  2.10it/s]\n",
            "                 Class     Images  Instances      Box(P          R      mAP50  mAP50-95)     Mask(P          R      mAP50  mAP50-95): 100%|██████████| 10/10 [00:03<00:00,  3.21it/s]\n"
          ]
        },
        {
          "name": "stdout",
          "output_type": "stream",
          "text": [
            "                   all        302       4210       0.44      0.137      0.111     0.0552       0.44      0.131      0.106     0.0524\n",
            "\n",
            "      Epoch    GPU_mem   box_loss   seg_loss   cls_loss   dfl_loss  Instances       Size\n"
          ]
        },
        {
          "name": "stderr",
          "output_type": "stream",
          "text": [
            "     52/100      2.28G       2.08      3.286      2.258      1.872        416        512: 100%|██████████| 44/44 [00:21<00:00,  2.06it/s]\n",
            "                 Class     Images  Instances      Box(P          R      mAP50  mAP50-95)     Mask(P          R      mAP50  mAP50-95): 100%|██████████| 10/10 [00:02<00:00,  3.35it/s]\n"
          ]
        },
        {
          "name": "stdout",
          "output_type": "stream",
          "text": [
            "                   all        302       4210      0.414      0.145      0.109      0.055      0.412       0.14      0.104     0.0518\n",
            "\n",
            "      Epoch    GPU_mem   box_loss   seg_loss   cls_loss   dfl_loss  Instances       Size\n"
          ]
        },
        {
          "name": "stderr",
          "output_type": "stream",
          "text": [
            "     53/100      2.28G      2.061      3.215      2.236      1.865        346        512: 100%|██████████| 44/44 [00:21<00:00,  2.02it/s]\n",
            "                 Class     Images  Instances      Box(P          R      mAP50  mAP50-95)     Mask(P          R      mAP50  mAP50-95): 100%|██████████| 10/10 [00:02<00:00,  3.54it/s]\n"
          ]
        },
        {
          "name": "stdout",
          "output_type": "stream",
          "text": [
            "                   all        302       4210      0.412      0.139       0.11     0.0551       0.41      0.134      0.105     0.0524\n",
            "\n",
            "      Epoch    GPU_mem   box_loss   seg_loss   cls_loss   dfl_loss  Instances       Size\n"
          ]
        },
        {
          "name": "stderr",
          "output_type": "stream",
          "text": [
            "     54/100      2.29G      2.051      3.241      2.235      1.859        394        512: 100%|██████████| 44/44 [00:22<00:00,  1.97it/s]\n",
            "                 Class     Images  Instances      Box(P          R      mAP50  mAP50-95)     Mask(P          R      mAP50  mAP50-95): 100%|██████████| 10/10 [00:03<00:00,  3.16it/s]\n"
          ]
        },
        {
          "name": "stdout",
          "output_type": "stream",
          "text": [
            "                   all        302       4210      0.431      0.139      0.112     0.0566      0.429      0.135      0.105     0.0526\n",
            "\n",
            "      Epoch    GPU_mem   box_loss   seg_loss   cls_loss   dfl_loss  Instances       Size\n"
          ]
        },
        {
          "name": "stderr",
          "output_type": "stream",
          "text": [
            "     55/100      2.26G      2.047      3.257      2.238      1.849        395        512: 100%|██████████| 44/44 [00:20<00:00,  2.14it/s]\n",
            "                 Class     Images  Instances      Box(P          R      mAP50  mAP50-95)     Mask(P          R      mAP50  mAP50-95): 100%|██████████| 10/10 [00:03<00:00,  3.22it/s]\n"
          ]
        },
        {
          "name": "stdout",
          "output_type": "stream",
          "text": [
            "                   all        302       4210      0.413      0.146      0.114     0.0573      0.412       0.14      0.109     0.0541\n",
            "\n",
            "      Epoch    GPU_mem   box_loss   seg_loss   cls_loss   dfl_loss  Instances       Size\n"
          ]
        },
        {
          "name": "stderr",
          "output_type": "stream",
          "text": [
            "     56/100      2.29G      2.042      3.257      2.213      1.835        402        512: 100%|██████████| 44/44 [00:18<00:00,  2.43it/s]\n",
            "                 Class     Images  Instances      Box(P          R      mAP50  mAP50-95)     Mask(P          R      mAP50  mAP50-95): 100%|██████████| 10/10 [00:05<00:00,  1.74it/s]\n"
          ]
        },
        {
          "name": "stdout",
          "output_type": "stream",
          "text": [
            "                   all        302       4210      0.438      0.141      0.111      0.055      0.432      0.134      0.103     0.0515\n",
            "\n",
            "      Epoch    GPU_mem   box_loss   seg_loss   cls_loss   dfl_loss  Instances       Size\n"
          ]
        },
        {
          "name": "stderr",
          "output_type": "stream",
          "text": [
            "     57/100      2.34G       2.03       3.19       2.21      1.846        365        512: 100%|██████████| 44/44 [00:21<00:00,  2.08it/s]\n",
            "                 Class     Images  Instances      Box(P          R      mAP50  mAP50-95)     Mask(P          R      mAP50  mAP50-95): 100%|██████████| 10/10 [00:03<00:00,  3.28it/s]\n"
          ]
        },
        {
          "name": "stdout",
          "output_type": "stream",
          "text": [
            "                   all        302       4210      0.418      0.149      0.116     0.0588      0.438      0.143       0.11     0.0554\n",
            "\n",
            "      Epoch    GPU_mem   box_loss   seg_loss   cls_loss   dfl_loss  Instances       Size\n"
          ]
        },
        {
          "name": "stderr",
          "output_type": "stream",
          "text": [
            "     58/100      2.25G      2.011       3.18      2.181      1.827        371        512: 100%|██████████| 44/44 [00:22<00:00,  1.97it/s]\n",
            "                 Class     Images  Instances      Box(P          R      mAP50  mAP50-95)     Mask(P          R      mAP50  mAP50-95): 100%|██████████| 10/10 [00:02<00:00,  3.76it/s]\n"
          ]
        },
        {
          "name": "stdout",
          "output_type": "stream",
          "text": [
            "                   all        302       4210       0.42      0.144      0.117     0.0602      0.419       0.14      0.111      0.056\n",
            "\n",
            "      Epoch    GPU_mem   box_loss   seg_loss   cls_loss   dfl_loss  Instances       Size\n"
          ]
        },
        {
          "name": "stderr",
          "output_type": "stream",
          "text": [
            "     59/100      2.39G      2.039      3.216      2.209      1.834        392        512: 100%|██████████| 44/44 [00:21<00:00,  2.02it/s]\n",
            "                 Class     Images  Instances      Box(P          R      mAP50  mAP50-95)     Mask(P          R      mAP50  mAP50-95): 100%|██████████| 10/10 [00:03<00:00,  3.29it/s]\n"
          ]
        },
        {
          "name": "stdout",
          "output_type": "stream",
          "text": [
            "                   all        302       4210      0.444      0.151      0.116     0.0584      0.445      0.146      0.111     0.0558\n",
            "\n",
            "      Epoch    GPU_mem   box_loss   seg_loss   cls_loss   dfl_loss  Instances       Size\n"
          ]
        },
        {
          "name": "stderr",
          "output_type": "stream",
          "text": [
            "     60/100      2.29G      1.998      3.154      2.175      1.818        394        512: 100%|██████████| 44/44 [00:21<00:00,  2.04it/s]\n",
            "                 Class     Images  Instances      Box(P          R      mAP50  mAP50-95)     Mask(P          R      mAP50  mAP50-95): 100%|██████████| 10/10 [00:03<00:00,  3.30it/s]\n"
          ]
        },
        {
          "name": "stdout",
          "output_type": "stream",
          "text": [
            "                   all        302       4210      0.453      0.146      0.117     0.0596      0.453      0.142      0.111     0.0555\n",
            "\n",
            "      Epoch    GPU_mem   box_loss   seg_loss   cls_loss   dfl_loss  Instances       Size\n"
          ]
        },
        {
          "name": "stderr",
          "output_type": "stream",
          "text": [
            "     61/100      2.37G      2.009       3.19      2.196      1.819        295        512: 100%|██████████| 44/44 [00:21<00:00,  2.04it/s]\n",
            "                 Class     Images  Instances      Box(P          R      mAP50  mAP50-95)     Mask(P          R      mAP50  mAP50-95): 100%|██████████| 10/10 [00:03<00:00,  3.19it/s]\n"
          ]
        },
        {
          "name": "stdout",
          "output_type": "stream",
          "text": [
            "                   all        302       4210      0.435       0.15      0.119     0.0609      0.434      0.145      0.114     0.0565\n",
            "\n",
            "      Epoch    GPU_mem   box_loss   seg_loss   cls_loss   dfl_loss  Instances       Size\n"
          ]
        },
        {
          "name": "stderr",
          "output_type": "stream",
          "text": [
            "     62/100       2.3G      2.013      3.182      2.187      1.822        322        512: 100%|██████████| 44/44 [00:21<00:00,  2.02it/s]\n",
            "                 Class     Images  Instances      Box(P          R      mAP50  mAP50-95)     Mask(P          R      mAP50  mAP50-95): 100%|██████████| 10/10 [00:02<00:00,  3.53it/s]\n"
          ]
        },
        {
          "name": "stdout",
          "output_type": "stream",
          "text": [
            "                   all        302       4210      0.446      0.143       0.12     0.0612       0.44      0.138      0.114     0.0567\n",
            "\n",
            "      Epoch    GPU_mem   box_loss   seg_loss   cls_loss   dfl_loss  Instances       Size\n"
          ]
        },
        {
          "name": "stderr",
          "output_type": "stream",
          "text": [
            "     63/100       2.3G      1.996      3.165      2.165      1.813        322        512: 100%|██████████| 44/44 [00:21<00:00,  2.05it/s]\n",
            "                 Class     Images  Instances      Box(P          R      mAP50  mAP50-95)     Mask(P          R      mAP50  mAP50-95): 100%|██████████| 10/10 [00:03<00:00,  2.71it/s]\n"
          ]
        },
        {
          "name": "stdout",
          "output_type": "stream",
          "text": [
            "                   all        302       4210      0.441      0.149      0.119     0.0612      0.438      0.145      0.113     0.0567\n",
            "\n",
            "      Epoch    GPU_mem   box_loss   seg_loss   cls_loss   dfl_loss  Instances       Size\n"
          ]
        },
        {
          "name": "stderr",
          "output_type": "stream",
          "text": [
            "     64/100      2.25G      1.983      3.147      2.155      1.801        324        512: 100%|██████████| 44/44 [00:22<00:00,  1.92it/s]\n",
            "                 Class     Images  Instances      Box(P          R      mAP50  mAP50-95)     Mask(P          R      mAP50  mAP50-95): 100%|██████████| 10/10 [00:03<00:00,  3.05it/s]\n"
          ]
        },
        {
          "name": "stdout",
          "output_type": "stream",
          "text": [
            "                   all        302       4210      0.495      0.143      0.121     0.0627      0.495      0.137      0.115     0.0587\n",
            "\n",
            "      Epoch    GPU_mem   box_loss   seg_loss   cls_loss   dfl_loss  Instances       Size\n"
          ]
        },
        {
          "name": "stderr",
          "output_type": "stream",
          "text": [
            "     65/100      2.26G      1.986      3.178      2.168      1.795        302        512: 100%|██████████| 44/44 [00:20<00:00,  2.14it/s]\n",
            "                 Class     Images  Instances      Box(P          R      mAP50  mAP50-95)     Mask(P          R      mAP50  mAP50-95): 100%|██████████| 10/10 [00:03<00:00,  2.83it/s]\n"
          ]
        },
        {
          "name": "stdout",
          "output_type": "stream",
          "text": [
            "                   all        302       4210      0.403       0.15      0.119     0.0609      0.401      0.144      0.115     0.0577\n",
            "\n",
            "      Epoch    GPU_mem   box_loss   seg_loss   cls_loss   dfl_loss  Instances       Size\n"
          ]
        },
        {
          "name": "stderr",
          "output_type": "stream",
          "text": [
            "     66/100      2.27G      1.979      3.132      2.154      1.805        328        512: 100%|██████████| 44/44 [00:20<00:00,  2.12it/s]\n",
            "                 Class     Images  Instances      Box(P          R      mAP50  mAP50-95)     Mask(P          R      mAP50  mAP50-95): 100%|██████████| 10/10 [00:03<00:00,  3.02it/s]\n"
          ]
        },
        {
          "name": "stdout",
          "output_type": "stream",
          "text": [
            "                   all        302       4210      0.398      0.151       0.12      0.062      0.399      0.146      0.117     0.0586\n",
            "\n",
            "      Epoch    GPU_mem   box_loss   seg_loss   cls_loss   dfl_loss  Instances       Size\n"
          ]
        },
        {
          "name": "stderr",
          "output_type": "stream",
          "text": [
            "     67/100      2.31G      1.979      3.141      2.146      1.796        295        512: 100%|██████████| 44/44 [00:21<00:00,  2.08it/s]\n",
            "                 Class     Images  Instances      Box(P          R      mAP50  mAP50-95)     Mask(P          R      mAP50  mAP50-95): 100%|██████████| 10/10 [00:03<00:00,  3.24it/s]\n"
          ]
        },
        {
          "name": "stdout",
          "output_type": "stream",
          "text": [
            "                   all        302       4210      0.423      0.156      0.123     0.0635      0.417      0.153      0.119     0.0603\n",
            "\n",
            "      Epoch    GPU_mem   box_loss   seg_loss   cls_loss   dfl_loss  Instances       Size\n"
          ]
        },
        {
          "name": "stderr",
          "output_type": "stream",
          "text": [
            "     68/100       2.3G      1.993      3.176      2.164      1.793        344        512: 100%|██████████| 44/44 [00:21<00:00,  2.02it/s]\n",
            "                 Class     Images  Instances      Box(P          R      mAP50  mAP50-95)     Mask(P          R      mAP50  mAP50-95): 100%|██████████| 10/10 [00:02<00:00,  3.69it/s]\n"
          ]
        },
        {
          "name": "stdout",
          "output_type": "stream",
          "text": [
            "                   all        302       4210      0.393      0.157      0.123     0.0637      0.398      0.148      0.117     0.0592\n",
            "\n",
            "      Epoch    GPU_mem   box_loss   seg_loss   cls_loss   dfl_loss  Instances       Size\n"
          ]
        },
        {
          "name": "stderr",
          "output_type": "stream",
          "text": [
            "     69/100       2.3G      1.974      3.151      2.156      1.786        361        512: 100%|██████████| 44/44 [00:20<00:00,  2.15it/s]\n",
            "                 Class     Images  Instances      Box(P          R      mAP50  mAP50-95)     Mask(P          R      mAP50  mAP50-95): 100%|██████████| 10/10 [00:03<00:00,  2.73it/s]\n"
          ]
        },
        {
          "name": "stdout",
          "output_type": "stream",
          "text": [
            "                   all        302       4210      0.389      0.151      0.122     0.0634      0.388      0.146      0.116     0.0589\n",
            "\n",
            "      Epoch    GPU_mem   box_loss   seg_loss   cls_loss   dfl_loss  Instances       Size\n"
          ]
        },
        {
          "name": "stderr",
          "output_type": "stream",
          "text": [
            "     70/100      2.32G      1.973      3.126      2.127      1.781        301        512: 100%|██████████| 44/44 [00:21<00:00,  2.07it/s]\n",
            "                 Class     Images  Instances      Box(P          R      mAP50  mAP50-95)     Mask(P          R      mAP50  mAP50-95): 100%|██████████| 10/10 [00:03<00:00,  3.33it/s]\n"
          ]
        },
        {
          "name": "stdout",
          "output_type": "stream",
          "text": [
            "                   all        302       4210      0.393      0.153      0.121     0.0631      0.395       0.15      0.117      0.059\n",
            "\n",
            "      Epoch    GPU_mem   box_loss   seg_loss   cls_loss   dfl_loss  Instances       Size\n"
          ]
        },
        {
          "name": "stderr",
          "output_type": "stream",
          "text": [
            "     71/100      2.34G      1.966      3.162      2.125       1.77        333        512: 100%|██████████| 44/44 [00:21<00:00,  2.03it/s]\n",
            "                 Class     Images  Instances      Box(P          R      mAP50  mAP50-95)     Mask(P          R      mAP50  mAP50-95): 100%|██████████| 10/10 [00:02<00:00,  3.76it/s]\n"
          ]
        },
        {
          "name": "stdout",
          "output_type": "stream",
          "text": [
            "                   all        302       4210      0.415      0.161      0.123     0.0635      0.438      0.149      0.118     0.0593\n",
            "\n",
            "      Epoch    GPU_mem   box_loss   seg_loss   cls_loss   dfl_loss  Instances       Size\n"
          ]
        },
        {
          "name": "stderr",
          "output_type": "stream",
          "text": [
            "     72/100      2.32G      1.963      3.125      2.121      1.771        353        512: 100%|██████████| 44/44 [00:21<00:00,  2.07it/s]\n",
            "                 Class     Images  Instances      Box(P          R      mAP50  mAP50-95)     Mask(P          R      mAP50  mAP50-95): 100%|██████████| 10/10 [00:03<00:00,  2.89it/s]\n"
          ]
        },
        {
          "name": "stdout",
          "output_type": "stream",
          "text": [
            "                   all        302       4210        0.4      0.161      0.123     0.0638      0.401      0.151      0.118     0.0599\n",
            "\n",
            "      Epoch    GPU_mem   box_loss   seg_loss   cls_loss   dfl_loss  Instances       Size\n"
          ]
        },
        {
          "name": "stderr",
          "output_type": "stream",
          "text": [
            "     73/100      2.31G      1.961      3.116      2.125      1.756        348        512: 100%|██████████| 44/44 [00:21<00:00,  2.07it/s]\n",
            "                 Class     Images  Instances      Box(P          R      mAP50  mAP50-95)     Mask(P          R      mAP50  mAP50-95): 100%|██████████| 10/10 [00:03<00:00,  3.14it/s]\n"
          ]
        },
        {
          "name": "stdout",
          "output_type": "stream",
          "text": [
            "                   all        302       4210      0.451      0.159      0.123     0.0638      0.447      0.149      0.118     0.0599\n",
            "\n",
            "      Epoch    GPU_mem   box_loss   seg_loss   cls_loss   dfl_loss  Instances       Size\n"
          ]
        },
        {
          "name": "stderr",
          "output_type": "stream",
          "text": [
            "     74/100      2.36G      1.944      3.097      2.101      1.753        378        512: 100%|██████████| 44/44 [00:20<00:00,  2.13it/s]\n",
            "                 Class     Images  Instances      Box(P          R      mAP50  mAP50-95)     Mask(P          R      mAP50  mAP50-95): 100%|██████████| 10/10 [00:03<00:00,  3.17it/s]\n"
          ]
        },
        {
          "name": "stdout",
          "output_type": "stream",
          "text": [
            "                   all        302       4210       0.47      0.158      0.124     0.0638      0.473      0.152      0.119     0.0601\n",
            "\n",
            "      Epoch    GPU_mem   box_loss   seg_loss   cls_loss   dfl_loss  Instances       Size\n"
          ]
        },
        {
          "name": "stderr",
          "output_type": "stream",
          "text": [
            "     75/100      2.27G      1.948       3.11      2.128      1.761        361        512: 100%|██████████| 44/44 [00:21<00:00,  2.00it/s]\n",
            "                 Class     Images  Instances      Box(P          R      mAP50  mAP50-95)     Mask(P          R      mAP50  mAP50-95): 100%|██████████| 10/10 [00:03<00:00,  3.17it/s]\n"
          ]
        },
        {
          "name": "stdout",
          "output_type": "stream",
          "text": [
            "                   all        302       4210      0.446      0.152      0.123     0.0627       0.45      0.145      0.118     0.0588\n",
            "\n",
            "      Epoch    GPU_mem   box_loss   seg_loss   cls_loss   dfl_loss  Instances       Size\n"
          ]
        },
        {
          "name": "stderr",
          "output_type": "stream",
          "text": [
            "     76/100       2.3G      1.939      3.077      2.081      1.752        385        512: 100%|██████████| 44/44 [00:23<00:00,  1.91it/s]\n",
            "                 Class     Images  Instances      Box(P          R      mAP50  mAP50-95)     Mask(P          R      mAP50  mAP50-95): 100%|██████████| 10/10 [00:02<00:00,  3.92it/s]\n"
          ]
        },
        {
          "name": "stdout",
          "output_type": "stream",
          "text": [
            "                   all        302       4210      0.455      0.164      0.125      0.065      0.445      0.159       0.12     0.0604\n",
            "\n",
            "      Epoch    GPU_mem   box_loss   seg_loss   cls_loss   dfl_loss  Instances       Size\n"
          ]
        },
        {
          "name": "stderr",
          "output_type": "stream",
          "text": [
            "     77/100      2.29G      1.939      3.093      2.119      1.752        344        512: 100%|██████████| 44/44 [00:21<00:00,  2.03it/s]\n",
            "                 Class     Images  Instances      Box(P          R      mAP50  mAP50-95)     Mask(P          R      mAP50  mAP50-95): 100%|██████████| 10/10 [00:03<00:00,  3.33it/s]\n"
          ]
        },
        {
          "name": "stdout",
          "output_type": "stream",
          "text": [
            "                   all        302       4210       0.44       0.16      0.124     0.0645      0.437      0.153      0.118     0.0594\n",
            "\n",
            "      Epoch    GPU_mem   box_loss   seg_loss   cls_loss   dfl_loss  Instances       Size\n"
          ]
        },
        {
          "name": "stderr",
          "output_type": "stream",
          "text": [
            "     78/100      2.34G       1.93      3.063      2.088      1.755        299        512: 100%|██████████| 44/44 [00:22<00:00,  1.96it/s]\n",
            "                 Class     Images  Instances      Box(P          R      mAP50  mAP50-95)     Mask(P          R      mAP50  mAP50-95): 100%|██████████| 10/10 [00:03<00:00,  3.03it/s]\n"
          ]
        },
        {
          "name": "stdout",
          "output_type": "stream",
          "text": [
            "                   all        302       4210      0.448      0.164      0.126     0.0651      0.443      0.159       0.12      0.061\n",
            "\n",
            "      Epoch    GPU_mem   box_loss   seg_loss   cls_loss   dfl_loss  Instances       Size\n"
          ]
        },
        {
          "name": "stderr",
          "output_type": "stream",
          "text": [
            "     79/100      2.27G      1.906       3.06      2.081      1.743        353        512: 100%|██████████| 44/44 [00:20<00:00,  2.11it/s]\n",
            "                 Class     Images  Instances      Box(P          R      mAP50  mAP50-95)     Mask(P          R      mAP50  mAP50-95): 100%|██████████| 10/10 [00:03<00:00,  3.17it/s]\n"
          ]
        },
        {
          "name": "stdout",
          "output_type": "stream",
          "text": [
            "                   all        302       4210      0.457       0.16      0.128     0.0667      0.455      0.156      0.122     0.0626\n",
            "\n",
            "      Epoch    GPU_mem   box_loss   seg_loss   cls_loss   dfl_loss  Instances       Size\n"
          ]
        },
        {
          "name": "stderr",
          "output_type": "stream",
          "text": [
            "     80/100      2.28G       1.94      3.119      2.099      1.745        399        512: 100%|██████████| 44/44 [00:21<00:00,  2.04it/s]\n",
            "                 Class     Images  Instances      Box(P          R      mAP50  mAP50-95)     Mask(P          R      mAP50  mAP50-95): 100%|██████████| 10/10 [00:02<00:00,  3.73it/s]\n"
          ]
        },
        {
          "name": "stdout",
          "output_type": "stream",
          "text": [
            "                   all        302       4210      0.423      0.166      0.129     0.0673      0.416      0.159      0.123     0.0621\n",
            "\n",
            "      Epoch    GPU_mem   box_loss   seg_loss   cls_loss   dfl_loss  Instances       Size\n"
          ]
        },
        {
          "name": "stderr",
          "output_type": "stream",
          "text": [
            "     81/100       2.3G      1.937      3.091      2.091      1.744        349        512: 100%|██████████| 44/44 [00:21<00:00,  2.06it/s]\n",
            "                 Class     Images  Instances      Box(P          R      mAP50  mAP50-95)     Mask(P          R      mAP50  mAP50-95): 100%|██████████| 10/10 [00:03<00:00,  2.82it/s]\n"
          ]
        },
        {
          "name": "stdout",
          "output_type": "stream",
          "text": [
            "                   all        302       4210      0.467      0.165      0.125     0.0654      0.459      0.163      0.119     0.0607\n",
            "\n",
            "      Epoch    GPU_mem   box_loss   seg_loss   cls_loss   dfl_loss  Instances       Size\n"
          ]
        },
        {
          "name": "stderr",
          "output_type": "stream",
          "text": [
            "     82/100      2.28G      1.937      3.099      2.089      1.737        308        512: 100%|██████████| 44/44 [00:20<00:00,  2.18it/s]\n",
            "                 Class     Images  Instances      Box(P          R      mAP50  mAP50-95)     Mask(P          R      mAP50  mAP50-95): 100%|██████████| 10/10 [00:03<00:00,  2.85it/s]\n"
          ]
        },
        {
          "name": "stdout",
          "output_type": "stream",
          "text": [
            "                   all        302       4210       0.45      0.172      0.127     0.0664      0.441      0.165      0.121     0.0617\n",
            "\n",
            "      Epoch    GPU_mem   box_loss   seg_loss   cls_loss   dfl_loss  Instances       Size\n"
          ]
        },
        {
          "name": "stderr",
          "output_type": "stream",
          "text": [
            "     83/100      2.34G      1.932      3.053       2.08      1.741        396        512: 100%|██████████| 44/44 [00:20<00:00,  2.12it/s]\n",
            "                 Class     Images  Instances      Box(P          R      mAP50  mAP50-95)     Mask(P          R      mAP50  mAP50-95): 100%|██████████| 10/10 [00:03<00:00,  3.04it/s]\n"
          ]
        },
        {
          "name": "stdout",
          "output_type": "stream",
          "text": [
            "                   all        302       4210      0.451      0.165      0.128     0.0674      0.448      0.159      0.123     0.0622\n",
            "\n",
            "      Epoch    GPU_mem   box_loss   seg_loss   cls_loss   dfl_loss  Instances       Size\n"
          ]
        },
        {
          "name": "stderr",
          "output_type": "stream",
          "text": [
            "     84/100       2.3G      1.922      3.055      2.077      1.738        339        512: 100%|██████████| 44/44 [00:21<00:00,  2.07it/s]\n",
            "                 Class     Images  Instances      Box(P          R      mAP50  mAP50-95)     Mask(P          R      mAP50  mAP50-95): 100%|██████████| 10/10 [00:03<00:00,  3.00it/s]\n"
          ]
        },
        {
          "name": "stdout",
          "output_type": "stream",
          "text": [
            "                   all        302       4210      0.444       0.16      0.129     0.0674       0.44      0.155      0.124      0.063\n",
            "\n",
            "      Epoch    GPU_mem   box_loss   seg_loss   cls_loss   dfl_loss  Instances       Size\n"
          ]
        },
        {
          "name": "stderr",
          "output_type": "stream",
          "text": [
            "     85/100      2.34G      1.927      3.075      2.092      1.738        289        512: 100%|██████████| 44/44 [00:21<00:00,  2.09it/s]\n",
            "                 Class     Images  Instances      Box(P          R      mAP50  mAP50-95)     Mask(P          R      mAP50  mAP50-95): 100%|██████████| 10/10 [00:03<00:00,  3.01it/s]\n"
          ]
        },
        {
          "name": "stdout",
          "output_type": "stream",
          "text": [
            "                   all        302       4210      0.445      0.173      0.128     0.0665      0.441      0.166      0.122     0.0618\n",
            "\n",
            "      Epoch    GPU_mem   box_loss   seg_loss   cls_loss   dfl_loss  Instances       Size\n"
          ]
        },
        {
          "name": "stderr",
          "output_type": "stream",
          "text": [
            "     86/100      2.25G      1.916      3.047      2.067      1.739        399        512: 100%|██████████| 44/44 [00:21<00:00,  2.01it/s]\n",
            "                 Class     Images  Instances      Box(P          R      mAP50  mAP50-95)     Mask(P          R      mAP50  mAP50-95): 100%|██████████| 10/10 [00:03<00:00,  3.29it/s]\n"
          ]
        },
        {
          "name": "stdout",
          "output_type": "stream",
          "text": [
            "                   all        302       4210      0.444      0.171      0.129     0.0669      0.441      0.161      0.123     0.0629\n",
            "\n",
            "      Epoch    GPU_mem   box_loss   seg_loss   cls_loss   dfl_loss  Instances       Size\n"
          ]
        },
        {
          "name": "stderr",
          "output_type": "stream",
          "text": [
            "     87/100      2.32G      1.932      3.094      2.095      1.745        360        512: 100%|██████████| 44/44 [00:21<00:00,  2.05it/s]\n",
            "                 Class     Images  Instances      Box(P          R      mAP50  mAP50-95)     Mask(P          R      mAP50  mAP50-95): 100%|██████████| 10/10 [00:03<00:00,  2.97it/s]\n"
          ]
        },
        {
          "name": "stdout",
          "output_type": "stream",
          "text": [
            "                   all        302       4210       0.45      0.165      0.128     0.0668      0.444       0.16      0.124     0.0626\n",
            "\n",
            "      Epoch    GPU_mem   box_loss   seg_loss   cls_loss   dfl_loss  Instances       Size\n"
          ]
        },
        {
          "name": "stderr",
          "output_type": "stream",
          "text": [
            "     88/100      2.26G      1.909      3.057      2.076      1.723        331        512: 100%|██████████| 44/44 [00:21<00:00,  2.04it/s]\n",
            "                 Class     Images  Instances      Box(P          R      mAP50  mAP50-95)     Mask(P          R      mAP50  mAP50-95): 100%|██████████| 10/10 [00:03<00:00,  3.09it/s]\n"
          ]
        },
        {
          "name": "stdout",
          "output_type": "stream",
          "text": [
            "                   all        302       4210      0.438      0.173      0.129     0.0677      0.439      0.166      0.124     0.0633\n",
            "\n",
            "      Epoch    GPU_mem   box_loss   seg_loss   cls_loss   dfl_loss  Instances       Size\n"
          ]
        },
        {
          "name": "stderr",
          "output_type": "stream",
          "text": [
            "     89/100      2.32G      1.916      3.072      2.076      1.732        299        512: 100%|██████████| 44/44 [00:21<00:00,  2.02it/s]\n",
            "                 Class     Images  Instances      Box(P          R      mAP50  mAP50-95)     Mask(P          R      mAP50  mAP50-95): 100%|██████████| 10/10 [00:02<00:00,  3.91it/s]\n"
          ]
        },
        {
          "name": "stdout",
          "output_type": "stream",
          "text": [
            "                   all        302       4210       0.45      0.174      0.131     0.0678      0.442      0.166      0.125     0.0637\n",
            "\n",
            "      Epoch    GPU_mem   box_loss   seg_loss   cls_loss   dfl_loss  Instances       Size\n"
          ]
        },
        {
          "name": "stderr",
          "output_type": "stream",
          "text": [
            "     90/100      2.27G      1.927      3.071      2.075      1.729        387        512: 100%|██████████| 44/44 [00:20<00:00,  2.12it/s]\n",
            "                 Class     Images  Instances      Box(P          R      mAP50  mAP50-95)     Mask(P          R      mAP50  mAP50-95): 100%|██████████| 10/10 [00:03<00:00,  3.11it/s]\n"
          ]
        },
        {
          "name": "stdout",
          "output_type": "stream",
          "text": [
            "                   all        302       4210      0.445       0.17       0.13     0.0679      0.436      0.165      0.124     0.0633\n",
            "Closing dataloader mosaic\n",
            "\u001b[34m\u001b[1malbumentations: \u001b[0mBlur(p=0.01, blur_limit=(3, 7)), MedianBlur(p=0.01, blur_limit=(3, 7)), ToGray(p=0.01, num_output_channels=3, method='weighted_average'), CLAHE(p=0.01, clip_limit=(1, 4.0), tile_grid_size=(8, 8))\n"
          ]
        },
        {
          "name": "stderr",
          "output_type": "stream",
          "text": [
            "/usr/lib/python3.10/multiprocessing/popen_fork.py:66: RuntimeWarning: os.fork() was called. os.fork() is incompatible with multithreaded code, and JAX is multithreaded, so this will likely lead to a deadlock.\n",
            "  self.pid = os.fork()\n"
          ]
        },
        {
          "name": "stdout",
          "output_type": "stream",
          "text": [
            "\n",
            "      Epoch    GPU_mem   box_loss   seg_loss   cls_loss   dfl_loss  Instances       Size\n"
          ]
        },
        {
          "name": "stderr",
          "output_type": "stream",
          "text": [
            "     91/100      2.23G      1.915      3.147      2.222      1.769        201        512: 100%|██████████| 44/44 [00:06<00:00,  6.29it/s]\n",
            "                 Class     Images  Instances      Box(P          R      mAP50  mAP50-95)     Mask(P          R      mAP50  mAP50-95): 100%|██████████| 10/10 [00:02<00:00,  4.10it/s]\n"
          ]
        },
        {
          "name": "stdout",
          "output_type": "stream",
          "text": [
            "                   all        302       4210      0.429       0.16      0.125     0.0645      0.427      0.156       0.12     0.0607\n",
            "\n",
            "      Epoch    GPU_mem   box_loss   seg_loss   cls_loss   dfl_loss  Instances       Size\n"
          ]
        },
        {
          "name": "stderr",
          "output_type": "stream",
          "text": [
            "     92/100      2.09G      1.892      3.088      2.199      1.779        166        512: 100%|██████████| 44/44 [00:05<00:00,  7.75it/s]\n",
            "                 Class     Images  Instances      Box(P          R      mAP50  mAP50-95)     Mask(P          R      mAP50  mAP50-95): 100%|██████████| 10/10 [00:02<00:00,  4.11it/s]\n"
          ]
        },
        {
          "name": "stdout",
          "output_type": "stream",
          "text": [
            "                   all        302       4210      0.422      0.161      0.125     0.0648       0.42      0.157       0.12     0.0605\n",
            "\n",
            "      Epoch    GPU_mem   box_loss   seg_loss   cls_loss   dfl_loss  Instances       Size\n"
          ]
        },
        {
          "name": "stderr",
          "output_type": "stream",
          "text": [
            "     93/100      2.03G      1.886      3.111      2.151      1.748        170        512: 100%|██████████| 44/44 [00:05<00:00,  7.93it/s]\n",
            "                 Class     Images  Instances      Box(P          R      mAP50  mAP50-95)     Mask(P          R      mAP50  mAP50-95): 100%|██████████| 10/10 [00:02<00:00,  4.10it/s]\n"
          ]
        },
        {
          "name": "stdout",
          "output_type": "stream",
          "text": [
            "                   all        302       4210      0.416      0.164      0.125     0.0658      0.413      0.165       0.12     0.0615\n",
            "\n",
            "      Epoch    GPU_mem   box_loss   seg_loss   cls_loss   dfl_loss  Instances       Size\n"
          ]
        },
        {
          "name": "stderr",
          "output_type": "stream",
          "text": [
            "     94/100      2.06G      1.873      3.055      2.117      1.743        170        512: 100%|██████████| 44/44 [00:05<00:00,  7.75it/s]\n",
            "                 Class     Images  Instances      Box(P          R      mAP50  mAP50-95)     Mask(P          R      mAP50  mAP50-95): 100%|██████████| 10/10 [00:02<00:00,  4.28it/s]\n"
          ]
        },
        {
          "name": "stdout",
          "output_type": "stream",
          "text": [
            "                   all        302       4210      0.431      0.164      0.127     0.0663      0.431      0.159      0.122     0.0621\n",
            "\n",
            "      Epoch    GPU_mem   box_loss   seg_loss   cls_loss   dfl_loss  Instances       Size\n"
          ]
        },
        {
          "name": "stderr",
          "output_type": "stream",
          "text": [
            "     95/100      2.05G      1.872      3.065      2.119      1.744        174        512: 100%|██████████| 44/44 [00:05<00:00,  7.68it/s]\n",
            "                 Class     Images  Instances      Box(P          R      mAP50  mAP50-95)     Mask(P          R      mAP50  mAP50-95): 100%|██████████| 10/10 [00:02<00:00,  4.14it/s]\n"
          ]
        },
        {
          "name": "stdout",
          "output_type": "stream",
          "text": [
            "                   all        302       4210       0.44      0.169      0.129     0.0674      0.436      0.165      0.122      0.063\n",
            "\n",
            "      Epoch    GPU_mem   box_loss   seg_loss   cls_loss   dfl_loss  Instances       Size\n"
          ]
        },
        {
          "name": "stderr",
          "output_type": "stream",
          "text": [
            "     96/100      2.03G      1.877      3.062      2.118      1.747        173        512: 100%|██████████| 44/44 [00:05<00:00,  7.92it/s]\n",
            "                 Class     Images  Instances      Box(P          R      mAP50  mAP50-95)     Mask(P          R      mAP50  mAP50-95): 100%|██████████| 10/10 [00:02<00:00,  4.25it/s]\n"
          ]
        },
        {
          "name": "stdout",
          "output_type": "stream",
          "text": [
            "                   all        302       4210      0.443      0.171      0.131     0.0682      0.438      0.167      0.125     0.0638\n",
            "\n",
            "      Epoch    GPU_mem   box_loss   seg_loss   cls_loss   dfl_loss  Instances       Size\n"
          ]
        },
        {
          "name": "stderr",
          "output_type": "stream",
          "text": [
            "     97/100       2.1G      1.882       3.08      2.105      1.744        161        512: 100%|██████████| 44/44 [00:05<00:00,  7.55it/s]\n",
            "                 Class     Images  Instances      Box(P          R      mAP50  mAP50-95)     Mask(P          R      mAP50  mAP50-95): 100%|██████████| 10/10 [00:02<00:00,  4.28it/s]\n"
          ]
        },
        {
          "name": "stdout",
          "output_type": "stream",
          "text": [
            "                   all        302       4210      0.444      0.167      0.131      0.068      0.441      0.163      0.125     0.0636\n",
            "\n",
            "      Epoch    GPU_mem   box_loss   seg_loss   cls_loss   dfl_loss  Instances       Size\n"
          ]
        },
        {
          "name": "stderr",
          "output_type": "stream",
          "text": [
            "     98/100      2.03G      1.862      3.062      2.087      1.736        196        512: 100%|██████████| 44/44 [00:05<00:00,  8.04it/s]\n",
            "                 Class     Images  Instances      Box(P          R      mAP50  mAP50-95)     Mask(P          R      mAP50  mAP50-95): 100%|██████████| 10/10 [00:02<00:00,  4.20it/s]\n"
          ]
        },
        {
          "name": "stdout",
          "output_type": "stream",
          "text": [
            "                   all        302       4210      0.434      0.168       0.13     0.0679       0.43      0.166      0.124     0.0633\n",
            "\n",
            "      Epoch    GPU_mem   box_loss   seg_loss   cls_loss   dfl_loss  Instances       Size\n"
          ]
        },
        {
          "name": "stderr",
          "output_type": "stream",
          "text": [
            "     99/100      2.04G      1.883      3.067       2.11      1.748        173        512: 100%|██████████| 44/44 [00:05<00:00,  7.68it/s]\n",
            "                 Class     Images  Instances      Box(P          R      mAP50  mAP50-95)     Mask(P          R      mAP50  mAP50-95): 100%|██████████| 10/10 [00:02<00:00,  4.28it/s]\n"
          ]
        },
        {
          "name": "stdout",
          "output_type": "stream",
          "text": [
            "                   all        302       4210       0.44      0.166       0.13     0.0682      0.438      0.163      0.124     0.0638\n",
            "\n",
            "      Epoch    GPU_mem   box_loss   seg_loss   cls_loss   dfl_loss  Instances       Size\n"
          ]
        },
        {
          "name": "stderr",
          "output_type": "stream",
          "text": [
            "    100/100      2.08G      1.863       3.04      2.083      1.737        198        512: 100%|██████████| 44/44 [00:05<00:00,  8.06it/s]\n",
            "                 Class     Images  Instances      Box(P          R      mAP50  mAP50-95)     Mask(P          R      mAP50  mAP50-95): 100%|██████████| 10/10 [00:02<00:00,  4.21it/s]\n"
          ]
        },
        {
          "name": "stdout",
          "output_type": "stream",
          "text": [
            "                   all        302       4210       0.43      0.168       0.13     0.0682      0.429      0.164      0.124     0.0639\n",
            "\n",
            "100 epochs completed in 0.657 hours.\n",
            "Optimizer stripped from runs/segment/train/weights/last.pt, 6.8MB\n",
            "Optimizer stripped from runs/segment/train/weights/best.pt, 6.8MB\n",
            "\n",
            "Validating runs/segment/train/weights/best.pt...\n",
            "Ultralytics YOLOv8.2.98 🚀 Python-3.10.12 torch-2.4.1+cu121 CUDA:0 (NVIDIA A100-SXM4-40GB, 40514MiB)\n",
            "YOLOv8n-seg summary (fused): 195 layers, 3,269,569 parameters, 0 gradients, 12.0 GFLOPs\n"
          ]
        },
        {
          "name": "stderr",
          "output_type": "stream",
          "text": [
            "                 Class     Images  Instances      Box(P          R      mAP50  mAP50-95)     Mask(P          R      mAP50  mAP50-95): 100%|██████████| 10/10 [00:04<00:00,  2.04it/s]\n"
          ]
        },
        {
          "name": "stdout",
          "output_type": "stream",
          "text": [
            "                   all        302       4210       0.43      0.167       0.13     0.0683      0.428      0.163      0.125     0.0638\n",
            "           accessories         72         95          1          0     0.0336     0.0191          1          0     0.0293     0.0194\n",
            "                   bag        117        174      0.274       0.31      0.207      0.101      0.284      0.322      0.222      0.104\n",
            "                  belt         63         80      0.572     0.0125     0.0624     0.0201      0.572     0.0125     0.0595     0.0161\n",
            "                blazer         27         72      0.109     0.0278     0.0439     0.0227      0.109     0.0278     0.0367     0.0164\n",
            "                blouse         81        134      0.188      0.142      0.108     0.0533      0.178      0.134        0.1     0.0499\n",
            "                 boots         18         28      0.242      0.179      0.124      0.058      0.242      0.179      0.128     0.0654\n",
            "              bracelet         24         29          0          0          0          0          0          0          0          0\n",
            "                  cape          4         10          0          0    0.00565    0.00377          0          0     0.0061    0.00241\n",
            "                  coat         66        148       0.24      0.399      0.218      0.104      0.216      0.358      0.187     0.0905\n",
            "                 dress         80        108      0.234      0.528      0.315      0.175      0.226      0.509      0.301      0.156\n",
            "                  hair        290        394       0.34      0.622      0.521      0.249      0.304      0.556       0.44      0.143\n",
            "                   hat         34         38      0.131      0.158      0.102      0.043      0.109      0.132     0.0749     0.0277\n",
            "                 heels          7         12          1          0     0.0209     0.0146          1          0     0.0209     0.0104\n",
            "                hoodie          1          1          0          0          0          0          0          0          0          0\n",
            "                jacket         20         38     0.0978      0.103     0.0508     0.0245     0.0978      0.103     0.0432     0.0179\n",
            "                 jeans         44         65      0.253      0.462      0.347      0.228      0.253      0.462      0.342      0.231\n",
            "                jumper          3          4          1          0     0.0156    0.00957          1          0     0.0156    0.00957\n",
            "              leggings         17         25     0.0849       0.04     0.0945     0.0476     0.0849       0.04      0.104     0.0555\n",
            "               loafers          5          8          1          0       0.02    0.00855          1          0     0.0186    0.00831\n",
            "              necklace         11         14          0          0          0          0          0          0          0          0\n",
            "                 pants         87        124      0.394      0.581      0.444      0.294      0.389      0.573      0.437      0.262\n",
            "                 purse         77        128      0.234      0.156     0.0905     0.0492      0.234      0.156     0.0951      0.042\n",
            "                romper          6         14          1          0     0.0051     0.0021          1          0     0.0051    0.00253\n",
            "               sandals         19         41      0.545     0.0488      0.111     0.0423      0.545     0.0488     0.0899     0.0445\n",
            "                 scarf         22         36          1          0     0.0127    0.00412          1          0    0.00811    0.00264\n",
            "                 shirt         59         97       0.25      0.134      0.109     0.0617       0.25      0.134      0.105     0.0567\n",
            "                 shoes        235        442      0.265      0.679      0.434      0.207      0.255      0.654      0.414      0.201\n",
            "                shorts         20         23      0.435      0.348      0.272       0.17      0.435      0.348      0.272      0.177\n",
            "                  skin        301       1304      0.374      0.697      0.596      0.309      0.375      0.699      0.605      0.313\n",
            "                 skirt         53         68      0.294      0.382      0.248      0.164      0.294      0.382      0.249       0.15\n",
            "              sneakers          4          7          1          0     0.0451     0.0309          1          0     0.0451     0.0258\n",
            "                 socks         23         43          1          0     0.0158    0.00632          1          0     0.0158    0.00316\n",
            "             stockings         22         38      0.293      0.474       0.38      0.151      0.293      0.474      0.377      0.197\n",
            "                  suit         32         64      0.224      0.234      0.137     0.0755      0.224      0.234      0.129     0.0654\n",
            "            sunglasses         93        128      0.682     0.0338     0.0959     0.0242      0.682     0.0338     0.0691     0.0202\n",
            "               sweater         35         56      0.156      0.161     0.0701     0.0384      0.156      0.161     0.0678     0.0325\n",
            "               t-shirt         27         42      0.145     0.0952     0.0762      0.037      0.181      0.119     0.0853     0.0379\n",
            "                   tie          7          7          0          0          0          0          0          0          0          0\n",
            "                tights          3          3          1          0          0          0          1          0          0          0\n",
            "                   top         20         26          1          0     0.0188    0.00878          1          0     0.0177     0.0114\n",
            "                  vest         25         33          1          0     0.0225     0.0108          1          0     0.0177     0.0101\n",
            "                 watch          9          9          0          0          0          0          0          0          0          0\n",
            "Speed: 0.1ms preprocess, 0.7ms inference, 0.0ms loss, 2.4ms postprocess per image\n",
            "Results saved to \u001b[1mruns/segment/train\u001b[0m\n"
          ]
        }
      ],
      "source": [
        "from ultralytics import YOLO\n",
        "\n",
        "\n",
        "model = YOLO('yolov8n-seg.yaml')\n",
        "\n",
        "if __name__ == '__main__':\n",
        "    \n",
        "    results = model.train(data='/content/NewClothing.yaml', epochs=100, imgsz=512)"
      ]
    },
    {
      "cell_type": "markdown",
      "metadata": {
        "id": "3jL3hkFZsAjA"
      },
      "source": [
        "**delete label name-yolov8-seg+BIFPN：**"
      ]
    },
    {
      "cell_type": "code",
      "execution_count": 29,
      "metadata": {
        "colab": {
          "base_uri": "https://localhost:8080/"
        },
        "collapsed": true,
        "id": "h7vGVQVmmAMu",
        "outputId": "118d9a33-aefc-4f5c-bd73-45abdd999cdc"
      },
      "outputs": [
        {
          "name": "stdout",
          "output_type": "stream",
          "text": [
            "WARNING ⚠️ no model scale passed. Assuming scale='n'.\n",
            "New https://pypi.org/project/ultralytics/8.2.98 available 😃 Update with 'pip install -U ultralytics'\n",
            "Ultralytics YOLOv8.2.94 🚀 Python-3.10.12 torch-2.4.1+cu121 CUDA:0 (NVIDIA A100-SXM4-40GB, 40514MiB)\n",
            "\u001b[34m\u001b[1mengine/trainer: \u001b[0mtask=segment, mode=train, model=/content/ultralytics/yolov8-bifpn.yaml, data=/content/NewClothing.yaml, epochs=100, time=None, patience=100, batch=8, imgsz=640, save=True, save_period=-1, cache=False, device=None, workers=4, project=runs/train, name=raw6, exist_ok=False, pretrained=True, optimizer=auto, verbose=True, seed=0, deterministic=True, single_cls=False, rect=False, cos_lr=False, close_mosaic=0, resume=False, amp=True, fraction=1.0, profile=False, freeze=None, multi_scale=False, overlap_mask=True, mask_ratio=4, dropout=0.0, val=True, split=val, save_json=False, save_hybrid=False, conf=None, iou=0.7, max_det=300, half=False, dnn=False, plots=True, source=None, vid_stride=1, stream_buffer=False, visualize=False, augment=False, agnostic_nms=False, classes=None, retina_masks=False, embed=None, show=False, save_frames=False, save_txt=False, save_conf=False, save_crop=False, show_labels=True, show_conf=True, show_boxes=True, line_width=None, format=torchscript, keras=False, optimize=False, int8=False, dynamic=False, simplify=False, opset=None, workspace=4, nms=False, lr0=0.01, lrf=0.01, momentum=0.937, weight_decay=0.0005, warmup_epochs=3.0, warmup_momentum=0.8, warmup_bias_lr=0.1, box=7.5, cls=0.5, dfl=1.5, pose=12.0, kobj=1.0, label_smoothing=0.0, nbs=64, hsv_h=0.015, hsv_s=0.7, hsv_v=0.4, degrees=0.0, translate=0.1, scale=0.5, shear=0.0, perspective=0.0, flipud=0.0, fliplr=0.5, bgr=0.0, mosaic=1.0, mixup=0.0, copy_paste=0.0, auto_augment=randaugment, erasing=0.4, crop_fraction=1.0, cfg=None, tracker=botsort.yaml, save_dir=runs/train/raw6\n",
            "Overriding model.yaml nc=80 with nc=59\n",
            "WARNING ⚠️ no model scale passed. Assuming scale='n'.\n",
            "\n",
            "                   from  n    params  module                                       arguments                     \n",
            "  0                  -1  1       928  ultralytics.nn.modules.conv.Conv             [3, 32, 3, 2]                 \n",
            "  1                  -1  1     18560  ultralytics.nn.modules.conv.Conv             [32, 64, 3, 2]                \n",
            "  2                  -1  1     29056  ultralytics.nn.modules.block.C2f             [64, 64, 1, True]             \n",
            "  3                  -1  1     73984  ultralytics.nn.modules.conv.Conv             [64, 128, 3, 2]               \n",
            "  4                  -1  2    197632  ultralytics.nn.modules.block.C2f             [128, 128, 2, True]           \n",
            "  5                  -1  1    295424  ultralytics.nn.modules.conv.Conv             [128, 256, 3, 2]              \n",
            "  6                  -1  2    788480  ultralytics.nn.modules.block.C2f             [256, 256, 2, True]           \n",
            "  7                  -1  1   1180672  ultralytics.nn.modules.conv.Conv             [256, 512, 3, 2]              \n",
            "  8                  -1  1   1838080  ultralytics.nn.modules.block.C2f             [512, 512, 1, True]           \n",
            "  9                  -1  1    656896  ultralytics.nn.modules.block.SPPF            [512, 512, 5]                 \n",
            " 10                   4  1      8320  ultralytics.nn.modules.conv.Conv             [128, 64]                     \n",
            " 11                   6  1     33024  ultralytics.nn.modules.conv.Conv             [256, 128]                    \n",
            " 12                   9  1    131584  ultralytics.nn.modules.conv.Conv             [512, 256]                    \n",
            " 13                  -1  1         0  torch.nn.modules.upsampling.Upsample         [None, 2, 'nearest']          \n",
            " 14            [-1, 11]  1         2  ultralytics.nn.modules.fusion.BiFPN_Concat2  [1]                           \n",
            " 15                  -1  1    148224  ultralytics.nn.modules.block.C2f             [384, 128, 1]                 \n",
            " 16                  -1  1         0  torch.nn.modules.upsampling.Upsample         [None, 2, 'nearest']          \n",
            " 17            [-1, 10]  1         2  ultralytics.nn.modules.fusion.BiFPN_Concat2  [1]                           \n",
            " 18                  -1  1    123648  ultralytics.nn.modules.block.C2f             [192, 128, 1]                 \n",
            " 19                   2  1     73984  ultralytics.nn.modules.conv.Conv             [64, 128, 3, 2]               \n",
            " 20        [-1, 10, 18]  1         3  ultralytics.nn.modules.fusion.BiFPN_Concat3  [1]                           \n",
            " 21                  -1  1    140032  ultralytics.nn.modules.block.C2f             [320, 128, 1]                 \n",
            " 22                  -1  1    147712  ultralytics.nn.modules.conv.Conv             [128, 128, 3, 2]              \n",
            " 23        [-1, 11, 15]  1         3  ultralytics.nn.modules.fusion.BiFPN_Concat3  [1]                           \n",
            " 24                  -1  1    493056  ultralytics.nn.modules.block.C2f             [384, 256, 1]                 \n",
            " 25                  -1  1    295168  ultralytics.nn.modules.conv.Conv             [256, 128, 3, 2]              \n",
            " 26            [-1, 12]  1         2  ultralytics.nn.modules.fusion.BiFPN_Concat2  [1]                           \n",
            " 27                  -1  1   1772544  ultralytics.nn.modules.block.C2f             [384, 512, 1]                 \n",
            " 28        [21, 24, 27]  1   2793377  ultralytics.nn.modules.head.Segment          [59, 32, 128, [128, 256, 512]]\n",
            "YOLOv8-bifpn summary: 289 layers, 11,240,397 parameters, 11,240,381 gradients, 43.8 GFLOPs\n",
            "\n",
            "\u001b[34m\u001b[1mTensorBoard: \u001b[0mStart with 'tensorboard --logdir runs/train/raw6', view at http://localhost:6006/\n",
            "Freezing layer 'model.28.dfl.conv.weight'\n",
            "\u001b[34m\u001b[1mAMP: \u001b[0mrunning Automatic Mixed Precision (AMP) checks with YOLOv8n...\n",
            "\u001b[34m\u001b[1mAMP: \u001b[0mchecks passed ✅\n",
            "\u001b[34m\u001b[1mtrain: \u001b[0mScanning /content/dataset/labels/train.cache... 702 images, 0 backgrounds, 0 corrupt: 100% 702/702 [00:00<?, ?it/s]\n",
            "\u001b[34m\u001b[1malbumentations: \u001b[0mBlur(p=0.01, blur_limit=(3, 7)), MedianBlur(p=0.01, blur_limit=(3, 7)), ToGray(p=0.01, num_output_channels=3, method='weighted_average'), CLAHE(p=0.01, clip_limit=(1, 4.0), tile_grid_size=(8, 8))\n",
            "\u001b[34m\u001b[1mval: \u001b[0mScanning /content/dataset/labels/test.cache... 302 images, 1 backgrounds, 0 corrupt: 100% 302/302 [00:00<?, ?it/s]\n",
            "Plotting labels to runs/train/raw6/labels.jpg... \n",
            "\u001b[34m\u001b[1moptimizer:\u001b[0m 'optimizer=auto' found, ignoring 'lr0=0.01' and 'momentum=0.937' and determining best 'optimizer', 'lr0' and 'momentum' automatically... \n",
            "\u001b[34m\u001b[1moptimizer:\u001b[0m AdamW(lr=0.000159, momentum=0.9) with parameter groups 74 weight(decay=0.0), 90 weight(decay=0.0005), 84 bias(decay=0.0)\n",
            "\u001b[34m\u001b[1mTensorBoard: \u001b[0mmodel graph visualization added ✅\n",
            "Image sizes 640 train, 640 val\n",
            "Using 4 dataloader workers\n",
            "Logging results to \u001b[1mruns/train/raw6\u001b[0m\n",
            "Starting training for 100 epochs...\n",
            "\n",
            "      Epoch    GPU_mem   box_loss   seg_loss   cls_loss   dfl_loss  Instances       Size\n",
            "      1/100      3.41G      4.094      9.205      5.632      4.263        151        640: 100% 88/88 [00:12<00:00,  7.26it/s]\n",
            "                 Class     Images  Instances      Box(P          R      mAP50  mAP50-95)     Mask(P          R      mAP50  mAP50-95): 100% 19/19 [00:01<00:00, 11.88it/s]\n",
            "                   all        302       4210          0          0          0          0          0          0          0          0\n",
            "\n",
            "      Epoch    GPU_mem   box_loss   seg_loss   cls_loss   dfl_loss  Instances       Size\n",
            "      2/100      3.29G      3.946      4.995       5.25      4.059        186        640: 100% 88/88 [00:09<00:00,  9.10it/s]\n",
            "                 Class     Images  Instances      Box(P          R      mAP50  mAP50-95)     Mask(P          R      mAP50  mAP50-95): 100% 19/19 [00:02<00:00,  8.80it/s]\n",
            "                   all        302       4210    0.00569     0.0042    0.00296    0.00138    0.00313    0.00307    0.00163   0.000265\n",
            "\n",
            "      Epoch    GPU_mem   box_loss   seg_loss   cls_loss   dfl_loss  Instances       Size\n",
            "      3/100      3.34G       3.76      4.682      4.704      3.845        105        640: 100% 88/88 [00:09<00:00,  9.49it/s]\n",
            "                 Class     Images  Instances      Box(P          R      mAP50  mAP50-95)     Mask(P          R      mAP50  mAP50-95): 100% 19/19 [00:02<00:00,  7.31it/s]\n",
            "                   all        302       4210    0.00215      0.058    0.00215   0.000545    0.00309      0.045    0.00263   0.000495\n",
            "\n",
            "      Epoch    GPU_mem   box_loss   seg_loss   cls_loss   dfl_loss  Instances       Size\n",
            "      4/100      3.37G      3.578      4.455      4.326      3.665        102        640: 100% 88/88 [00:09<00:00,  9.43it/s]\n",
            "                 Class     Images  Instances      Box(P          R      mAP50  mAP50-95)     Mask(P          R      mAP50  mAP50-95): 100% 19/19 [00:02<00:00,  7.64it/s]\n",
            "                   all        302       4210       0.27    0.00923    0.00342   0.000897       0.27     0.0108    0.00403    0.00116\n",
            "\n",
            "      Epoch    GPU_mem   box_loss   seg_loss   cls_loss   dfl_loss  Instances       Size\n",
            "      5/100      3.33G      3.409      4.257      4.035      3.504        213        640: 100% 88/88 [00:09<00:00,  9.55it/s]\n",
            "                 Class     Images  Instances      Box(P          R      mAP50  mAP50-95)     Mask(P          R      mAP50  mAP50-95): 100% 19/19 [00:02<00:00,  7.58it/s]\n",
            "                   all        302       4210      0.304     0.0123    0.00539    0.00143      0.303     0.0107    0.00602    0.00193\n",
            "\n",
            "      Epoch    GPU_mem   box_loss   seg_loss   cls_loss   dfl_loss  Instances       Size\n",
            "      6/100      3.31G      3.258      4.087      3.801      3.364        129        640: 100% 88/88 [00:09<00:00,  9.52it/s]\n",
            "                 Class     Images  Instances      Box(P          R      mAP50  mAP50-95)     Mask(P          R      mAP50  mAP50-95): 100% 19/19 [00:02<00:00,  7.33it/s]\n",
            "                   all        302       4210      0.355     0.0229     0.0111    0.00299      0.355     0.0205     0.0115    0.00412\n",
            "\n",
            "      Epoch    GPU_mem   box_loss   seg_loss   cls_loss   dfl_loss  Instances       Size\n",
            "      7/100      3.45G      3.164      3.966      3.627      3.249        104        640: 100% 88/88 [00:09<00:00,  9.42it/s]\n",
            "                 Class     Images  Instances      Box(P          R      mAP50  mAP50-95)     Mask(P          R      mAP50  mAP50-95): 100% 19/19 [00:02<00:00,  7.34it/s]\n",
            "                   all        302       4210      0.453     0.0276     0.0143    0.00452      0.454      0.026     0.0156    0.00626\n",
            "\n",
            "      Epoch    GPU_mem   box_loss   seg_loss   cls_loss   dfl_loss  Instances       Size\n",
            "      8/100      3.43G      3.053      3.882      3.479      3.147        126        640: 100% 88/88 [00:09<00:00,  9.44it/s]\n",
            "                 Class     Images  Instances      Box(P          R      mAP50  mAP50-95)     Mask(P          R      mAP50  mAP50-95): 100% 19/19 [00:02<00:00,  7.23it/s]\n",
            "                   all        302       4210      0.497     0.0296     0.0215    0.00682      0.499     0.0308      0.022    0.00921\n",
            "\n",
            "      Epoch    GPU_mem   box_loss   seg_loss   cls_loss   dfl_loss  Instances       Size\n",
            "      9/100      3.31G      2.938      3.784      3.374      3.043        144        640: 100% 88/88 [00:09<00:00,  9.21it/s]\n",
            "                 Class     Images  Instances      Box(P          R      mAP50  mAP50-95)     Mask(P          R      mAP50  mAP50-95): 100% 19/19 [00:02<00:00,  7.20it/s]\n",
            "                   all        302       4210      0.441     0.0343     0.0241    0.00749       0.44     0.0374     0.0247    0.00958\n",
            "\n",
            "      Epoch    GPU_mem   box_loss   seg_loss   cls_loss   dfl_loss  Instances       Size\n",
            "     10/100      3.57G      2.867      3.698      3.233      2.972        123        640: 100% 88/88 [00:09<00:00,  9.42it/s]\n",
            "                 Class     Images  Instances      Box(P          R      mAP50  mAP50-95)     Mask(P          R      mAP50  mAP50-95): 100% 19/19 [00:02<00:00,  7.51it/s]\n",
            "                   all        302       4210      0.418     0.0415     0.0288       0.01      0.393     0.0433     0.0273     0.0111\n",
            "\n",
            "      Epoch    GPU_mem   box_loss   seg_loss   cls_loss   dfl_loss  Instances       Size\n",
            "     11/100      3.41G      2.768      3.594      3.138      2.866         98        640: 100% 88/88 [00:09<00:00,  9.33it/s]\n",
            "                 Class     Images  Instances      Box(P          R      mAP50  mAP50-95)     Mask(P          R      mAP50  mAP50-95): 100% 19/19 [00:02<00:00,  6.99it/s]\n",
            "                   all        302       4210      0.403     0.0523     0.0343     0.0122      0.382     0.0517     0.0322     0.0131\n",
            "\n",
            "      Epoch    GPU_mem   box_loss   seg_loss   cls_loss   dfl_loss  Instances       Size\n",
            "     12/100      3.27G      2.676      3.543      3.068      2.782        161        640: 100% 88/88 [00:09<00:00,  9.39it/s]\n",
            "                 Class     Images  Instances      Box(P          R      mAP50  mAP50-95)     Mask(P          R      mAP50  mAP50-95): 100% 19/19 [00:02<00:00,  7.21it/s]\n",
            "                   all        302       4210      0.495     0.0568     0.0395     0.0153      0.469      0.054     0.0389     0.0162\n",
            "\n",
            "      Epoch    GPU_mem   box_loss   seg_loss   cls_loss   dfl_loss  Instances       Size\n",
            "     13/100      3.25G      2.601      3.514      2.947      2.708        220        640: 100% 88/88 [00:09<00:00,  9.18it/s]\n",
            "                 Class     Images  Instances      Box(P          R      mAP50  mAP50-95)     Mask(P          R      mAP50  mAP50-95): 100% 19/19 [00:02<00:00,  6.81it/s]\n",
            "                   all        302       4210      0.346     0.0692     0.0438     0.0174      0.421     0.0613     0.0456     0.0187\n",
            "\n",
            "      Epoch    GPU_mem   box_loss   seg_loss   cls_loss   dfl_loss  Instances       Size\n",
            "     14/100      3.51G      2.533      3.438      2.858      2.624        142        640: 100% 88/88 [00:09<00:00,  9.36it/s]\n",
            "                 Class     Images  Instances      Box(P          R      mAP50  mAP50-95)     Mask(P          R      mAP50  mAP50-95): 100% 19/19 [00:02<00:00,  7.51it/s]\n",
            "                   all        302       4210      0.551     0.0568     0.0507     0.0198      0.553     0.0549     0.0482     0.0206\n",
            "\n",
            "      Epoch    GPU_mem   box_loss   seg_loss   cls_loss   dfl_loss  Instances       Size\n",
            "     15/100      3.38G      2.482      3.424      2.816      2.578        129        640: 100% 88/88 [00:10<00:00,  8.72it/s]\n",
            "                 Class     Images  Instances      Box(P          R      mAP50  mAP50-95)     Mask(P          R      mAP50  mAP50-95): 100% 19/19 [00:02<00:00,  7.34it/s]\n",
            "                   all        302       4210      0.372     0.0786     0.0562     0.0232      0.443     0.0694     0.0547     0.0243\n",
            "\n",
            "      Epoch    GPU_mem   box_loss   seg_loss   cls_loss   dfl_loss  Instances       Size\n",
            "     16/100      3.33G        2.4      3.365      2.735      2.502        118        640: 100% 88/88 [00:10<00:00,  8.75it/s]\n",
            "                 Class     Images  Instances      Box(P          R      mAP50  mAP50-95)     Mask(P          R      mAP50  mAP50-95): 100% 19/19 [00:02<00:00,  6.93it/s]\n",
            "                   all        302       4210      0.509     0.0777     0.0647     0.0274      0.473     0.0801     0.0656     0.0287\n",
            "\n",
            "      Epoch    GPU_mem   box_loss   seg_loss   cls_loss   dfl_loss  Instances       Size\n",
            "     17/100      3.38G      2.366       3.32      2.685      2.459        165        640: 100% 88/88 [00:09<00:00,  9.20it/s]\n",
            "                 Class     Images  Instances      Box(P          R      mAP50  mAP50-95)     Mask(P          R      mAP50  mAP50-95): 100% 19/19 [00:02<00:00,  6.80it/s]\n",
            "                   all        302       4210      0.386        0.1     0.0694      0.028      0.384     0.0992     0.0697     0.0307\n",
            "\n",
            "      Epoch    GPU_mem   box_loss   seg_loss   cls_loss   dfl_loss  Instances       Size\n",
            "     18/100      3.46G      2.325      3.284      2.595      2.404        123        640: 100% 88/88 [00:09<00:00,  9.28it/s]\n",
            "                 Class     Images  Instances      Box(P          R      mAP50  mAP50-95)     Mask(P          R      mAP50  mAP50-95): 100% 19/19 [00:02<00:00,  7.16it/s]\n",
            "                   all        302       4210      0.427      0.104     0.0778     0.0336      0.436      0.101     0.0755     0.0343\n",
            "\n",
            "      Epoch    GPU_mem   box_loss   seg_loss   cls_loss   dfl_loss  Instances       Size\n",
            "     19/100      3.38G      2.277      3.226      2.532      2.362        132        640: 100% 88/88 [00:09<00:00,  9.42it/s]\n",
            "                 Class     Images  Instances      Box(P          R      mAP50  mAP50-95)     Mask(P          R      mAP50  mAP50-95): 100% 19/19 [00:02<00:00,  7.17it/s]\n",
            "                   all        302       4210       0.46      0.113     0.0811     0.0348      0.457       0.11     0.0807     0.0372\n",
            "\n",
            "      Epoch    GPU_mem   box_loss   seg_loss   cls_loss   dfl_loss  Instances       Size\n",
            "     20/100      3.32G      2.251      3.205      2.522      2.313        136        640: 100% 88/88 [00:09<00:00,  9.47it/s]\n",
            "                 Class     Images  Instances      Box(P          R      mAP50  mAP50-95)     Mask(P          R      mAP50  mAP50-95): 100% 19/19 [00:02<00:00,  7.13it/s]\n",
            "                   all        302       4210      0.399      0.113     0.0838     0.0371        0.4      0.112     0.0833       0.04\n",
            "\n",
            "      Epoch    GPU_mem   box_loss   seg_loss   cls_loss   dfl_loss  Instances       Size\n",
            "     21/100      3.54G      2.217       3.21      2.466      2.286        107        640: 100% 88/88 [00:09<00:00,  9.51it/s]\n",
            "                 Class     Images  Instances      Box(P          R      mAP50  mAP50-95)     Mask(P          R      mAP50  mAP50-95): 100% 19/19 [00:02<00:00,  7.16it/s]\n",
            "                   all        302       4210      0.438      0.118     0.0863     0.0377      0.448      0.114     0.0838     0.0397\n",
            "\n",
            "      Epoch    GPU_mem   box_loss   seg_loss   cls_loss   dfl_loss  Instances       Size\n",
            "     22/100      3.26G      2.179      3.104      2.427      2.235        172        640: 100% 88/88 [00:09<00:00,  9.54it/s]\n",
            "                 Class     Images  Instances      Box(P          R      mAP50  mAP50-95)     Mask(P          R      mAP50  mAP50-95): 100% 19/19 [00:02<00:00,  7.34it/s]\n",
            "                   all        302       4210       0.45      0.128     0.0983     0.0451      0.458      0.126      0.096     0.0465\n",
            "\n",
            "      Epoch    GPU_mem   box_loss   seg_loss   cls_loss   dfl_loss  Instances       Size\n",
            "     23/100      3.39G       2.15      3.092      2.388      2.205        228        640: 100% 88/88 [00:09<00:00,  9.25it/s]\n",
            "                 Class     Images  Instances      Box(P          R      mAP50  mAP50-95)     Mask(P          R      mAP50  mAP50-95): 100% 19/19 [00:02<00:00,  7.22it/s]\n",
            "                   all        302       4210       0.45       0.13     0.0969     0.0449      0.458      0.128     0.0952     0.0479\n",
            "\n",
            "      Epoch    GPU_mem   box_loss   seg_loss   cls_loss   dfl_loss  Instances       Size\n",
            "     24/100      3.32G      2.126       3.13      2.381      2.179        198        640: 100% 88/88 [00:09<00:00,  9.48it/s]\n",
            "                 Class     Images  Instances      Box(P          R      mAP50  mAP50-95)     Mask(P          R      mAP50  mAP50-95): 100% 19/19 [00:02<00:00,  7.17it/s]\n",
            "                   all        302       4210       0.41      0.145      0.107     0.0503       0.41      0.137      0.102     0.0518\n",
            "\n",
            "      Epoch    GPU_mem   box_loss   seg_loss   cls_loss   dfl_loss  Instances       Size\n",
            "     25/100      3.31G      2.097       3.07      2.322      2.151        128        640: 100% 88/88 [00:09<00:00,  9.41it/s]\n",
            "                 Class     Images  Instances      Box(P          R      mAP50  mAP50-95)     Mask(P          R      mAP50  mAP50-95): 100% 19/19 [00:02<00:00,  7.19it/s]\n",
            "                   all        302       4210      0.434      0.135      0.109     0.0515      0.436      0.132      0.106     0.0537\n",
            "\n",
            "      Epoch    GPU_mem   box_loss   seg_loss   cls_loss   dfl_loss  Instances       Size\n",
            "     26/100      3.44G      2.077      3.046      2.301      2.119        186        640: 100% 88/88 [00:09<00:00,  9.30it/s]\n",
            "                 Class     Images  Instances      Box(P          R      mAP50  mAP50-95)     Mask(P          R      mAP50  mAP50-95): 100% 19/19 [00:02<00:00,  7.25it/s]\n",
            "                   all        302       4210       0.43      0.149      0.111     0.0532      0.429      0.143      0.107     0.0534\n",
            "\n",
            "      Epoch    GPU_mem   box_loss   seg_loss   cls_loss   dfl_loss  Instances       Size\n",
            "     27/100      3.44G       2.05      3.049      2.271      2.091         77        640: 100% 88/88 [00:09<00:00,  9.19it/s]\n",
            "                 Class     Images  Instances      Box(P          R      mAP50  mAP50-95)     Mask(P          R      mAP50  mAP50-95): 100% 19/19 [00:02<00:00,  7.50it/s]\n",
            "                   all        302       4210      0.451      0.145      0.118     0.0574      0.443      0.147      0.114     0.0574\n",
            "\n",
            "      Epoch    GPU_mem   box_loss   seg_loss   cls_loss   dfl_loss  Instances       Size\n",
            "     28/100      3.37G      2.022      2.958      2.228      2.066        158        640: 100% 88/88 [00:09<00:00,  9.16it/s]\n",
            "                 Class     Images  Instances      Box(P          R      mAP50  mAP50-95)     Mask(P          R      mAP50  mAP50-95): 100% 19/19 [00:02<00:00,  7.12it/s]\n",
            "                   all        302       4210      0.434       0.15      0.117     0.0564      0.438      0.142      0.114     0.0571\n",
            "\n",
            "      Epoch    GPU_mem   box_loss   seg_loss   cls_loss   dfl_loss  Instances       Size\n",
            "     29/100      3.32G      2.009      2.953      2.245      2.064         90        640: 100% 88/88 [00:09<00:00,  9.25it/s]\n",
            "                 Class     Images  Instances      Box(P          R      mAP50  mAP50-95)     Mask(P          R      mAP50  mAP50-95): 100% 19/19 [00:02<00:00,  7.12it/s]\n",
            "                   all        302       4210      0.431      0.157      0.122     0.0594      0.427      0.151      0.116     0.0591\n",
            "\n",
            "      Epoch    GPU_mem   box_loss   seg_loss   cls_loss   dfl_loss  Instances       Size\n",
            "     30/100      3.35G      2.019      2.983       2.21      2.042        155        640: 100% 88/88 [00:09<00:00,  9.16it/s]\n",
            "                 Class     Images  Instances      Box(P          R      mAP50  mAP50-95)     Mask(P          R      mAP50  mAP50-95): 100% 19/19 [00:02<00:00,  7.24it/s]\n",
            "                   all        302       4210      0.406       0.15      0.121     0.0603      0.398      0.146      0.117     0.0603\n",
            "\n",
            "      Epoch    GPU_mem   box_loss   seg_loss   cls_loss   dfl_loss  Instances       Size\n",
            "     31/100      3.32G      1.986       2.92      2.194       2.02        195        640: 100% 88/88 [00:09<00:00,  9.22it/s]\n",
            "                 Class     Images  Instances      Box(P          R      mAP50  mAP50-95)     Mask(P          R      mAP50  mAP50-95): 100% 19/19 [00:02<00:00,  7.15it/s]\n",
            "                   all        302       4210      0.396      0.156      0.125     0.0632      0.396      0.153      0.122     0.0635\n",
            "\n",
            "      Epoch    GPU_mem   box_loss   seg_loss   cls_loss   dfl_loss  Instances       Size\n",
            "     32/100       3.3G      1.948      2.876      2.151      1.987        131        640: 100% 88/88 [00:09<00:00,  9.37it/s]\n",
            "                 Class     Images  Instances      Box(P          R      mAP50  mAP50-95)     Mask(P          R      mAP50  mAP50-95): 100% 19/19 [00:02<00:00,  7.18it/s]\n",
            "                   all        302       4210       0.42      0.162      0.132     0.0678      0.419      0.157      0.126     0.0667\n",
            "\n",
            "      Epoch    GPU_mem   box_loss   seg_loss   cls_loss   dfl_loss  Instances       Size\n",
            "     33/100      3.37G       1.94      2.875      2.159      1.975        153        640: 100% 88/88 [00:09<00:00,  9.28it/s]\n",
            "                 Class     Images  Instances      Box(P          R      mAP50  mAP50-95)     Mask(P          R      mAP50  mAP50-95): 100% 19/19 [00:02<00:00,  6.94it/s]\n",
            "                   all        302       4210      0.383      0.169       0.13      0.066      0.381      0.164      0.126     0.0657\n",
            "\n",
            "      Epoch    GPU_mem   box_loss   seg_loss   cls_loss   dfl_loss  Instances       Size\n",
            "     34/100      3.36G       1.94      2.881      2.142      1.963        155        640: 100% 88/88 [00:09<00:00,  9.51it/s]\n",
            "                 Class     Images  Instances      Box(P          R      mAP50  mAP50-95)     Mask(P          R      mAP50  mAP50-95): 100% 19/19 [00:02<00:00,  7.23it/s]\n",
            "                   all        302       4210      0.386      0.166      0.139     0.0712      0.385      0.164      0.135     0.0708\n",
            "\n",
            "      Epoch    GPU_mem   box_loss   seg_loss   cls_loss   dfl_loss  Instances       Size\n",
            "     35/100      3.37G      1.916      2.831      2.116      1.944        134        640: 100% 88/88 [00:09<00:00,  9.48it/s]\n",
            "                 Class     Images  Instances      Box(P          R      mAP50  mAP50-95)     Mask(P          R      mAP50  mAP50-95): 100% 19/19 [00:02<00:00,  7.09it/s]\n",
            "                   all        302       4210      0.397      0.166      0.132      0.067      0.391      0.163      0.127     0.0674\n",
            "\n",
            "      Epoch    GPU_mem   box_loss   seg_loss   cls_loss   dfl_loss  Instances       Size\n",
            "     36/100      3.36G      1.914      2.851       2.09      1.931        151        640: 100% 88/88 [00:09<00:00,  9.32it/s]\n",
            "                 Class     Images  Instances      Box(P          R      mAP50  mAP50-95)     Mask(P          R      mAP50  mAP50-95): 100% 19/19 [00:02<00:00,  7.22it/s]\n",
            "                   all        302       4210      0.362      0.175      0.147     0.0763       0.36      0.172      0.139     0.0746\n",
            "\n",
            "      Epoch    GPU_mem   box_loss   seg_loss   cls_loss   dfl_loss  Instances       Size\n",
            "     37/100      3.34G      1.893      2.785       2.06      1.916        102        640: 100% 88/88 [00:09<00:00,  9.27it/s]\n",
            "                 Class     Images  Instances      Box(P          R      mAP50  mAP50-95)     Mask(P          R      mAP50  mAP50-95): 100% 19/19 [00:02<00:00,  7.24it/s]\n",
            "                   all        302       4210      0.376      0.166      0.136     0.0684      0.378      0.165      0.132     0.0699\n",
            "\n",
            "      Epoch    GPU_mem   box_loss   seg_loss   cls_loss   dfl_loss  Instances       Size\n",
            "     38/100      3.38G      1.879      2.817       2.05      1.904        151        640: 100% 88/88 [00:10<00:00,  8.72it/s]\n",
            "                 Class     Images  Instances      Box(P          R      mAP50  mAP50-95)     Mask(P          R      mAP50  mAP50-95): 100% 19/19 [00:02<00:00,  7.18it/s]\n",
            "                   all        302       4210      0.415      0.171      0.139     0.0713      0.414      0.168      0.134     0.0726\n",
            "\n",
            "      Epoch    GPU_mem   box_loss   seg_loss   cls_loss   dfl_loss  Instances       Size\n",
            "     39/100      3.36G      1.877      2.796      2.055        1.9        166        640: 100% 88/88 [00:09<00:00,  8.80it/s]\n",
            "                 Class     Images  Instances      Box(P          R      mAP50  mAP50-95)     Mask(P          R      mAP50  mAP50-95): 100% 19/19 [00:02<00:00,  7.15it/s]\n",
            "                   all        302       4210      0.366       0.19      0.145     0.0745      0.367      0.182       0.14     0.0738\n",
            "\n",
            "      Epoch    GPU_mem   box_loss   seg_loss   cls_loss   dfl_loss  Instances       Size\n",
            "     40/100      3.57G      1.847      2.755      2.012      1.874        123        640: 100% 88/88 [00:09<00:00,  9.08it/s]\n",
            "                 Class     Images  Instances      Box(P          R      mAP50  mAP50-95)     Mask(P          R      mAP50  mAP50-95): 100% 19/19 [00:02<00:00,  7.09it/s]\n",
            "                   all        302       4210       0.39      0.185      0.148      0.077       0.39      0.186      0.145     0.0776\n",
            "\n",
            "      Epoch    GPU_mem   box_loss   seg_loss   cls_loss   dfl_loss  Instances       Size\n",
            "     41/100      3.42G      1.859      2.778      2.023      1.866        177        640: 100% 88/88 [00:09<00:00,  8.90it/s]\n",
            "                 Class     Images  Instances      Box(P          R      mAP50  mAP50-95)     Mask(P          R      mAP50  mAP50-95): 100% 19/19 [00:02<00:00,  7.27it/s]\n",
            "                   all        302       4210      0.346      0.182      0.147     0.0761      0.348      0.181      0.144     0.0778\n",
            "\n",
            "      Epoch    GPU_mem   box_loss   seg_loss   cls_loss   dfl_loss  Instances       Size\n",
            "     42/100      3.35G      1.835      2.715       1.99      1.859        169        640: 100% 88/88 [00:09<00:00,  8.98it/s]\n",
            "                 Class     Images  Instances      Box(P          R      mAP50  mAP50-95)     Mask(P          R      mAP50  mAP50-95): 100% 19/19 [00:02<00:00,  7.31it/s]\n",
            "                   all        302       4210       0.29      0.195      0.149     0.0777       0.29      0.195      0.146     0.0782\n",
            "\n",
            "      Epoch    GPU_mem   box_loss   seg_loss   cls_loss   dfl_loss  Instances       Size\n",
            "     43/100       3.3G      1.824      2.762      1.996      1.852        168        640: 100% 88/88 [00:09<00:00,  9.10it/s]\n",
            "                 Class     Images  Instances      Box(P          R      mAP50  mAP50-95)     Mask(P          R      mAP50  mAP50-95): 100% 19/19 [00:02<00:00,  7.47it/s]\n",
            "                   all        302       4210       0.34      0.197      0.155     0.0818       0.34      0.196      0.151     0.0817\n",
            "\n",
            "      Epoch    GPU_mem   box_loss   seg_loss   cls_loss   dfl_loss  Instances       Size\n",
            "     44/100      3.41G      1.822      2.727      1.983      1.843        144        640: 100% 88/88 [00:09<00:00,  9.22it/s]\n",
            "                 Class     Images  Instances      Box(P          R      mAP50  mAP50-95)     Mask(P          R      mAP50  mAP50-95): 100% 19/19 [00:02<00:00,  7.05it/s]\n",
            "                   all        302       4210      0.385      0.199      0.155     0.0825      0.386      0.197       0.15     0.0809\n",
            "\n",
            "      Epoch    GPU_mem   box_loss   seg_loss   cls_loss   dfl_loss  Instances       Size\n",
            "     45/100       3.4G      1.805      2.689       1.95      1.822        132        640: 100% 88/88 [00:09<00:00,  9.12it/s]\n",
            "                 Class     Images  Instances      Box(P          R      mAP50  mAP50-95)     Mask(P          R      mAP50  mAP50-95): 100% 19/19 [00:02<00:00,  7.17it/s]\n",
            "                   all        302       4210      0.412      0.192      0.158     0.0843      0.419       0.19      0.155     0.0854\n",
            "\n",
            "      Epoch    GPU_mem   box_loss   seg_loss   cls_loss   dfl_loss  Instances       Size\n",
            "     46/100      3.52G      1.814      2.749      1.979      1.823        190        640: 100% 88/88 [00:09<00:00,  9.06it/s]\n",
            "                 Class     Images  Instances      Box(P          R      mAP50  mAP50-95)     Mask(P          R      mAP50  mAP50-95): 100% 19/19 [00:02<00:00,  7.10it/s]\n",
            "                   all        302       4210      0.374        0.2      0.153     0.0823      0.372      0.197      0.148     0.0807\n",
            "\n",
            "      Epoch    GPU_mem   box_loss   seg_loss   cls_loss   dfl_loss  Instances       Size\n",
            "     47/100      3.46G      1.804      2.741      1.968      1.816        182        640: 100% 88/88 [00:09<00:00,  9.12it/s]\n",
            "                 Class     Images  Instances      Box(P          R      mAP50  mAP50-95)     Mask(P          R      mAP50  mAP50-95): 100% 19/19 [00:02<00:00,  7.31it/s]\n",
            "                   all        302       4210      0.369      0.204      0.153      0.082      0.367        0.2      0.148     0.0804\n",
            "\n",
            "      Epoch    GPU_mem   box_loss   seg_loss   cls_loss   dfl_loss  Instances       Size\n",
            "     48/100      3.47G      1.776       2.68      1.924        1.8        117        640: 100% 88/88 [00:09<00:00,  9.35it/s]\n",
            "                 Class     Images  Instances      Box(P          R      mAP50  mAP50-95)     Mask(P          R      mAP50  mAP50-95): 100% 19/19 [00:02<00:00,  7.31it/s]\n",
            "                   all        302       4210       0.34      0.197      0.159     0.0848      0.341      0.194      0.153     0.0834\n",
            "\n",
            "      Epoch    GPU_mem   box_loss   seg_loss   cls_loss   dfl_loss  Instances       Size\n",
            "     49/100      3.38G      1.781      2.704      1.912      1.788        169        640: 100% 88/88 [00:09<00:00,  9.13it/s]\n",
            "                 Class     Images  Instances      Box(P          R      mAP50  mAP50-95)     Mask(P          R      mAP50  mAP50-95): 100% 19/19 [00:02<00:00,  6.96it/s]\n",
            "                   all        302       4210      0.417      0.192      0.157     0.0829      0.414       0.19      0.154     0.0823\n",
            "\n",
            "      Epoch    GPU_mem   box_loss   seg_loss   cls_loss   dfl_loss  Instances       Size\n",
            "     50/100      3.31G       1.77      2.649      1.915      1.784        109        640: 100% 88/88 [00:09<00:00,  9.26it/s]\n",
            "                 Class     Images  Instances      Box(P          R      mAP50  mAP50-95)     Mask(P          R      mAP50  mAP50-95): 100% 19/19 [00:02<00:00,  7.22it/s]\n",
            "                   all        302       4210      0.308      0.221      0.164     0.0877      0.365      0.216      0.159     0.0868\n",
            "\n",
            "      Epoch    GPU_mem   box_loss   seg_loss   cls_loss   dfl_loss  Instances       Size\n",
            "     51/100      3.35G       1.76      2.666       1.89       1.77        143        640: 100% 88/88 [00:09<00:00,  9.16it/s]\n",
            "                 Class     Images  Instances      Box(P          R      mAP50  mAP50-95)     Mask(P          R      mAP50  mAP50-95): 100% 19/19 [00:02<00:00,  7.00it/s]\n",
            "                   all        302       4210      0.367      0.207      0.159     0.0843      0.437      0.184      0.156     0.0848\n",
            "\n",
            "      Epoch    GPU_mem   box_loss   seg_loss   cls_loss   dfl_loss  Instances       Size\n",
            "     52/100      3.36G      1.767      2.653      1.907      1.768        123        640: 100% 88/88 [00:09<00:00,  9.33it/s]\n",
            "                 Class     Images  Instances      Box(P          R      mAP50  mAP50-95)     Mask(P          R      mAP50  mAP50-95): 100% 19/19 [00:02<00:00,  7.26it/s]\n",
            "                   all        302       4210      0.344      0.209      0.167     0.0895      0.334      0.212      0.162     0.0886\n",
            "\n",
            "      Epoch    GPU_mem   box_loss   seg_loss   cls_loss   dfl_loss  Instances       Size\n",
            "     53/100      3.53G      1.747      2.632      1.894      1.774        242        640: 100% 88/88 [00:09<00:00,  9.27it/s]\n",
            "                 Class     Images  Instances      Box(P          R      mAP50  mAP50-95)     Mask(P          R      mAP50  mAP50-95): 100% 19/19 [00:02<00:00,  7.32it/s]\n",
            "                   all        302       4210      0.378      0.219      0.166     0.0898      0.381      0.219      0.164     0.0899\n",
            "\n",
            "      Epoch    GPU_mem   box_loss   seg_loss   cls_loss   dfl_loss  Instances       Size\n",
            "     54/100      3.42G      1.737      2.618      1.869      1.748        137        640: 100% 88/88 [00:09<00:00,  9.25it/s]\n",
            "                 Class     Images  Instances      Box(P          R      mAP50  mAP50-95)     Mask(P          R      mAP50  mAP50-95): 100% 19/19 [00:02<00:00,  7.26it/s]\n",
            "                   all        302       4210      0.347       0.21      0.166     0.0897      0.383      0.203      0.164     0.0901\n",
            "\n",
            "      Epoch    GPU_mem   box_loss   seg_loss   cls_loss   dfl_loss  Instances       Size\n",
            "     55/100      3.33G      1.741      2.645      1.891       1.76        162        640: 100% 88/88 [00:09<00:00,  9.20it/s]\n",
            "                 Class     Images  Instances      Box(P          R      mAP50  mAP50-95)     Mask(P          R      mAP50  mAP50-95): 100% 19/19 [00:02<00:00,  7.24it/s]\n",
            "                   all        302       4210      0.407      0.218      0.171     0.0935      0.413       0.21      0.168     0.0923\n",
            "\n",
            "      Epoch    GPU_mem   box_loss   seg_loss   cls_loss   dfl_loss  Instances       Size\n",
            "     56/100      3.54G      1.728      2.617      1.861      1.742        117        640: 100% 88/88 [00:09<00:00,  9.56it/s]\n",
            "                 Class     Images  Instances      Box(P          R      mAP50  mAP50-95)     Mask(P          R      mAP50  mAP50-95): 100% 19/19 [00:02<00:00,  7.35it/s]\n",
            "                   all        302       4210      0.396      0.215       0.17     0.0916      0.391      0.213      0.167     0.0921\n",
            "\n",
            "      Epoch    GPU_mem   box_loss   seg_loss   cls_loss   dfl_loss  Instances       Size\n",
            "     57/100      3.31G       1.73      2.619      1.844      1.728        159        640: 100% 88/88 [00:09<00:00,  9.00it/s]\n",
            "                 Class     Images  Instances      Box(P          R      mAP50  mAP50-95)     Mask(P          R      mAP50  mAP50-95): 100% 19/19 [00:02<00:00,  7.18it/s]\n",
            "                   all        302       4210      0.413       0.21       0.17     0.0909      0.406      0.214      0.167     0.0913\n",
            "\n",
            "      Epoch    GPU_mem   box_loss   seg_loss   cls_loss   dfl_loss  Instances       Size\n",
            "     58/100      3.31G      1.712      2.591      1.847      1.729        151        640: 100% 88/88 [00:09<00:00,  9.34it/s]\n",
            "                 Class     Images  Instances      Box(P          R      mAP50  mAP50-95)     Mask(P          R      mAP50  mAP50-95): 100% 19/19 [00:02<00:00,  7.13it/s]\n",
            "                   all        302       4210      0.362      0.221      0.169     0.0911      0.367      0.219      0.165     0.0913\n",
            "\n",
            "      Epoch    GPU_mem   box_loss   seg_loss   cls_loss   dfl_loss  Instances       Size\n",
            "     59/100      3.31G      1.721      2.598      1.836      1.728        142        640: 100% 88/88 [00:09<00:00,  9.24it/s]\n",
            "                 Class     Images  Instances      Box(P          R      mAP50  mAP50-95)     Mask(P          R      mAP50  mAP50-95): 100% 19/19 [00:02<00:00,  7.28it/s]\n",
            "                   all        302       4210      0.363      0.226      0.175     0.0959      0.382       0.22      0.172     0.0959\n",
            "\n",
            "      Epoch    GPU_mem   box_loss   seg_loss   cls_loss   dfl_loss  Instances       Size\n",
            "     60/100      3.31G      1.702      2.569      1.827      1.711        112        640: 100% 88/88 [00:09<00:00,  9.28it/s]\n",
            "                 Class     Images  Instances      Box(P          R      mAP50  mAP50-95)     Mask(P          R      mAP50  mAP50-95): 100% 19/19 [00:02<00:00,  7.18it/s]\n",
            "                   all        302       4210      0.317      0.226      0.179     0.0959       0.32      0.226      0.177     0.0952\n",
            "\n",
            "      Epoch    GPU_mem   box_loss   seg_loss   cls_loss   dfl_loss  Instances       Size\n",
            "     61/100      3.42G      1.669      2.515      1.797      1.694        175        640: 100% 88/88 [00:09<00:00,  9.31it/s]\n",
            "                 Class     Images  Instances      Box(P          R      mAP50  mAP50-95)     Mask(P          R      mAP50  mAP50-95): 100% 19/19 [00:02<00:00,  7.41it/s]\n",
            "                   all        302       4210      0.361      0.222      0.175     0.0933      0.385      0.217      0.167     0.0923\n",
            "\n",
            "      Epoch    GPU_mem   box_loss   seg_loss   cls_loss   dfl_loss  Instances       Size\n",
            "     62/100      3.35G      1.679      2.549      1.834      1.703        204        640: 100% 88/88 [00:09<00:00,  9.26it/s]\n",
            "                 Class     Images  Instances      Box(P          R      mAP50  mAP50-95)     Mask(P          R      mAP50  mAP50-95): 100% 19/19 [00:02<00:00,  7.17it/s]\n",
            "                   all        302       4210      0.337      0.217      0.174     0.0942       0.34      0.209      0.171     0.0941\n",
            "\n",
            "      Epoch    GPU_mem   box_loss   seg_loss   cls_loss   dfl_loss  Instances       Size\n",
            "     63/100      3.55G      1.683      2.541      1.796      1.692        134        640: 100% 88/88 [00:09<00:00,  9.23it/s]\n",
            "                 Class     Images  Instances      Box(P          R      mAP50  mAP50-95)     Mask(P          R      mAP50  mAP50-95): 100% 19/19 [00:02<00:00,  7.17it/s]\n",
            "                   all        302       4210      0.368      0.228       0.18     0.0978      0.371      0.227      0.176     0.0983\n",
            "\n",
            "      Epoch    GPU_mem   box_loss   seg_loss   cls_loss   dfl_loss  Instances       Size\n",
            "     64/100      3.51G      1.685      2.564      1.805      1.695         76        640: 100% 88/88 [00:09<00:00,  9.17it/s]\n",
            "                 Class     Images  Instances      Box(P          R      mAP50  mAP50-95)     Mask(P          R      mAP50  mAP50-95): 100% 19/19 [00:02<00:00,  7.29it/s]\n",
            "                   all        302       4210       0.43      0.217      0.178     0.0969       0.43      0.214      0.175     0.0978\n",
            "\n",
            "      Epoch    GPU_mem   box_loss   seg_loss   cls_loss   dfl_loss  Instances       Size\n",
            "     65/100      3.31G      1.673      2.546       1.82      1.698        175        640: 100% 88/88 [00:09<00:00,  9.37it/s]\n",
            "                 Class     Images  Instances      Box(P          R      mAP50  mAP50-95)     Mask(P          R      mAP50  mAP50-95): 100% 19/19 [00:02<00:00,  7.21it/s]\n",
            "                   all        302       4210      0.411      0.221      0.185      0.101      0.412      0.215      0.182      0.102\n",
            "\n",
            "      Epoch    GPU_mem   box_loss   seg_loss   cls_loss   dfl_loss  Instances       Size\n",
            "     66/100      3.36G      1.685      2.554      1.795      1.687        181        640: 100% 88/88 [00:09<00:00,  9.25it/s]\n",
            "                 Class     Images  Instances      Box(P          R      mAP50  mAP50-95)     Mask(P          R      mAP50  mAP50-95): 100% 19/19 [00:02<00:00,  7.34it/s]\n",
            "                   all        302       4210      0.449      0.221      0.184      0.102      0.454      0.219      0.182      0.102\n",
            "\n",
            "      Epoch    GPU_mem   box_loss   seg_loss   cls_loss   dfl_loss  Instances       Size\n",
            "     67/100      3.32G      1.677      2.538      1.804      1.687        177        640: 100% 88/88 [00:09<00:00,  9.35it/s]\n",
            "                 Class     Images  Instances      Box(P          R      mAP50  mAP50-95)     Mask(P          R      mAP50  mAP50-95): 100% 19/19 [00:02<00:00,  7.07it/s]\n",
            "                   all        302       4210      0.433      0.225      0.181     0.0991      0.429      0.222      0.177        0.1\n",
            "\n",
            "      Epoch    GPU_mem   box_loss   seg_loss   cls_loss   dfl_loss  Instances       Size\n",
            "     68/100      3.33G      1.664      2.535      1.798       1.68        106        640: 100% 88/88 [00:09<00:00,  9.43it/s]\n",
            "                 Class     Images  Instances      Box(P          R      mAP50  mAP50-95)     Mask(P          R      mAP50  mAP50-95): 100% 19/19 [00:02<00:00,  7.17it/s]\n",
            "                   all        302       4210      0.416      0.227      0.183     0.0988      0.459      0.212      0.179     0.0999\n",
            "\n",
            "      Epoch    GPU_mem   box_loss   seg_loss   cls_loss   dfl_loss  Instances       Size\n",
            "     69/100      3.64G      1.644      2.489      1.783       1.67         94        640: 100% 88/88 [00:09<00:00,  9.31it/s]\n",
            "                 Class     Images  Instances      Box(P          R      mAP50  mAP50-95)     Mask(P          R      mAP50  mAP50-95): 100% 19/19 [00:02<00:00,  7.31it/s]\n",
            "                   all        302       4210      0.372      0.242      0.187      0.102      0.379      0.241      0.183      0.103\n",
            "\n",
            "      Epoch    GPU_mem   box_loss   seg_loss   cls_loss   dfl_loss  Instances       Size\n",
            "     70/100      3.32G      1.655      2.495      1.767      1.664        129        640: 100% 88/88 [00:09<00:00,  9.27it/s]\n",
            "                 Class     Images  Instances      Box(P          R      mAP50  mAP50-95)     Mask(P          R      mAP50  mAP50-95): 100% 19/19 [00:02<00:00,  7.35it/s]\n",
            "                   all        302       4210      0.405      0.223      0.183        0.1      0.409      0.226      0.181      0.102\n",
            "\n",
            "      Epoch    GPU_mem   box_loss   seg_loss   cls_loss   dfl_loss  Instances       Size\n",
            "     71/100       3.5G      1.649      2.505      1.747      1.656        152        640: 100% 88/88 [00:09<00:00,  9.12it/s]\n",
            "                 Class     Images  Instances      Box(P          R      mAP50  mAP50-95)     Mask(P          R      mAP50  mAP50-95): 100% 19/19 [00:02<00:00,  7.27it/s]\n",
            "                   all        302       4210      0.425      0.229      0.187      0.104      0.431      0.232      0.185      0.105\n",
            "\n",
            "      Epoch    GPU_mem   box_loss   seg_loss   cls_loss   dfl_loss  Instances       Size\n",
            "     72/100      3.34G       1.65      2.509      1.768      1.657        150        640: 100% 88/88 [00:09<00:00,  9.05it/s]\n",
            "                 Class     Images  Instances      Box(P          R      mAP50  mAP50-95)     Mask(P          R      mAP50  mAP50-95): 100% 19/19 [00:02<00:00,  7.24it/s]\n",
            "                   all        302       4210      0.411      0.237      0.188      0.104      0.413      0.233      0.182      0.104\n",
            "\n",
            "      Epoch    GPU_mem   box_loss   seg_loss   cls_loss   dfl_loss  Instances       Size\n",
            "     73/100      3.38G      1.635      2.496      1.767      1.655        103        640: 100% 88/88 [00:09<00:00,  9.19it/s]\n",
            "                 Class     Images  Instances      Box(P          R      mAP50  mAP50-95)     Mask(P          R      mAP50  mAP50-95): 100% 19/19 [00:02<00:00,  7.14it/s]\n",
            "                   all        302       4210      0.442       0.22      0.187      0.102      0.446      0.221      0.184      0.104\n",
            "\n",
            "      Epoch    GPU_mem   box_loss   seg_loss   cls_loss   dfl_loss  Instances       Size\n",
            "     74/100      3.53G      1.639      2.501      1.754      1.649        110        640: 100% 88/88 [00:09<00:00,  9.06it/s]\n",
            "                 Class     Images  Instances      Box(P          R      mAP50  mAP50-95)     Mask(P          R      mAP50  mAP50-95): 100% 19/19 [00:02<00:00,  7.36it/s]\n",
            "                   all        302       4210      0.363      0.238      0.184      0.101      0.365      0.238      0.178      0.102\n",
            "\n",
            "      Epoch    GPU_mem   box_loss   seg_loss   cls_loss   dfl_loss  Instances       Size\n",
            "     75/100      3.36G      1.645      2.458      1.747      1.656        181        640: 100% 88/88 [00:09<00:00,  9.09it/s]\n",
            "                 Class     Images  Instances      Box(P          R      mAP50  mAP50-95)     Mask(P          R      mAP50  mAP50-95): 100% 19/19 [00:02<00:00,  7.44it/s]\n",
            "                   all        302       4210      0.434       0.23      0.186      0.102      0.437      0.229      0.184      0.103\n",
            "\n",
            "      Epoch    GPU_mem   box_loss   seg_loss   cls_loss   dfl_loss  Instances       Size\n",
            "     76/100      3.54G      1.632      2.475      1.748      1.647        163        640: 100% 88/88 [00:09<00:00,  9.06it/s]\n",
            "                 Class     Images  Instances      Box(P          R      mAP50  mAP50-95)     Mask(P          R      mAP50  mAP50-95): 100% 19/19 [00:02<00:00,  7.33it/s]\n",
            "                   all        302       4210      0.408      0.232      0.186      0.103      0.409      0.232      0.182      0.103\n",
            "\n",
            "      Epoch    GPU_mem   box_loss   seg_loss   cls_loss   dfl_loss  Instances       Size\n",
            "     77/100      3.39G      1.607      2.438       1.74      1.629        136        640: 100% 88/88 [00:09<00:00,  9.42it/s]\n",
            "                 Class     Images  Instances      Box(P          R      mAP50  mAP50-95)     Mask(P          R      mAP50  mAP50-95): 100% 19/19 [00:02<00:00,  7.50it/s]\n",
            "                   all        302       4210      0.445       0.22       0.19      0.104      0.446      0.219      0.183      0.103\n",
            "\n",
            "      Epoch    GPU_mem   box_loss   seg_loss   cls_loss   dfl_loss  Instances       Size\n",
            "     78/100      3.41G      1.628      2.465      1.745      1.643        168        640: 100% 88/88 [00:09<00:00,  9.20it/s]\n",
            "                 Class     Images  Instances      Box(P          R      mAP50  mAP50-95)     Mask(P          R      mAP50  mAP50-95): 100% 19/19 [00:02<00:00,  7.18it/s]\n",
            "                   all        302       4210      0.408      0.221      0.188      0.104      0.411      0.222      0.181      0.103\n",
            "\n",
            "      Epoch    GPU_mem   box_loss   seg_loss   cls_loss   dfl_loss  Instances       Size\n",
            "     79/100      3.44G      1.628      2.468      1.735      1.633        171        640: 100% 88/88 [00:09<00:00,  9.05it/s]\n",
            "                 Class     Images  Instances      Box(P          R      mAP50  mAP50-95)     Mask(P          R      mAP50  mAP50-95): 100% 19/19 [00:02<00:00,  7.26it/s]\n",
            "                   all        302       4210      0.415      0.228      0.187      0.104      0.414      0.228      0.182      0.103\n",
            "\n",
            "      Epoch    GPU_mem   box_loss   seg_loss   cls_loss   dfl_loss  Instances       Size\n",
            "     80/100      3.56G      1.609      2.434      1.728       1.63        153        640: 100% 88/88 [00:09<00:00,  9.28it/s]\n",
            "                 Class     Images  Instances      Box(P          R      mAP50  mAP50-95)     Mask(P          R      mAP50  mAP50-95): 100% 19/19 [00:02<00:00,  7.26it/s]\n",
            "                   all        302       4210      0.422      0.223      0.192      0.107      0.421      0.221      0.185      0.106\n",
            "\n",
            "      Epoch    GPU_mem   box_loss   seg_loss   cls_loss   dfl_loss  Instances       Size\n",
            "     81/100      3.33G      1.619      2.444      1.729      1.633        107        640: 100% 88/88 [00:09<00:00,  9.48it/s]\n",
            "                 Class     Images  Instances      Box(P          R      mAP50  mAP50-95)     Mask(P          R      mAP50  mAP50-95): 100% 19/19 [00:02<00:00,  7.36it/s]\n",
            "                   all        302       4210      0.428      0.227      0.191      0.106      0.427      0.229      0.186      0.106\n",
            "\n",
            "      Epoch    GPU_mem   box_loss   seg_loss   cls_loss   dfl_loss  Instances       Size\n",
            "     82/100      3.36G      1.614      2.484      1.694      1.623        106        640: 100% 88/88 [00:09<00:00,  9.42it/s]\n",
            "                 Class     Images  Instances      Box(P          R      mAP50  mAP50-95)     Mask(P          R      mAP50  mAP50-95): 100% 19/19 [00:02<00:00,  7.29it/s]\n",
            "                   all        302       4210      0.409      0.234      0.191      0.107      0.411      0.228      0.185      0.106\n",
            "\n",
            "      Epoch    GPU_mem   box_loss   seg_loss   cls_loss   dfl_loss  Instances       Size\n",
            "     83/100      3.43G      1.631      2.476      1.735      1.633        128        640: 100% 88/88 [00:09<00:00,  9.30it/s]\n",
            "                 Class     Images  Instances      Box(P          R      mAP50  mAP50-95)     Mask(P          R      mAP50  mAP50-95): 100% 19/19 [00:02<00:00,  7.21it/s]\n",
            "                   all        302       4210      0.409      0.231      0.195      0.108      0.408      0.232      0.192      0.108\n",
            "\n",
            "      Epoch    GPU_mem   box_loss   seg_loss   cls_loss   dfl_loss  Instances       Size\n",
            "     84/100       3.5G      1.597      2.433      1.695      1.613        149        640: 100% 88/88 [00:09<00:00,  9.30it/s]\n",
            "                 Class     Images  Instances      Box(P          R      mAP50  mAP50-95)     Mask(P          R      mAP50  mAP50-95): 100% 19/19 [00:02<00:00,  7.31it/s]\n",
            "                   all        302       4210      0.376      0.245      0.194      0.108      0.375      0.243      0.187      0.106\n",
            "\n",
            "      Epoch    GPU_mem   box_loss   seg_loss   cls_loss   dfl_loss  Instances       Size\n",
            "     85/100      3.42G      1.608      2.445      1.686      1.614         81        640: 100% 88/88 [00:09<00:00,  8.89it/s]\n",
            "                 Class     Images  Instances      Box(P          R      mAP50  mAP50-95)     Mask(P          R      mAP50  mAP50-95): 100% 19/19 [00:02<00:00,  7.35it/s]\n",
            "                   all        302       4210      0.399      0.238      0.191      0.106        0.4      0.234      0.186      0.106\n",
            "\n",
            "      Epoch    GPU_mem   box_loss   seg_loss   cls_loss   dfl_loss  Instances       Size\n",
            "     86/100      3.28G      1.602      2.465      1.726      1.618        147        640: 100% 88/88 [00:09<00:00,  9.13it/s]\n",
            "                 Class     Images  Instances      Box(P          R      mAP50  mAP50-95)     Mask(P          R      mAP50  mAP50-95): 100% 19/19 [00:02<00:00,  7.24it/s]\n",
            "                   all        302       4210      0.411      0.239      0.191      0.107      0.415      0.241      0.186      0.105\n",
            "\n",
            "      Epoch    GPU_mem   box_loss   seg_loss   cls_loss   dfl_loss  Instances       Size\n",
            "     87/100      3.31G      1.598      2.458      1.698      1.612        118        640: 100% 88/88 [00:09<00:00,  9.25it/s]\n",
            "                 Class     Images  Instances      Box(P          R      mAP50  mAP50-95)     Mask(P          R      mAP50  mAP50-95): 100% 19/19 [00:02<00:00,  7.33it/s]\n",
            "                   all        302       4210      0.375      0.232      0.192      0.106      0.372      0.228      0.185      0.105\n",
            "\n",
            "      Epoch    GPU_mem   box_loss   seg_loss   cls_loss   dfl_loss  Instances       Size\n",
            "     88/100      3.41G      1.589      2.426      1.692      1.611        167        640: 100% 88/88 [00:09<00:00,  9.29it/s]\n",
            "                 Class     Images  Instances      Box(P          R      mAP50  mAP50-95)     Mask(P          R      mAP50  mAP50-95): 100% 19/19 [00:02<00:00,  7.23it/s]\n",
            "                   all        302       4210      0.378      0.247      0.195      0.108      0.377      0.247      0.189      0.107\n",
            "\n",
            "      Epoch    GPU_mem   box_loss   seg_loss   cls_loss   dfl_loss  Instances       Size\n",
            "     89/100      3.41G       1.59      2.428      1.705       1.61        142        640: 100% 88/88 [00:09<00:00,  9.11it/s]\n",
            "                 Class     Images  Instances      Box(P          R      mAP50  mAP50-95)     Mask(P          R      mAP50  mAP50-95): 100% 19/19 [00:02<00:00,  7.35it/s]\n",
            "                   all        302       4210      0.379      0.239      0.193      0.108      0.377      0.238      0.188      0.107\n",
            "\n",
            "      Epoch    GPU_mem   box_loss   seg_loss   cls_loss   dfl_loss  Instances       Size\n",
            "     90/100      3.28G      1.576      2.394      1.686      1.597        120        640: 100% 88/88 [00:09<00:00,  9.32it/s]\n",
            "                 Class     Images  Instances      Box(P          R      mAP50  mAP50-95)     Mask(P          R      mAP50  mAP50-95): 100% 19/19 [00:02<00:00,  7.49it/s]\n",
            "                   all        302       4210      0.386      0.233      0.196      0.109      0.389      0.231       0.19      0.108\n",
            "\n",
            "      Epoch    GPU_mem   box_loss   seg_loss   cls_loss   dfl_loss  Instances       Size\n",
            "     91/100      3.35G      1.589      2.415      1.688        1.6        181        640: 100% 88/88 [00:09<00:00,  9.32it/s]\n",
            "                 Class     Images  Instances      Box(P          R      mAP50  mAP50-95)     Mask(P          R      mAP50  mAP50-95): 100% 19/19 [00:02<00:00,  7.38it/s]\n",
            "                   all        302       4210      0.375      0.242      0.193      0.108      0.386       0.24      0.188      0.107\n",
            "\n",
            "      Epoch    GPU_mem   box_loss   seg_loss   cls_loss   dfl_loss  Instances       Size\n",
            "     92/100      3.51G      1.587      2.411      1.683      1.607        152        640: 100% 88/88 [00:09<00:00,  9.30it/s]\n",
            "                 Class     Images  Instances      Box(P          R      mAP50  mAP50-95)     Mask(P          R      mAP50  mAP50-95): 100% 19/19 [00:02<00:00,  7.12it/s]\n",
            "                   all        302       4210      0.387      0.237      0.195      0.109      0.387      0.232      0.188      0.108\n",
            "\n",
            "      Epoch    GPU_mem   box_loss   seg_loss   cls_loss   dfl_loss  Instances       Size\n",
            "     93/100      3.36G      1.584      2.431      1.681      1.605        137        640: 100% 88/88 [00:09<00:00,  9.38it/s]\n",
            "                 Class     Images  Instances      Box(P          R      mAP50  mAP50-95)     Mask(P          R      mAP50  mAP50-95): 100% 19/19 [00:02<00:00,  7.20it/s]\n",
            "                   all        302       4210      0.387      0.237      0.196      0.111      0.389      0.235       0.19       0.11\n",
            "\n",
            "      Epoch    GPU_mem   box_loss   seg_loss   cls_loss   dfl_loss  Instances       Size\n",
            "     94/100      3.36G      1.577      2.402      1.679      1.595        157        640: 100% 88/88 [00:09<00:00,  9.26it/s]\n",
            "                 Class     Images  Instances      Box(P          R      mAP50  mAP50-95)     Mask(P          R      mAP50  mAP50-95): 100% 19/19 [00:02<00:00,  7.29it/s]\n",
            "                   all        302       4210      0.411      0.239      0.199      0.112      0.411      0.238      0.192       0.11\n",
            "\n",
            "      Epoch    GPU_mem   box_loss   seg_loss   cls_loss   dfl_loss  Instances       Size\n",
            "     95/100      3.32G      1.589      2.407      1.673      1.593        116        640: 100% 88/88 [00:09<00:00,  9.38it/s]\n",
            "                 Class     Images  Instances      Box(P          R      mAP50  mAP50-95)     Mask(P          R      mAP50  mAP50-95): 100% 19/19 [00:02<00:00,  7.38it/s]\n",
            "                   all        302       4210      0.408      0.242      0.196      0.111      0.409      0.244      0.191       0.11\n",
            "\n",
            "      Epoch    GPU_mem   box_loss   seg_loss   cls_loss   dfl_loss  Instances       Size\n",
            "     96/100      3.51G      1.572      2.375      1.664      1.595        152        640: 100% 88/88 [00:09<00:00,  9.50it/s]\n",
            "                 Class     Images  Instances      Box(P          R      mAP50  mAP50-95)     Mask(P          R      mAP50  mAP50-95): 100% 19/19 [00:02<00:00,  7.28it/s]\n",
            "                   all        302       4210      0.436      0.243      0.199      0.111      0.436      0.241      0.192       0.11\n",
            "\n",
            "      Epoch    GPU_mem   box_loss   seg_loss   cls_loss   dfl_loss  Instances       Size\n",
            "     97/100      3.34G      1.569      2.381      1.662      1.589        182        640: 100% 88/88 [00:09<00:00,  9.47it/s]\n",
            "                 Class     Images  Instances      Box(P          R      mAP50  mAP50-95)     Mask(P          R      mAP50  mAP50-95): 100% 19/19 [00:02<00:00,  7.37it/s]\n",
            "                   all        302       4210      0.411      0.237      0.196      0.111      0.411      0.238      0.191       0.11\n",
            "\n",
            "      Epoch    GPU_mem   box_loss   seg_loss   cls_loss   dfl_loss  Instances       Size\n",
            "     98/100      3.44G      1.572      2.408      1.672      1.595        116        640: 100% 88/88 [00:09<00:00,  9.33it/s]\n",
            "                 Class     Images  Instances      Box(P          R      mAP50  mAP50-95)     Mask(P          R      mAP50  mAP50-95): 100% 19/19 [00:02<00:00,  7.40it/s]\n",
            "                   all        302       4210      0.389      0.229      0.198       0.11      0.389      0.228      0.192       0.11\n",
            "\n",
            "      Epoch    GPU_mem   box_loss   seg_loss   cls_loss   dfl_loss  Instances       Size\n",
            "     99/100      3.52G      1.579      2.388      1.674      1.596        192        640: 100% 88/88 [00:09<00:00,  9.33it/s]\n",
            "                 Class     Images  Instances      Box(P          R      mAP50  mAP50-95)     Mask(P          R      mAP50  mAP50-95): 100% 19/19 [00:02<00:00,  7.32it/s]\n",
            "                   all        302       4210      0.398      0.234      0.198      0.111      0.397      0.234      0.192       0.11\n",
            "\n",
            "      Epoch    GPU_mem   box_loss   seg_loss   cls_loss   dfl_loss  Instances       Size\n",
            "    100/100      3.49G      1.597      2.432      1.684      1.602        116        640: 100% 88/88 [00:09<00:00,  8.97it/s]\n",
            "                 Class     Images  Instances      Box(P          R      mAP50  mAP50-95)     Mask(P          R      mAP50  mAP50-95): 100% 19/19 [00:02<00:00,  7.30it/s]\n",
            "                   all        302       4210      0.392      0.232      0.198      0.111      0.391      0.232      0.192       0.11\n",
            "\n",
            "100 epochs completed in 0.365 hours.\n",
            "Optimizer stripped from runs/train/raw6/weights/last.pt, 22.8MB\n",
            "Optimizer stripped from runs/train/raw6/weights/best.pt, 22.8MB\n",
            "\n",
            "Validating runs/train/raw6/weights/best.pt...\n",
            "Ultralytics YOLOv8.2.94 🚀 Python-3.10.12 torch-2.4.1+cu121 CUDA:0 (NVIDIA A100-SXM4-40GB, 40514MiB)\n",
            "YOLOv8-bifpn summary (fused): 215 layers, 11,229,453 parameters, 0 gradients, 43.5 GFLOPs\n",
            "                 Class     Images  Instances      Box(P          R      mAP50  mAP50-95)     Mask(P          R      mAP50  mAP50-95): 100% 19/19 [00:05<00:00,  3.67it/s]\n",
            "                   all        302       4210      0.411      0.239      0.199      0.111      0.411      0.238      0.191       0.11\n",
            "           accessories         72         95      0.273      0.137      0.121     0.0507      0.295      0.147      0.127     0.0589\n",
            "                   bag        117        174      0.332      0.374      0.286      0.152      0.342      0.385      0.294      0.169\n",
            "                  belt         63         80      0.153      0.138      0.115     0.0371      0.195      0.175      0.129     0.0392\n",
            "                blazer         27         72      0.249      0.153     0.0832     0.0484      0.249      0.153     0.0791     0.0381\n",
            "                blouse         81        134      0.264      0.192      0.134     0.0707      0.274        0.2      0.132     0.0739\n",
            "                 boots         18         28      0.134      0.179     0.0812     0.0465      0.134      0.179     0.0824     0.0554\n",
            "              bracelet         24         29          0          0     0.0214    0.00976          0          0     0.0237    0.00904\n",
            "                  cape          4         10      0.301        0.1     0.0524      0.046      0.301        0.1     0.0524     0.0268\n",
            "                  coat         66        148      0.255      0.497      0.299       0.18      0.244      0.477      0.284      0.171\n",
            "                 dress         80        108      0.344      0.546      0.412      0.238      0.332      0.528      0.404       0.24\n",
            "                  hair        290        394      0.565       0.68      0.666       0.36      0.542      0.652      0.634      0.292\n",
            "                   hat         34         38       0.35      0.553       0.42      0.174      0.316        0.5      0.341      0.151\n",
            "                 heels          7         12          1          0     0.0145    0.00741          1          0     0.0145    0.00754\n",
            "                hoodie          1          1          1          0          0          0          1          0          0          0\n",
            "                jacket         20         38      0.138       0.24      0.145     0.0819      0.138       0.24      0.141     0.0799\n",
            "                 jeans         44         65      0.335      0.585      0.427      0.297      0.308      0.538      0.387      0.283\n",
            "                jumper          3          4          1          0    0.00628    0.00518          1          0    0.00628     0.0044\n",
            "              leggings         17         25      0.259       0.24      0.231      0.134      0.259       0.24      0.225      0.148\n",
            "               loafers          5          8          0          0     0.0708     0.0437          0          0     0.0708     0.0302\n",
            "              necklace         11         14          1          0          0          0          1          0          0          0\n",
            "                 pants         87        124      0.406      0.589      0.547      0.404      0.395      0.573      0.532      0.375\n",
            "                 purse         77        128      0.254       0.18      0.119     0.0605      0.265      0.188      0.127     0.0637\n",
            "                romper          6         14          0          0     0.0127    0.00541          0          0     0.0127    0.00688\n",
            "               sandals         19         41      0.173      0.146      0.111     0.0571      0.115     0.0976     0.0644     0.0396\n",
            "                 scarf         22         36      0.185     0.0322     0.0301      0.015      0.185     0.0322     0.0293     0.0159\n",
            "                 shirt         59         97      0.277      0.175      0.157     0.0911      0.294      0.186       0.17      0.105\n",
            "                 shoes        235        442      0.395      0.697      0.571      0.322      0.407      0.717      0.579       0.33\n",
            "                shorts         20         23      0.343      0.304      0.379      0.253      0.343      0.304      0.361      0.238\n",
            "                  skin        301       1304      0.525      0.791      0.744      0.436      0.525      0.791      0.748      0.467\n",
            "                 skirt         53         68      0.312      0.412      0.282      0.182      0.312      0.412      0.283      0.182\n",
            "              sneakers          4          7          0          0     0.0197     0.0158          0          0     0.0197     0.0149\n",
            "                 socks         23         43      0.706      0.209      0.245       0.12      0.785      0.233      0.269      0.119\n",
            "             stockings         22         38      0.299      0.684      0.364      0.192      0.311      0.711      0.367      0.236\n",
            "                  suit         32         64      0.283      0.359      0.284      0.179      0.283      0.359      0.281      0.175\n",
            "            sunglasses         93        128      0.401      0.344      0.283      0.105      0.456      0.391      0.316      0.123\n",
            "               sweater         35         56      0.137      0.125     0.0696     0.0368      0.137      0.125     0.0645     0.0317\n",
            "               t-shirt         27         42      0.236      0.262      0.137     0.0696      0.236      0.262      0.134     0.0697\n",
            "                   tie          7          7          1          0       0.19     0.0414          1          0     0.0429     0.0154\n",
            "                tights          3          3          1          0          0          0          1          0          0          0\n",
            "                   top         20         26          1          0     0.0818     0.0422          1          0     0.0818     0.0581\n",
            "                  vest         25         33       0.38      0.121      0.136     0.0726      0.285     0.0909      0.109     0.0727\n",
            "                 watch          9          9          1          0    0.00677    0.00135          1          0     0.0154    0.00441\n",
            "Speed: 0.1ms preprocess, 1.7ms inference, 0.0ms loss, 2.0ms postprocess per image\n",
            "Results saved to \u001b[1mruns/train/raw6\u001b[0m\n"
          ]
        }
      ],
      "source": [
        "#reference:About UTF-8 from:https://github.com/googlecolab/colabtools/issues/3409\n",
        "import locale\n",
        "locale.getpreferredencoding = lambda: \"UTF-8\"\n",
        "\n",
        "!python /content/ultralytics/train.py #epoch=100"
      ]
    }
  ],
  "metadata": {
    "accelerator": "GPU",
    "colab": {
      "gpuType": "A100",
      "machine_shape": "hm",
      "provenance": []
    },
    "kernelspec": {
      "display_name": "Python 3",
      "name": "python3"
    },
    "language_info": {
      "name": "python"
    }
  },
  "nbformat": 4,
  "nbformat_minor": 0
}
